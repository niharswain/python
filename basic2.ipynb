{
 "cells": [
  {
   "cell_type": "markdown",
   "id": "4d92527b",
   "metadata": {},
   "source": [
    "# conditional Logic\n",
    "    - booleans are very very important for conditional logic"
   ]
  },
  {
   "cell_type": "code",
   "execution_count": 7,
   "id": "f5110f98",
   "metadata": {},
   "outputs": [
    {
     "name": "stdout",
     "output_type": "stream",
     "text": [
      "success\n",
      "out of if block\n"
     ]
    }
   ],
   "source": [
    "is_old = True\n",
    "is_licensed = True\n",
    "condition=True\n",
    "\n",
    "if condition:\n",
    "    \n",
    "    print('success')\n",
    "\n",
    "print (\"out of if block\")"
   ]
  },
  {
   "cell_type": "raw",
   "id": "ed737c08",
   "metadata": {},
   "source": [
    "if condition1 or/and condition2:\n",
    "    statement\n",
    "elif:condition 3\n",
    "    statement\n",
    "elif:condition 4\n",
    "    statement\n",
    "else:\n",
    "    stamenet"
   ]
  },
  {
   "cell_type": "code",
   "execution_count": 10,
   "id": "005f4ac9",
   "metadata": {},
   "outputs": [
    {
     "name": "stdout",
     "output_type": "stream",
     "text": [
      "you are old enough to drive!\n"
     ]
    }
   ],
   "source": [
    "is_old = True\n",
    "is_licensed = True\n",
    "\n",
    "if is_old:\n",
    "    print('you are old enough to drive!')\n",
    "elif is_licensed:\n",
    "    print('you can drive now')\n",
    "else:\n",
    "    print('not in comndition')"
   ]
  },
  {
   "cell_type": "code",
   "execution_count": 11,
   "id": "5a65e6cd",
   "metadata": {},
   "outputs": [
    {
     "name": "stdout",
     "output_type": "stream",
     "text": [
      "you aere old enough to drive an you have license\n"
     ]
    }
   ],
   "source": [
    "is_old = True\n",
    "is_licensed = True\n",
    "\n",
    "if is_old and is_licensed:\n",
    "    print ('you aere old enough to drive an you have license')\n",
    "else:\n",
    "    print ('you are not of age')"
   ]
  },
  {
   "cell_type": "code",
   "execution_count": 12,
   "id": "e9031cee",
   "metadata": {},
   "outputs": [
    {
     "name": "stdout",
     "output_type": "stream",
     "text": [
      "messega allowed\n"
     ]
    }
   ],
   "source": [
    "# Ternary operator / Conditional expressions\n",
    "\n",
    "# condition_if_true if condition else condition_if_else\n",
    "\n",
    "is_friend = True\n",
    "can_message = \"messega allowed\" if is_friend else \"now allowed to message\"\n",
    "\n",
    "print(can_message)"
   ]
  },
  {
   "cell_type": "markdown",
   "id": "2dffd46a",
   "metadata": {},
   "source": [
    "# Logical Operator\n",
    "    >\n",
    "    <\n",
    "    ==\n",
    "    >=\n",
    "    <=\n",
    "    !=\n",
    "    not"
   ]
  },
  {
   "cell_type": "code",
   "execution_count": 19,
   "id": "6af2d12c",
   "metadata": {},
   "outputs": [
    {
     "name": "stdout",
     "output_type": "stream",
     "text": [
      "False\n",
      "True\n",
      "True\n",
      "False\n",
      "True\n",
      "True\n"
     ]
    }
   ],
   "source": [
    "print(4>5)\n",
    "print (\"a\" > \"A\")\n",
    "print(\"Hello\" > \"Hell\")\n",
    "print(4==5)\n",
    "print(1>=0)\n",
    "print(1<2<3<4==4)\n",
    "\n"
   ]
  },
  {
   "cell_type": "code",
   "execution_count": 22,
   "id": "edea9119",
   "metadata": {},
   "outputs": [
    {
     "name": "stdout",
     "output_type": "stream",
     "text": [
      "True\n",
      "False\n"
     ]
    }
   ],
   "source": [
    "print(not(False))\n",
    "print(not(True))"
   ]
  },
  {
   "cell_type": "code",
   "execution_count": 27,
   "id": "8d061b7a",
   "metadata": {},
   "outputs": [
    {
     "name": "stdout",
     "output_type": "stream",
     "text": [
      "at least you are gettig there\n"
     ]
    }
   ],
   "source": [
    "# check if magician and expert is true, print you are a master magician\n",
    "# check if magican but not expert: at least you are getting there\n",
    "# if you are not a magician  you need magic powers\n",
    "\n",
    "is_magician = True\n",
    "is_expert = False\n",
    "\n",
    "if is_magician and is_expert:\n",
    "    print('you are a master magician')\n",
    "elif is_magician and not is_expert:\n",
    "    print('at least you are gettig there')\n",
    "elif not is_magician:\n",
    "    print('you are anot a magician, you need powers')"
   ]
  },
  {
   "cell_type": "markdown",
   "id": "ecff771f",
   "metadata": {},
   "source": [
    "## is vs ==\n",
    "    - == checks the values\n",
    "    - is checks the memory space"
   ]
  },
  {
   "cell_type": "code",
   "execution_count": 34,
   "id": "42285ec4",
   "metadata": {},
   "outputs": [
    {
     "name": "stdout",
     "output_type": "stream",
     "text": [
      "True\n",
      "False\n",
      "False\n",
      "True\n",
      "True\n"
     ]
    }
   ],
   "source": [
    "print (True == 1)\n",
    "print(''==1)\n",
    "print([]==1)\n",
    "print(10==10.0)\n",
    "print([1,2,3]==[1,2,3])"
   ]
  },
  {
   "cell_type": "code",
   "execution_count": 38,
   "id": "82c13950",
   "metadata": {},
   "outputs": [
    {
     "name": "stdout",
     "output_type": "stream",
     "text": [
      "True\n",
      "True\n",
      "False\n",
      "False\n",
      "False\n"
     ]
    },
    {
     "name": "stderr",
     "output_type": "stream",
     "text": [
      "<>:2: SyntaxWarning: \"is\" with a literal. Did you mean \"==\"?\n",
      "<>:3: SyntaxWarning: \"is\" with a literal. Did you mean \"==\"?\n",
      "<>:4: SyntaxWarning: \"is\" with a literal. Did you mean \"==\"?\n",
      "<>:2: SyntaxWarning: \"is\" with a literal. Did you mean \"==\"?\n",
      "<>:3: SyntaxWarning: \"is\" with a literal. Did you mean \"==\"?\n",
      "<>:4: SyntaxWarning: \"is\" with a literal. Did you mean \"==\"?\n",
      "C:\\Users\\nihar\\AppData\\Local\\Temp\\ipykernel_12544\\2076509418.py:2: SyntaxWarning: \"is\" with a literal. Did you mean \"==\"?\n",
      "  print('1' is '1')\n",
      "C:\\Users\\nihar\\AppData\\Local\\Temp\\ipykernel_12544\\2076509418.py:3: SyntaxWarning: \"is\" with a literal. Did you mean \"==\"?\n",
      "  print([] is 1)\n",
      "C:\\Users\\nihar\\AppData\\Local\\Temp\\ipykernel_12544\\2076509418.py:4: SyntaxWarning: \"is\" with a literal. Did you mean \"==\"?\n",
      "  print(10 is 10.0)\n"
     ]
    }
   ],
   "source": [
    "print (True is True)\n",
    "print('1' is '1')\n",
    "print([] is 1)\n",
    "print(10 is 10.0)\n",
    "print([1,2,3] is [1,2,3])"
   ]
  },
  {
   "cell_type": "markdown",
   "id": "6b39f8b9",
   "metadata": {},
   "source": [
    "# Loops"
   ]
  },
  {
   "cell_type": "code",
   "execution_count": 40,
   "id": "57eb3577",
   "metadata": {},
   "outputs": [
    {
     "name": "stdout",
     "output_type": "stream",
     "text": [
      "z\n",
      "e\n",
      "r\n",
      "o\n",
      " \n",
      "t\n",
      "o\n",
      " \n",
      "m\n",
      "a\n",
      "s\n",
      "t\n",
      "e\n",
      "r\n",
      "y\n"
     ]
    }
   ],
   "source": [
    "for item in 'zero to mastery':\n",
    "    print(item)"
   ]
  },
  {
   "cell_type": "code",
   "execution_count": 41,
   "id": "e940c8c5",
   "metadata": {},
   "outputs": [
    {
     "name": "stdout",
     "output_type": "stream",
     "text": [
      "1\n",
      "2\n",
      "3\n",
      "4\n",
      "5\n"
     ]
    }
   ],
   "source": [
    "for item in [1,2,3,4,5]: # works in LIST\n",
    "    print(item)"
   ]
  },
  {
   "cell_type": "code",
   "execution_count": 42,
   "id": "946c7a89",
   "metadata": {},
   "outputs": [
    {
     "name": "stdout",
     "output_type": "stream",
     "text": [
      "1\n",
      "2\n",
      "3\n",
      "4\n"
     ]
    }
   ],
   "source": [
    "for item in {1,2,3,4}: # works in set\n",
    "    print (item)"
   ]
  },
  {
   "cell_type": "code",
   "execution_count": 43,
   "id": "d1fa0892",
   "metadata": {},
   "outputs": [
    {
     "name": "stdout",
     "output_type": "stream",
     "text": [
      "1\n",
      "2\n",
      "3\n"
     ]
    }
   ],
   "source": [
    "for item in (1,2,3):    # works in tuple\n",
    "    print (item)"
   ]
  },
  {
   "cell_type": "code",
   "execution_count": 45,
   "id": "af3bf7e8",
   "metadata": {},
   "outputs": [
    {
     "name": "stdout",
     "output_type": "stream",
     "text": [
      "1\n",
      "1\n",
      "1\n",
      "2\n",
      "2\n",
      "2\n",
      "3\n",
      "3\n",
      "3\n",
      "hi!\n"
     ]
    }
   ],
   "source": [
    "for item in (1,2,3):\n",
    "    print(item)\n",
    "    print(item)\n",
    "    print(item)\n",
    "print('hi!')"
   ]
  },
  {
   "cell_type": "code",
   "execution_count": 46,
   "id": "9d6302e9",
   "metadata": {},
   "outputs": [
    {
     "name": "stdout",
     "output_type": "stream",
     "text": [
      "1\n",
      "1\n",
      "1\n",
      "2\n",
      "2\n",
      "2\n",
      "3\n",
      "3\n",
      "3\n",
      "3\n"
     ]
    }
   ],
   "source": [
    "for item in (1,2,3):\n",
    "    print(item)\n",
    "    print(item)\n",
    "    print(item)\n",
    "print(item)"
   ]
  },
  {
   "cell_type": "code",
   "execution_count": 47,
   "id": "5335f80a",
   "metadata": {},
   "outputs": [
    {
     "name": "stdout",
     "output_type": "stream",
     "text": [
      "1 a\n",
      "1 b\n",
      "1 c\n",
      "2 a\n",
      "2 b\n",
      "2 c\n",
      "3 a\n",
      "3 b\n",
      "3 c\n",
      "4 a\n",
      "4 b\n",
      "4 c\n",
      "5 a\n",
      "5 b\n",
      "5 c\n"
     ]
    }
   ],
   "source": [
    "for item in (1,2,3,4,5):\n",
    "    for x in ['a','b','c']:\n",
    "        print(item,x)"
   ]
  },
  {
   "cell_type": "markdown",
   "id": "954ce99f",
   "metadata": {},
   "source": [
    "## Iterables \n",
    "    - iterable is an object which can be iterated  over\n",
    "    - Iterable can be a list, dictionary,tuple,set\n",
    "    - iterated -> one by one check each item in the collection \n",
    "    "
   ]
  },
  {
   "cell_type": "code",
   "execution_count": 49,
   "id": "485865ab",
   "metadata": {},
   "outputs": [
    {
     "name": "stdout",
     "output_type": "stream",
     "text": [
      "name\n",
      "age\n",
      "can_swim\n"
     ]
    }
   ],
   "source": [
    "user={\n",
    "    'name':'Golem',\n",
    "    'age':5006,\n",
    "    'can_swim':False\n",
    "}\n",
    "\n",
    "for item in user:\n",
    "    print(item)"
   ]
  },
  {
   "cell_type": "code",
   "execution_count": 52,
   "id": "c9132540",
   "metadata": {},
   "outputs": [
    {
     "name": "stdout",
     "output_type": "stream",
     "text": [
      "('name', 'Golem')\n",
      "('age', 5006)\n",
      "('can_swim', False)\n",
      "Golem\n",
      "5006\n",
      "False\n",
      "name\n",
      "age\n",
      "can_swim\n"
     ]
    }
   ],
   "source": [
    "user={\n",
    "    'name':'Golem',\n",
    "    'age':5006,\n",
    "    'can_swim':False\n",
    "}\n",
    "\n",
    "for item in user.items():\n",
    "    print(item)\n",
    "\n",
    "for item in user.values():\n",
    "    print(item)\n",
    "    \n",
    "for item in user.keys():\n",
    "    print(item)"
   ]
  },
  {
   "cell_type": "code",
   "execution_count": 57,
   "id": "7353624d",
   "metadata": {},
   "outputs": [
    {
     "name": "stdout",
     "output_type": "stream",
     "text": [
      "name Golem\n",
      "age 5006\n",
      "can_swim False\n"
     ]
    }
   ],
   "source": [
    "user={\n",
    "    'name':'Golem',\n",
    "    'age':5006,\n",
    "    'can_swim':False\n",
    "}\n",
    "\n",
    "for key, value in user.items():\n",
    "    print(key,value)"
   ]
  },
  {
   "cell_type": "code",
   "execution_count": 62,
   "id": "0ec2826e",
   "metadata": {},
   "outputs": [
    {
     "name": "stdout",
     "output_type": "stream",
     "text": [
      "count is 55\n"
     ]
    }
   ],
   "source": [
    "# sum of the my list numbers\n",
    "\n",
    "my_list=[1,2,3,4,5,6,7,8,9,10]\n",
    "count=0\n",
    "for item in my_list:\n",
    "    count=count+item\n",
    "    \n",
    "print(\"count is\" ,count)"
   ]
  },
  {
   "cell_type": "code",
   "execution_count": 63,
   "id": "ac3c9bac",
   "metadata": {},
   "outputs": [],
   "source": [
    "#range()\n",
    "    - range() function returns a sequence of number, starting from 0 by default and increments by 1 by default and stops\n",
    "    before a specified number.\n",
    "    - retuen an object that produces a sequences of integers from start to stop by step. "
   ]
  },
  {
   "cell_type": "code",
   "execution_count": 66,
   "id": "73e0a467",
   "metadata": {},
   "outputs": [
    {
     "name": "stdout",
     "output_type": "stream",
     "text": [
      "range(0, 100)\n"
     ]
    }
   ],
   "source": [
    "print(range(100))"
   ]
  },
  {
   "cell_type": "code",
   "execution_count": 67,
   "id": "78d76087",
   "metadata": {},
   "outputs": [
    {
     "name": "stdout",
     "output_type": "stream",
     "text": [
      "range(0, 100)\n"
     ]
    }
   ],
   "source": [
    "print(range(0,100))"
   ]
  },
  {
   "cell_type": "code",
   "execution_count": 69,
   "id": "f28bd9cd",
   "metadata": {},
   "outputs": [
    {
     "name": "stdout",
     "output_type": "stream",
     "text": [
      "0\n",
      "1\n",
      "2\n",
      "3\n",
      "4\n",
      "5\n",
      "6\n",
      "7\n",
      "8\n",
      "9\n"
     ]
    }
   ],
   "source": [
    "for number in range(0,10):\n",
    "    print(number)"
   ]
  },
  {
   "cell_type": "code",
   "execution_count": 70,
   "id": "0711ddc2",
   "metadata": {},
   "outputs": [
    {
     "name": "stdout",
     "output_type": "stream",
     "text": [
      "0\n",
      "1\n",
      "2\n",
      "3\n",
      "4\n",
      "5\n",
      "6\n",
      "7\n",
      "8\n",
      "9\n"
     ]
    }
   ],
   "source": [
    "for _ in range(0,10):\n",
    "    print(_)"
   ]
  },
  {
   "cell_type": "code",
   "execution_count": 71,
   "id": "2104cdff",
   "metadata": {},
   "outputs": [
    {
     "name": "stdout",
     "output_type": "stream",
     "text": [
      "0\n",
      "2\n",
      "4\n",
      "6\n",
      "8\n"
     ]
    }
   ],
   "source": [
    "for _ in range(0,10,2):#step over by 2\n",
    "    print(_)"
   ]
  },
  {
   "cell_type": "code",
   "execution_count": 73,
   "id": "9c72b94c",
   "metadata": {},
   "outputs": [
    {
     "name": "stdout",
     "output_type": "stream",
     "text": [
      "[0, 1, 2, 3, 4, 5, 6, 7, 8, 9]\n",
      "[0, 1, 2, 3, 4, 5, 6, 7, 8, 9]\n"
     ]
    }
   ],
   "source": [
    "for _ in range(2):  # ramnge of two meand, it will iterate two times\n",
    "    print(list(range(0,10))) # it will convert range into a list"
   ]
  },
  {
   "cell_type": "code",
   "execution_count": null,
   "id": "6818258c",
   "metadata": {},
   "outputs": [],
   "source": [
    "# enumerate ()\n",
    "    - returns an enumerate object"
   ]
  },
  {
   "cell_type": "code",
   "execution_count": 74,
   "id": "52ab159a",
   "metadata": {},
   "outputs": [
    {
     "name": "stdout",
     "output_type": "stream",
     "text": [
      "0 H\n",
      "1 e\n",
      "2 l\n",
      "3 l\n",
      "4 l\n",
      "5 o\n",
      "6 o\n",
      "7 o\n"
     ]
    }
   ],
   "source": [
    "for i,char in enumerate('Helllooo'):\n",
    "    print(i,char)"
   ]
  },
  {
   "cell_type": "code",
   "execution_count": 77,
   "id": "bc0dc3a8",
   "metadata": {},
   "outputs": [
    {
     "name": "stdout",
     "output_type": "stream",
     "text": [
      "0 a\n",
      "1 b\n",
      "2 c\n",
      "3 d\n",
      "4 e\n",
      "5 f\n",
      "6 g\n"
     ]
    }
   ],
   "source": [
    "for i,char in enumerate(['a','b','c','d','e','f','g']):\n",
    "    print(i,char)"
   ]
  },
  {
   "cell_type": "code",
   "execution_count": 81,
   "id": "fd28303c",
   "metadata": {},
   "outputs": [
    {
     "name": "stdout",
     "output_type": "stream",
     "text": [
      "0 0\n",
      "1 1\n",
      "2 2\n",
      "3 3\n",
      "4 4\n"
     ]
    }
   ],
   "source": [
    "# find out of index of 3\n",
    "for i,char in enumerate(list(range(5))):\n",
    "    print(i,char)\n",
    "   "
   ]
  },
  {
   "cell_type": "code",
   "execution_count": 82,
   "id": "b9c4261e",
   "metadata": {},
   "outputs": [
    {
     "name": "stdout",
     "output_type": "stream",
     "text": [
      "index of 3 is:3\n"
     ]
    }
   ],
   "source": [
    "# find out of index of 3\n",
    "for i,char in enumerate(list(range(5))):\n",
    "    if char==3:\n",
    "        print(f'index of 3 is:{i}')"
   ]
  },
  {
   "cell_type": "markdown",
   "id": "fefa50e9",
   "metadata": {},
   "source": [
    "# While loops\n",
    "    while condition:\n",
    "        do something"
   ]
  },
  {
   "cell_type": "code",
   "execution_count": null,
   "id": "9377c10e",
   "metadata": {},
   "outputs": [],
   "source": [
    "i=0\n",
    "while i<5:\n",
    "    print(i)  # this will create a infinite loop.\n",
    "\n",
    "    # because i is alwasy less than 5 and so condition will never break. To break this use break"
   ]
  },
  {
   "cell_type": "code",
   "execution_count": 85,
   "id": "21c8cdba",
   "metadata": {},
   "outputs": [
    {
     "name": "stdout",
     "output_type": "stream",
     "text": [
      "0\n"
     ]
    }
   ],
   "source": [
    "i=0\n",
    "while i<50:\n",
    "    print(i)\n",
    "    break"
   ]
  },
  {
   "cell_type": "code",
   "execution_count": 86,
   "id": "0dff047f",
   "metadata": {},
   "outputs": [
    {
     "name": "stdout",
     "output_type": "stream",
     "text": [
      "0\n",
      "1\n",
      "2\n",
      "3\n",
      "4\n"
     ]
    }
   ],
   "source": [
    "i=0\n",
    "while i<5:\n",
    "    print(i)\n",
    "    i=i+1\n"
   ]
  },
  {
   "cell_type": "code",
   "execution_count": 87,
   "id": "411f8126",
   "metadata": {},
   "outputs": [
    {
     "name": "stdout",
     "output_type": "stream",
     "text": [
      "0\n",
      "1\n",
      "2\n",
      "3\n",
      "4\n",
      "done with all the work\n"
     ]
    }
   ],
   "source": [
    "i=0\n",
    "while i<5:\n",
    "    print(i)\n",
    "    i=i+1\n",
    "else:\n",
    "    print('done with all the work')"
   ]
  },
  {
   "cell_type": "code",
   "execution_count": 88,
   "id": "c110827d",
   "metadata": {},
   "outputs": [
    {
     "name": "stdout",
     "output_type": "stream",
     "text": [
      "0\n"
     ]
    }
   ],
   "source": [
    "i=0\n",
    "while i<5:\n",
    "    print(i)\n",
    "    i=i+1\n",
    "    break   # it will break in the forst iteration\n",
    "else:\n",
    "    print('done with all the work')"
   ]
  },
  {
   "cell_type": "code",
   "execution_count": 89,
   "id": "478193a0",
   "metadata": {},
   "outputs": [
    {
     "name": "stdout",
     "output_type": "stream",
     "text": [
      "1\n",
      "2\n",
      "3\n"
     ]
    }
   ],
   "source": [
    "my_list=[1,2,3]\n",
    "for item in my_list:\n",
    "    print(item)"
   ]
  },
  {
   "cell_type": "code",
   "execution_count": 92,
   "id": "7332ab4e",
   "metadata": {},
   "outputs": [
    {
     "name": "stdout",
     "output_type": "stream",
     "text": [
      "1\n",
      "2\n",
      "3\n"
     ]
    }
   ],
   "source": [
    "my_list=[1,2,3]\n",
    "i=0\n",
    "while i< len(my_list):\n",
    "    print (my_list[i])\n",
    "    i=i+1"
   ]
  },
  {
   "cell_type": "code",
   "execution_count": 93,
   "id": "a4522301",
   "metadata": {},
   "outputs": [
    {
     "name": "stdout",
     "output_type": "stream",
     "text": [
      "say something: hi\n",
      "say something: hi\n",
      "say something: bye\n"
     ]
    }
   ],
   "source": [
    "while True:\n",
    "    response=input('say something: ')\n",
    "    if (response == 'bye'):\n",
    "        break"
   ]
  },
  {
   "cell_type": "code",
   "execution_count": 94,
   "id": "a3d875bf",
   "metadata": {},
   "outputs": [],
   "source": [
    "# Break , continue, Pass"
   ]
  },
  {
   "cell_type": "code",
   "execution_count": 95,
   "id": "6514790e",
   "metadata": {},
   "outputs": [],
   "source": [
    "# break keyword works in while and for loop\n",
    "# The continue keyword is used to end the current iteration in a for loop (or a while loop), and continues to the next iteration.\n",
    "# Pass does nothing. "
   ]
  },
  {
   "cell_type": "code",
   "execution_count": 97,
   "id": "d0504914",
   "metadata": {},
   "outputs": [],
   "source": [
    "my_list=[1,2,3]\n",
    "for item in my_list:\n",
    "    continue       #it will not print because it will not go to line print(item), it will conitune to start iteration\n",
    "    print(item)"
   ]
  },
  {
   "cell_type": "code",
   "execution_count": 105,
   "id": "ea38c7b7",
   "metadata": {},
   "outputs": [
    {
     "name": "stdout",
     "output_type": "stream",
     "text": [
      "   *   \n",
      "  ***  \n",
      " ***** \n",
      "*******\n",
      "   *   \n",
      "   *   \n"
     ]
    }
   ],
   "source": [
    "# display empty space for 0 , * for 1\n",
    "picture = [\n",
    "[0,0,0,1,0,0,0],\n",
    "[0,0,1,1,1,0,0],\n",
    "[0,1,1,1,1,1,0],\n",
    "[1,1,1,1,1,1,1],\n",
    "[0,0,0,1,0,0,0],\n",
    "[0,0,0,1,0,0,0]\n",
    "]\n",
    "\n",
    "for row in picture:\n",
    "    for pixel in row:\n",
    "        if (pixel == 1):\n",
    "            print('*', end='')\n",
    "        else:\n",
    "            print(' ', end='')\n",
    "    print('')\n"
   ]
  },
  {
   "cell_type": "code",
   "execution_count": 110,
   "id": "e720b068",
   "metadata": {},
   "outputs": [
    {
     "name": "stdout",
     "output_type": "stream",
     "text": [
      "['b', 'n']\n"
     ]
    }
   ],
   "source": [
    "# find the duplicate values  in list\n",
    "some_list = ['a','b','c','b','d','m','n','n']\n",
    "\n",
    "duplicates = []\n",
    "for value in some_list:\n",
    "    if some_list.count(value) >1:\n",
    "        if value not in duplicates:\n",
    "            duplicates.append(value)\n",
    "        \n",
    "        \n",
    "print(duplicates)"
   ]
  },
  {
   "cell_type": "markdown",
   "id": "334bccdb",
   "metadata": {},
   "source": [
    "# Functions\n",
    "    def function_name():\n",
    "        statements\n"
   ]
  },
  {
   "cell_type": "code",
   "execution_count": 115,
   "id": "1259f02d",
   "metadata": {},
   "outputs": [
    {
     "name": "stdout",
     "output_type": "stream",
     "text": [
      "helllooooo\n"
     ]
    }
   ],
   "source": [
    "def say_hello():\n",
    "    print('helllooooo')\n",
    "\n",
    "say_hello()"
   ]
  },
  {
   "cell_type": "code",
   "execution_count": 116,
   "id": "978c10a6",
   "metadata": {},
   "outputs": [
    {
     "data": {
      "text/plain": [
       "<function __main__.say_hello()>"
      ]
     },
     "execution_count": 116,
     "metadata": {},
     "output_type": "execute_result"
    }
   ],
   "source": [
    "def say_hello():\n",
    "    print('helllooooo')\n",
    "\n",
    "say_hello       # wont work without bracket ()"
   ]
  },
  {
   "cell_type": "code",
   "execution_count": 119,
   "id": "7f4786e3",
   "metadata": {},
   "outputs": [
    {
     "name": "stdout",
     "output_type": "stream",
     "text": [
      "   *   \n",
      "  ***  \n",
      " ***** \n",
      "*******\n",
      "   *   \n",
      "   *   \n",
      "   *   \n",
      "  ***  \n",
      " ***** \n",
      "*******\n",
      "   *   \n",
      "   *   \n",
      "<function show_tree at 0x0000019EE81EA680>\n"
     ]
    }
   ],
   "source": [
    "picture = [\n",
    "[0,0,0,1,0,0,0],\n",
    "[0,0,1,1,1,0,0],\n",
    "[0,1,1,1,1,1,0],\n",
    "[1,1,1,1,1,1,1],\n",
    "[0,0,0,1,0,0,0],\n",
    "[0,0,0,1,0,0,0]\n",
    "]\n",
    "\n",
    "def show_tree():\n",
    "    for row in picture:\n",
    "        for pixel in row:\n",
    "            if (pixel == 1):\n",
    "                print('*', end='')\n",
    "            else:\n",
    "                print(' ', end='')\n",
    "        print('')\n",
    "\n",
    "show_tree()\n",
    "show_tree()\n",
    "print(show_tree)  # print memory address where the show tree function is stored"
   ]
  },
  {
   "cell_type": "code",
   "execution_count": 129,
   "id": "3a00dd35",
   "metadata": {},
   "outputs": [
    {
     "name": "stdout",
     "output_type": "stream",
     "text": [
      "hello Andrei :)\n",
      "hello John :)\n",
      "hello :( roy\n"
     ]
    }
   ],
   "source": [
    "# Parameters and aruuments\n",
    "\n",
    "def say_hello(name,emoji):  # its called positional parameters\n",
    "    print(f'hello {name} {emoji}')\n",
    "\n",
    "#arguments : its used as actual values in the function. This is called positional argumeny\n",
    "\n",
    "say_hello('Andrei',':)')\n",
    "say_hello('John',':)')\n",
    "say_hello(':(','roy')"
   ]
  },
  {
   "cell_type": "code",
   "execution_count": 130,
   "id": "44dae181",
   "metadata": {},
   "outputs": [
    {
     "name": "stdout",
     "output_type": "stream",
     "text": [
      "hello Ryan :)\n"
     ]
    }
   ],
   "source": [
    "# keyword arguments # not use full\n",
    "def say_hello(name,emoji):\n",
    "    print(f'hello {name} {emoji}')\n",
    "    \n",
    "say_hello(name=\"Ryan\",emoji=':)')"
   ]
  },
  {
   "cell_type": "code",
   "execution_count": 6,
   "id": "25bfdd00",
   "metadata": {},
   "outputs": [
    {
     "name": "stdout",
     "output_type": "stream",
     "text": [
      "hi\n",
      "None\n"
     ]
    }
   ],
   "source": [
    "# function wants to return something, if return is not there. It owuld return NONE\n",
    "def sum(num, num2):\n",
    "    print('hi')\n",
    "\n",
    "print(sum(10,5))"
   ]
  },
  {
   "cell_type": "code",
   "execution_count": 5,
   "id": "87564636",
   "metadata": {},
   "outputs": [
    {
     "name": "stdout",
     "output_type": "stream",
     "text": [
      "hi\n",
      "15\n"
     ]
    }
   ],
   "source": [
    "def sum(num1, num2):\n",
    "    print('hi')\n",
    "    return (num1+num2)\n",
    "\n",
    "print(sum(10,5))"
   ]
  },
  {
   "cell_type": "code",
   "execution_count": 7,
   "id": "2d0c8837",
   "metadata": {},
   "outputs": [
    {
     "name": "stdout",
     "output_type": "stream",
     "text": [
      "25\n"
     ]
    }
   ],
   "source": [
    "def sum(num1, num2):\n",
    "    return num1+num2\n",
    "\n",
    "total=sum(5,10)\n",
    "print(sum(10,total))"
   ]
  },
  {
   "cell_type": "code",
   "execution_count": 15,
   "id": "2d2d8db5",
   "metadata": {},
   "outputs": [
    {
     "name": "stdout",
     "output_type": "stream",
     "text": [
      "None\n"
     ]
    }
   ],
   "source": [
    "def sum(num1, num2):    # this returns NONE as return is not defined for this function\n",
    "    def another_func(num1, num2):\n",
    "        return num1+num2 # this return is for another funtion\n",
    "\n",
    "\n",
    "total=sum(10, 20)\n",
    "print(total)"
   ]
  },
  {
   "cell_type": "code",
   "execution_count": 17,
   "id": "acb9acb6",
   "metadata": {},
   "outputs": [
    {
     "name": "stdout",
     "output_type": "stream",
     "text": [
      "30\n"
     ]
    }
   ],
   "source": [
    "def sum(num1, num2):    # return is definded for this function\n",
    "    def another_func(num1, num2):\n",
    "        return num1+num2 # this return is for another funtion\n",
    "    \n",
    "    return num1+num2  # this return is for main function\n",
    "\n",
    "\n",
    "total=sum(10, 20)\n",
    "print(total)\n",
    "\n",
    "# this function is not good and confusing. See the below example of a good way to write it"
   ]
  },
  {
   "cell_type": "code",
   "execution_count": 18,
   "id": "af0b745b",
   "metadata": {},
   "outputs": [
    {
     "name": "stdout",
     "output_type": "stream",
     "text": [
      "30\n"
     ]
    }
   ],
   "source": [
    "def sum(num1, num2):    # return is definded for this function\n",
    "    def another_func(n1,n2):\n",
    "        return n1+n2 # this return is for another funtion\n",
    "    \n",
    "    return (another_func(num1,num2)) # this return is for main function\n",
    "\n",
    "\n",
    "total=sum(10, 20)\n",
    "print(total)"
   ]
  },
  {
   "cell_type": "markdown",
   "id": "a191232f",
   "metadata": {},
   "source": [
    "# Methos VS Functions\n",
    "\n",
    "list()\n",
    "print()\n",
    "max()\n",
    "min()\n",
    "input()   # these rare built in function\n",
    "\n",
    "def some_random_function(a,b):\n",
    "    pass    # this is a function \n",
    "    \n",
    "\n",
    "capitalize()   # this is a method\n",
    "\n"
   ]
  },
  {
   "cell_type": "code",
   "execution_count": 27,
   "id": "a3057876",
   "metadata": {},
   "outputs": [
    {
     "name": "stdout",
     "output_type": "stream",
     "text": [
      "hi\n",
      "None\n"
     ]
    }
   ],
   "source": [
    "# DOC STRINGS is a comment inside a function. it is noted by ''' comment here '''\n",
    "\n",
    "def test(a):\n",
    "    print(a)\n",
    "''' this is a test function'''\n",
    "test('hi')\n",
    "print(test.__doc__)   # this will print the comment of the function. here its hows NONE but in other IDE it will show the comment.\n",
    "\n"
   ]
  },
  {
   "cell_type": "code",
   "execution_count": 34,
   "id": "553453e0",
   "metadata": {},
   "outputs": [
    {
     "ename": "TypeError",
     "evalue": "super_func() takes 1 positional argument but 5 were given",
     "output_type": "error",
     "traceback": [
      "\u001b[1;31m---------------------------------------------------------------------------\u001b[0m",
      "\u001b[1;31mTypeError\u001b[0m                                 Traceback (most recent call last)",
      "Cell \u001b[1;32mIn[34], line 6\u001b[0m\n\u001b[0;32m      3\u001b[0m \u001b[38;5;28;01mdef\u001b[39;00m \u001b[38;5;21msuper_func\u001b[39m(args):\n\u001b[0;32m      4\u001b[0m     \u001b[38;5;28;01mreturn\u001b[39;00m \u001b[38;5;28msum\u001b[39m(args)\n\u001b[1;32m----> 6\u001b[0m \u001b[43msuper_func\u001b[49m\u001b[43m(\u001b[49m\u001b[38;5;241;43m1\u001b[39;49m\u001b[43m,\u001b[49m\u001b[38;5;241;43m2\u001b[39;49m\u001b[43m,\u001b[49m\u001b[38;5;241;43m3\u001b[39;49m\u001b[43m,\u001b[49m\u001b[38;5;241;43m4\u001b[39;49m\u001b[43m,\u001b[49m\u001b[38;5;241;43m5\u001b[39;49m\u001b[43m)\u001b[49m\n",
      "\u001b[1;31mTypeError\u001b[0m: super_func() takes 1 positional argument but 5 were given"
     ]
    }
   ],
   "source": [
    "# *args   **kwargs\n",
    "\n",
    "def super_func(args):\n",
    "    return sum(args)\n",
    "\n",
    "super_func(1,2,3,4,5)"
   ]
  },
  {
   "cell_type": "code",
   "execution_count": 45,
   "id": "2ed8834e",
   "metadata": {},
   "outputs": [
    {
     "name": "stdout",
     "output_type": "stream",
     "text": [
      "(1, 2, 3, 4, 5)\n"
     ]
    },
    {
     "ename": "TypeError",
     "evalue": "sum() missing 1 required positional argument: 'num2'",
     "output_type": "error",
     "traceback": [
      "\u001b[1;31m---------------------------------------------------------------------------\u001b[0m",
      "\u001b[1;31mTypeError\u001b[0m                                 Traceback (most recent call last)",
      "Cell \u001b[1;32mIn[45], line 6\u001b[0m\n\u001b[0;32m      3\u001b[0m     a\u001b[38;5;241m=\u001b[39m \u001b[38;5;28msum\u001b[39m (args)\n\u001b[0;32m      4\u001b[0m     \u001b[38;5;28;01mreturn\u001b[39;00m a\n\u001b[1;32m----> 6\u001b[0m \u001b[38;5;28mprint\u001b[39m(\u001b[43msuper_func\u001b[49m\u001b[43m(\u001b[49m\u001b[38;5;241;43m1\u001b[39;49m\u001b[43m,\u001b[49m\u001b[38;5;241;43m2\u001b[39;49m\u001b[43m,\u001b[49m\u001b[38;5;241;43m3\u001b[39;49m\u001b[43m,\u001b[49m\u001b[38;5;241;43m4\u001b[39;49m\u001b[43m,\u001b[49m\u001b[38;5;241;43m5\u001b[39;49m\u001b[43m)\u001b[49m)\n",
      "Cell \u001b[1;32mIn[45], line 3\u001b[0m, in \u001b[0;36msuper_func\u001b[1;34m(*args)\u001b[0m\n\u001b[0;32m      1\u001b[0m \u001b[38;5;28;01mdef\u001b[39;00m \u001b[38;5;21msuper_func\u001b[39m(\u001b[38;5;241m*\u001b[39margs):\n\u001b[0;32m      2\u001b[0m     \u001b[38;5;28mprint\u001b[39m(args)        \u001b[38;5;66;03m# *args is a tuple inside a function\u001b[39;00m\n\u001b[1;32m----> 3\u001b[0m     a\u001b[38;5;241m=\u001b[39m \u001b[38;5;28;43msum\u001b[39;49m\u001b[43m \u001b[49m\u001b[43m(\u001b[49m\u001b[43margs\u001b[49m\u001b[43m)\u001b[49m\n\u001b[0;32m      4\u001b[0m     \u001b[38;5;28;01mreturn\u001b[39;00m a\n",
      "\u001b[1;31mTypeError\u001b[0m: sum() missing 1 required positional argument: 'num2'"
     ]
    }
   ],
   "source": [
    "def super_func(*args):\n",
    "    print(args)        # *args is a tuple inside a function. It shows erros here but it will owrk on other IDE\n",
    "    a= sum (args)\n",
    "    return a\n",
    "\n",
    "print(super_func(1,2,3,4,5))"
   ]
  },
  {
   "cell_type": "code",
   "execution_count": 47,
   "id": "f30c14aa",
   "metadata": {},
   "outputs": [
    {
     "name": "stdout",
     "output_type": "stream",
     "text": [
      "{}\n",
      "None\n"
     ]
    }
   ],
   "source": [
    "def super_func(*args, **kwargs):\n",
    "    print(kwargs)        # *args is a tuple inside a function. It shows erros here but it will owrk on other IDE\n",
    "\n",
    "\n",
    "print(super_func(1,2,3,4,5))"
   ]
  },
  {
   "cell_type": "code",
   "execution_count": 52,
   "id": "53811d77",
   "metadata": {},
   "outputs": [
    {
     "name": "stdout",
     "output_type": "stream",
     "text": [
      "10\n"
     ]
    }
   ],
   "source": [
    "# Excercise to find out higest even number from a list\n",
    "\n",
    "def highest_even(li):\n",
    "    evens_list=[]\n",
    "    for item in li:\n",
    "        if item %2 ==0:\n",
    "            evens_list.append(item)\n",
    "        return max(evens_list)\n",
    "\n",
    "print(highest_even([10,2,3,4,8,11]))"
   ]
  },
  {
   "cell_type": "markdown",
   "id": "a04cf514",
   "metadata": {},
   "source": [
    "# Walrus operator   :=\n",
    "\n",
    "- walrus operator is get assigned the value of an expression inside a statement"
   ]
  },
  {
   "cell_type": "code",
   "execution_count": 53,
   "id": "d1d10ffe",
   "metadata": {},
   "outputs": [],
   "source": [
    "a='helloooooo'\n",
    "if(len(a)>10):\n",
    "    print(f\"too long {len(a)} elements\")"
   ]
  },
  {
   "cell_type": "code",
   "execution_count": 55,
   "id": "507a65ad",
   "metadata": {},
   "outputs": [],
   "source": [
    "a='helloooooo'\n",
    "if((n:=len(a))>10):\n",
    "    print(f\"too long {len(a)} elements\")"
   ]
  },
  {
   "cell_type": "markdown",
   "id": "7f085964",
   "metadata": {},
   "source": [
    "# Scope - What variables di I have access to ?\n",
    "   - start wil local\n",
    "   - if local variable is not there it will take varibale in global scope\n",
    "   - you can use global keyword to define a global variable"
   ]
  },
  {
   "cell_type": "code",
   "execution_count": 61,
   "id": "1c0dc7a2",
   "metadata": {},
   "outputs": [
    {
     "ename": "NameError",
     "evalue": "name 'total1' is not defined",
     "output_type": "error",
     "traceback": [
      "\u001b[1;31m---------------------------------------------------------------------------\u001b[0m",
      "\u001b[1;31mNameError\u001b[0m                                 Traceback (most recent call last)",
      "Cell \u001b[1;32mIn[61], line 6\u001b[0m\n\u001b[0;32m      3\u001b[0m \u001b[38;5;28;01mdef\u001b[39;00m \u001b[38;5;21msome_func\u001b[39m():\n\u001b[0;32m      4\u001b[0m     total1 \u001b[38;5;241m=\u001b[39m\u001b[38;5;241m100\u001b[39m\n\u001b[1;32m----> 6\u001b[0m \u001b[38;5;28mprint\u001b[39m(\u001b[43mtotal1\u001b[49m)\n",
      "\u001b[1;31mNameError\u001b[0m: name 'total1' is not defined"
     ]
    }
   ],
   "source": [
    "# Scope - What variables di I have access to ?\n",
    "\n",
    "def some_func():\n",
    "    total1 =100\n",
    "    \n",
    "print(total1)   # total1 is not defind so its not in the scope of function, its a global scope"
   ]
  },
  {
   "cell_type": "code",
   "execution_count": 62,
   "id": "f40354cb",
   "metadata": {},
   "outputs": [
    {
     "name": "stdout",
     "output_type": "stream",
     "text": [
      "1\n",
      "5\n"
     ]
    }
   ],
   "source": [
    "a=1\n",
    "def confusion():\n",
    "    a=5\n",
    "    return a\n",
    "print (a)\n",
    "print(confusion())"
   ]
  },
  {
   "cell_type": "code",
   "execution_count": 66,
   "id": "fda2cd1b",
   "metadata": {},
   "outputs": [
    {
     "name": "stdout",
     "output_type": "stream",
     "text": [
      "3\n"
     ]
    }
   ],
   "source": [
    "total=0\n",
    "def count(total):\n",
    "    total += 1\n",
    "    return total\n",
    "\n",
    "count(total)\n",
    "count(total)\n",
    "print(count(count(count(total))))"
   ]
  },
  {
   "cell_type": "markdown",
   "id": "ebf4f2d4",
   "metadata": {},
   "source": [
    "# nonlocal\n",
    "- nonlocal is a keyword to defind variable. it will change the global varibale\n"
   ]
  },
  {
   "cell_type": "code",
   "execution_count": 76,
   "id": "6f7c7404",
   "metadata": {},
   "outputs": [
    {
     "name": "stdout",
     "output_type": "stream",
     "text": [
      "inner: nonlocal\n",
      "outer: nonlocal\n"
     ]
    },
    {
     "ename": "NameError",
     "evalue": "name 'x' is not defined",
     "output_type": "error",
     "traceback": [
      "\u001b[1;31m---------------------------------------------------------------------------\u001b[0m",
      "\u001b[1;31mNameError\u001b[0m                                 Traceback (most recent call last)",
      "Cell \u001b[1;32mIn[76], line 12\u001b[0m\n\u001b[0;32m      9\u001b[0m     \u001b[38;5;28mprint\u001b[39m(\u001b[38;5;124m\"\u001b[39m\u001b[38;5;124mouter:\u001b[39m\u001b[38;5;124m\"\u001b[39m , x)\n\u001b[0;32m     11\u001b[0m outer()\n\u001b[1;32m---> 12\u001b[0m \u001b[38;5;28mprint\u001b[39m(\u001b[43mx\u001b[49m)\n",
      "\u001b[1;31mNameError\u001b[0m: name 'x' is not defined"
     ]
    }
   ],
   "source": [
    "def outer():\n",
    "    x=\"local\"\n",
    "    def inner():\n",
    "        nonlocal x\n",
    "        x=\"nonlocal\"\n",
    "        print(\"inner:\", x)\n",
    "        \n",
    "    inner()\n",
    "    print(\"outer:\" , x)\n",
    "    \n",
    "outer()\n",
    "print(x)"
   ]
  },
  {
   "cell_type": "code",
   "execution_count": null,
   "id": "efd6fe16",
   "metadata": {},
   "outputs": [],
   "source": []
  }
 ],
 "metadata": {
  "kernelspec": {
   "display_name": "Python 3 (ipykernel)",
   "language": "python",
   "name": "python3"
  },
  "language_info": {
   "codemirror_mode": {
    "name": "ipython",
    "version": 3
   },
   "file_extension": ".py",
   "mimetype": "text/x-python",
   "name": "python",
   "nbconvert_exporter": "python",
   "pygments_lexer": "ipython3",
   "version": "3.10.9"
  }
 },
 "nbformat": 4,
 "nbformat_minor": 5
}
