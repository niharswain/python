{
 "cells": [
  {
   "cell_type": "markdown",
   "id": "9d346975",
   "metadata": {},
   "source": [
    "# conditional Logic\n",
    "    - booleans are very very important for conditional logic"
   ]
  },
  {
   "cell_type": "code",
   "execution_count": 7,
   "id": "72052216",
   "metadata": {},
   "outputs": [
    {
     "name": "stdout",
     "output_type": "stream",
     "text": [
      "success\n",
      "out of if block\n"
     ]
    }
   ],
   "source": [
    "is_old = True\n",
    "is_licensed = True\n",
    "condition=True\n",
    "\n",
    "if condition:\n",
    "    \n",
    "    print('success')\n",
    "\n",
    "print (\"out of if block\")"
   ]
  },
  {
   "cell_type": "raw",
   "id": "0c2e6073",
   "metadata": {},
   "source": [
    "if condition1 or/and condition2:\n",
    "    statement\n",
    "elif:condition 3\n",
    "    statement\n",
    "elif:condition 4\n",
    "    statement\n",
    "else:\n",
    "    stamenet"
   ]
  },
  {
   "cell_type": "code",
   "execution_count": 10,
   "id": "7ff0e607",
   "metadata": {},
   "outputs": [
    {
     "name": "stdout",
     "output_type": "stream",
     "text": [
      "you are old enough to drive!\n"
     ]
    }
   ],
   "source": [
    "is_old = True\n",
    "is_licensed = True\n",
    "\n",
    "if is_old:\n",
    "    print('you are old enough to drive!')\n",
    "elif is_licensed:\n",
    "    print('you can drive now')\n",
    "else:\n",
    "    print('not in comndition')"
   ]
  },
  {
   "cell_type": "code",
   "execution_count": 11,
   "id": "6cb60ada",
   "metadata": {},
   "outputs": [
    {
     "name": "stdout",
     "output_type": "stream",
     "text": [
      "you aere old enough to drive an you have license\n"
     ]
    }
   ],
   "source": [
    "is_old = True\n",
    "is_licensed = True\n",
    "\n",
    "if is_old and is_licensed:\n",
    "    print ('you aere old enough to drive an you have license')\n",
    "else:\n",
    "    print ('you are not of age')"
   ]
  },
  {
   "cell_type": "code",
   "execution_count": 12,
   "id": "6757a046",
   "metadata": {},
   "outputs": [
    {
     "name": "stdout",
     "output_type": "stream",
     "text": [
      "messega allowed\n"
     ]
    }
   ],
   "source": [
    "# Ternary operator / Conditional expressions\n",
    "\n",
    "# condition_if_true if condition else condition_if_else\n",
    "\n",
    "is_friend = True\n",
    "can_message = \"messega allowed\" if is_friend else \"now allowed to message\"\n",
    "\n",
    "print(can_message)"
   ]
  },
  {
   "cell_type": "markdown",
   "id": "429e5841",
   "metadata": {},
   "source": [
    "# Logical Operator\n",
    "    >\n",
    "    <\n",
    "    ==\n",
    "    >=\n",
    "    <=\n",
    "    !=\n",
    "    not"
   ]
  },
  {
   "cell_type": "code",
   "execution_count": 19,
   "id": "95006393",
   "metadata": {},
   "outputs": [
    {
     "name": "stdout",
     "output_type": "stream",
     "text": [
      "False\n",
      "True\n",
      "True\n",
      "False\n",
      "True\n",
      "True\n"
     ]
    }
   ],
   "source": [
    "print(4>5)\n",
    "print (\"a\" > \"A\")\n",
    "print(\"Hello\" > \"Hell\")\n",
    "print(4==5)\n",
    "print(1>=0)\n",
    "print(1<2<3<4==4)\n",
    "\n"
   ]
  },
  {
   "cell_type": "code",
   "execution_count": 22,
   "id": "a7e688ba",
   "metadata": {},
   "outputs": [
    {
     "name": "stdout",
     "output_type": "stream",
     "text": [
      "True\n",
      "False\n"
     ]
    }
   ],
   "source": [
    "print(not(False))\n",
    "print(not(True))"
   ]
  },
  {
   "cell_type": "code",
   "execution_count": 27,
   "id": "988db37f",
   "metadata": {},
   "outputs": [
    {
     "name": "stdout",
     "output_type": "stream",
     "text": [
      "at least you are gettig there\n"
     ]
    }
   ],
   "source": [
    "# check if magician and expert is true, print you are a master magician\n",
    "# check if magican but not expert: at least you are getting there\n",
    "# if you are not a magician  you need magic powers\n",
    "\n",
    "is_magician = True\n",
    "is_expert = False\n",
    "\n",
    "if is_magician and is_expert:\n",
    "    print('you are a master magician')\n",
    "elif is_magician and not is_expert:\n",
    "    print('at least you are gettig there')\n",
    "elif not is_magician:\n",
    "    print('you are anot a magician, you need powers')"
   ]
  },
  {
   "cell_type": "markdown",
   "id": "4552e655",
   "metadata": {},
   "source": [
    "## is vs ==\n",
    "    - == checks the values\n",
    "    - is checks the memory space"
   ]
  },
  {
   "cell_type": "code",
   "execution_count": 34,
   "id": "1bfc6cfb",
   "metadata": {},
   "outputs": [
    {
     "name": "stdout",
     "output_type": "stream",
     "text": [
      "True\n",
      "False\n",
      "False\n",
      "True\n",
      "True\n"
     ]
    }
   ],
   "source": [
    "print (True == 1)\n",
    "print(''==1)\n",
    "print([]==1)\n",
    "print(10==10.0)\n",
    "print([1,2,3]==[1,2,3])"
   ]
  },
  {
   "cell_type": "code",
   "execution_count": 38,
   "id": "9f667f5a",
   "metadata": {},
   "outputs": [
    {
     "name": "stdout",
     "output_type": "stream",
     "text": [
      "True\n",
      "True\n",
      "False\n",
      "False\n",
      "False\n"
     ]
    },
    {
     "name": "stderr",
     "output_type": "stream",
     "text": [
      "<>:2: SyntaxWarning: \"is\" with a literal. Did you mean \"==\"?\n",
      "<>:3: SyntaxWarning: \"is\" with a literal. Did you mean \"==\"?\n",
      "<>:4: SyntaxWarning: \"is\" with a literal. Did you mean \"==\"?\n",
      "<>:2: SyntaxWarning: \"is\" with a literal. Did you mean \"==\"?\n",
      "<>:3: SyntaxWarning: \"is\" with a literal. Did you mean \"==\"?\n",
      "<>:4: SyntaxWarning: \"is\" with a literal. Did you mean \"==\"?\n",
      "C:\\Users\\nihar\\AppData\\Local\\Temp\\ipykernel_12544\\2076509418.py:2: SyntaxWarning: \"is\" with a literal. Did you mean \"==\"?\n",
      "  print('1' is '1')\n",
      "C:\\Users\\nihar\\AppData\\Local\\Temp\\ipykernel_12544\\2076509418.py:3: SyntaxWarning: \"is\" with a literal. Did you mean \"==\"?\n",
      "  print([] is 1)\n",
      "C:\\Users\\nihar\\AppData\\Local\\Temp\\ipykernel_12544\\2076509418.py:4: SyntaxWarning: \"is\" with a literal. Did you mean \"==\"?\n",
      "  print(10 is 10.0)\n"
     ]
    }
   ],
   "source": [
    "print (True is True)\n",
    "print('1' is '1')\n",
    "print([] is 1)\n",
    "print(10 is 10.0)\n",
    "print([1,2,3] is [1,2,3])"
   ]
  },
  {
   "cell_type": "markdown",
   "id": "291be1e3",
   "metadata": {},
   "source": [
    "# Loops"
   ]
  },
  {
   "cell_type": "code",
   "execution_count": 40,
   "id": "109604d7",
   "metadata": {},
   "outputs": [
    {
     "name": "stdout",
     "output_type": "stream",
     "text": [
      "z\n",
      "e\n",
      "r\n",
      "o\n",
      " \n",
      "t\n",
      "o\n",
      " \n",
      "m\n",
      "a\n",
      "s\n",
      "t\n",
      "e\n",
      "r\n",
      "y\n"
     ]
    }
   ],
   "source": [
    "for item in 'zero to mastery':\n",
    "    print(item)"
   ]
  },
  {
   "cell_type": "code",
   "execution_count": 41,
   "id": "b15ffa5d",
   "metadata": {},
   "outputs": [
    {
     "name": "stdout",
     "output_type": "stream",
     "text": [
      "1\n",
      "2\n",
      "3\n",
      "4\n",
      "5\n"
     ]
    }
   ],
   "source": [
    "for item in [1,2,3,4,5]: # works in LIST\n",
    "    print(item)"
   ]
  },
  {
   "cell_type": "code",
   "execution_count": 42,
   "id": "017f74a6",
   "metadata": {},
   "outputs": [
    {
     "name": "stdout",
     "output_type": "stream",
     "text": [
      "1\n",
      "2\n",
      "3\n",
      "4\n"
     ]
    }
   ],
   "source": [
    "for item in {1,2,3,4}: # works in set\n",
    "    print (item)"
   ]
  },
  {
   "cell_type": "code",
   "execution_count": 43,
   "id": "968c4ac1",
   "metadata": {},
   "outputs": [
    {
     "name": "stdout",
     "output_type": "stream",
     "text": [
      "1\n",
      "2\n",
      "3\n"
     ]
    }
   ],
   "source": [
    "for item in (1,2,3):    # works in tuple\n",
    "    print (item)"
   ]
  },
  {
   "cell_type": "code",
   "execution_count": 45,
   "id": "6009383d",
   "metadata": {},
   "outputs": [
    {
     "name": "stdout",
     "output_type": "stream",
     "text": [
      "1\n",
      "1\n",
      "1\n",
      "2\n",
      "2\n",
      "2\n",
      "3\n",
      "3\n",
      "3\n",
      "hi!\n"
     ]
    }
   ],
   "source": [
    "for item in (1,2,3):\n",
    "    print(item)\n",
    "    print(item)\n",
    "    print(item)\n",
    "print('hi!')"
   ]
  },
  {
   "cell_type": "code",
   "execution_count": 46,
   "id": "0972ae7c",
   "metadata": {},
   "outputs": [
    {
     "name": "stdout",
     "output_type": "stream",
     "text": [
      "1\n",
      "1\n",
      "1\n",
      "2\n",
      "2\n",
      "2\n",
      "3\n",
      "3\n",
      "3\n",
      "3\n"
     ]
    }
   ],
   "source": [
    "for item in (1,2,3):\n",
    "    print(item)\n",
    "    print(item)\n",
    "    print(item)\n",
    "print(item)"
   ]
  },
  {
   "cell_type": "code",
   "execution_count": 47,
   "id": "ad77e209",
   "metadata": {},
   "outputs": [
    {
     "name": "stdout",
     "output_type": "stream",
     "text": [
      "1 a\n",
      "1 b\n",
      "1 c\n",
      "2 a\n",
      "2 b\n",
      "2 c\n",
      "3 a\n",
      "3 b\n",
      "3 c\n",
      "4 a\n",
      "4 b\n",
      "4 c\n",
      "5 a\n",
      "5 b\n",
      "5 c\n"
     ]
    }
   ],
   "source": [
    "for item in (1,2,3,4,5):\n",
    "    for x in ['a','b','c']:\n",
    "        print(item,x)"
   ]
  },
  {
   "cell_type": "markdown",
   "id": "e0998ca4",
   "metadata": {},
   "source": [
    "## Iterables \n",
    "    - iterable is an object which can be iterated  over\n",
    "    - Iterable can be a list, dictionary,tuple,set\n",
    "    - iterated -> one by one check each item in the collection \n",
    "    "
   ]
  },
  {
   "cell_type": "code",
   "execution_count": 49,
   "id": "f3fb845f",
   "metadata": {},
   "outputs": [
    {
     "name": "stdout",
     "output_type": "stream",
     "text": [
      "name\n",
      "age\n",
      "can_swim\n"
     ]
    }
   ],
   "source": [
    "user={\n",
    "    'name':'Golem',\n",
    "    'age':5006,\n",
    "    'can_swim':False\n",
    "}\n",
    "\n",
    "for item in user:\n",
    "    print(item)"
   ]
  },
  {
   "cell_type": "code",
   "execution_count": 52,
   "id": "98cf0eab",
   "metadata": {},
   "outputs": [
    {
     "name": "stdout",
     "output_type": "stream",
     "text": [
      "('name', 'Golem')\n",
      "('age', 5006)\n",
      "('can_swim', False)\n",
      "Golem\n",
      "5006\n",
      "False\n",
      "name\n",
      "age\n",
      "can_swim\n"
     ]
    }
   ],
   "source": [
    "user={\n",
    "    'name':'Golem',\n",
    "    'age':5006,\n",
    "    'can_swim':False\n",
    "}\n",
    "\n",
    "for item in user.items():\n",
    "    print(item)\n",
    "\n",
    "for item in user.values():\n",
    "    print(item)\n",
    "    \n",
    "for item in user.keys():\n",
    "    print(item)"
   ]
  },
  {
   "cell_type": "code",
   "execution_count": 57,
   "id": "a0a8f79c",
   "metadata": {},
   "outputs": [
    {
     "name": "stdout",
     "output_type": "stream",
     "text": [
      "name Golem\n",
      "age 5006\n",
      "can_swim False\n"
     ]
    }
   ],
   "source": [
    "user={\n",
    "    'name':'Golem',\n",
    "    'age':5006,\n",
    "    'can_swim':False\n",
    "}\n",
    "\n",
    "for key, value in user.items():\n",
    "    print(key,value)"
   ]
  },
  {
   "cell_type": "code",
   "execution_count": 62,
   "id": "e886dbf0",
   "metadata": {},
   "outputs": [
    {
     "name": "stdout",
     "output_type": "stream",
     "text": [
      "count is 55\n"
     ]
    }
   ],
   "source": [
    "# sum of the my list numbers\n",
    "\n",
    "my_list=[1,2,3,4,5,6,7,8,9,10]\n",
    "count=0\n",
    "for item in my_list:\n",
    "    count=count+item\n",
    "    \n",
    "print(\"count is\" ,count)"
   ]
  },
  {
   "cell_type": "code",
   "execution_count": 63,
   "id": "02fac6c1",
   "metadata": {},
   "outputs": [],
   "source": [
    "#range()\n",
    "    - range() function returns a sequence of number, starting from 0 by default and increments by 1 by default and stops\n",
    "    before a specified number.\n",
    "    - retuen an object that produces a sequences of integers from start to stop by step. "
   ]
  },
  {
   "cell_type": "code",
   "execution_count": 66,
   "id": "37c4b231",
   "metadata": {},
   "outputs": [
    {
     "name": "stdout",
     "output_type": "stream",
     "text": [
      "range(0, 100)\n"
     ]
    }
   ],
   "source": [
    "print(range(100))"
   ]
  },
  {
   "cell_type": "code",
   "execution_count": 67,
   "id": "b45bb935",
   "metadata": {},
   "outputs": [
    {
     "name": "stdout",
     "output_type": "stream",
     "text": [
      "range(0, 100)\n"
     ]
    }
   ],
   "source": [
    "print(range(0,100))"
   ]
  },
  {
   "cell_type": "code",
   "execution_count": 69,
   "id": "5b829b58",
   "metadata": {},
   "outputs": [
    {
     "name": "stdout",
     "output_type": "stream",
     "text": [
      "0\n",
      "1\n",
      "2\n",
      "3\n",
      "4\n",
      "5\n",
      "6\n",
      "7\n",
      "8\n",
      "9\n"
     ]
    }
   ],
   "source": [
    "for number in range(0,10):\n",
    "    print(number)"
   ]
  },
  {
   "cell_type": "code",
   "execution_count": 70,
   "id": "f40a142a",
   "metadata": {},
   "outputs": [
    {
     "name": "stdout",
     "output_type": "stream",
     "text": [
      "0\n",
      "1\n",
      "2\n",
      "3\n",
      "4\n",
      "5\n",
      "6\n",
      "7\n",
      "8\n",
      "9\n"
     ]
    }
   ],
   "source": [
    "for _ in range(0,10):\n",
    "    print(_)"
   ]
  },
  {
   "cell_type": "code",
   "execution_count": 71,
   "id": "a4624162",
   "metadata": {},
   "outputs": [
    {
     "name": "stdout",
     "output_type": "stream",
     "text": [
      "0\n",
      "2\n",
      "4\n",
      "6\n",
      "8\n"
     ]
    }
   ],
   "source": [
    "for _ in range(0,10,2):#step over by 2\n",
    "    print(_)"
   ]
  },
  {
   "cell_type": "code",
   "execution_count": 73,
   "id": "0071fec2",
   "metadata": {},
   "outputs": [
    {
     "name": "stdout",
     "output_type": "stream",
     "text": [
      "[0, 1, 2, 3, 4, 5, 6, 7, 8, 9]\n",
      "[0, 1, 2, 3, 4, 5, 6, 7, 8, 9]\n"
     ]
    }
   ],
   "source": [
    "for _ in range(2):  # ramnge of two meand, it will iterate two times\n",
    "    print(list(range(0,10))) # it will convert range into a list"
   ]
  },
  {
   "cell_type": "code",
   "execution_count": null,
   "id": "95ab99fc",
   "metadata": {},
   "outputs": [],
   "source": [
    "# enumerate ()\n",
    "    - returns an enumerate object"
   ]
  },
  {
   "cell_type": "code",
   "execution_count": 74,
   "id": "45db373d",
   "metadata": {},
   "outputs": [
    {
     "name": "stdout",
     "output_type": "stream",
     "text": [
      "0 H\n",
      "1 e\n",
      "2 l\n",
      "3 l\n",
      "4 l\n",
      "5 o\n",
      "6 o\n",
      "7 o\n"
     ]
    }
   ],
   "source": [
    "for i,char in enumerate('Helllooo'):\n",
    "    print(i,char)"
   ]
  },
  {
   "cell_type": "code",
   "execution_count": 77,
   "id": "4bf3ca76",
   "metadata": {},
   "outputs": [
    {
     "name": "stdout",
     "output_type": "stream",
     "text": [
      "0 a\n",
      "1 b\n",
      "2 c\n",
      "3 d\n",
      "4 e\n",
      "5 f\n",
      "6 g\n"
     ]
    }
   ],
   "source": [
    "for i,char in enumerate(['a','b','c','d','e','f','g']):\n",
    "    print(i,char)"
   ]
  },
  {
   "cell_type": "code",
   "execution_count": 81,
   "id": "735b8830",
   "metadata": {},
   "outputs": [
    {
     "name": "stdout",
     "output_type": "stream",
     "text": [
      "0 0\n",
      "1 1\n",
      "2 2\n",
      "3 3\n",
      "4 4\n"
     ]
    }
   ],
   "source": [
    "# find out of index of 3\n",
    "for i,char in enumerate(list(range(5))):\n",
    "    print(i,char)\n",
    "   "
   ]
  },
  {
   "cell_type": "code",
   "execution_count": 82,
   "id": "04031829",
   "metadata": {},
   "outputs": [
    {
     "name": "stdout",
     "output_type": "stream",
     "text": [
      "index of 3 is:3\n"
     ]
    }
   ],
   "source": [
    "# find out of index of 3\n",
    "for i,char in enumerate(list(range(5))):\n",
    "    if char==3:\n",
    "        print(f'index of 3 is:{i}')"
   ]
  },
  {
   "cell_type": "markdown",
   "id": "bc89dbf6",
   "metadata": {},
   "source": [
    "# While loops\n",
    "    while condition:\n",
    "        do something"
   ]
  },
  {
   "cell_type": "code",
   "execution_count": null,
   "id": "8da9ae8e",
   "metadata": {},
   "outputs": [],
   "source": [
    "i=0\n",
    "while i<5:\n",
    "    print(i)  # this will create a infinite loop.\n",
    "\n",
    "    # because i is alwasy less than 5 and so condition will never break. To break this use break"
   ]
  },
  {
   "cell_type": "code",
   "execution_count": 85,
   "id": "c98e1296",
   "metadata": {},
   "outputs": [
    {
     "name": "stdout",
     "output_type": "stream",
     "text": [
      "0\n"
     ]
    }
   ],
   "source": [
    "i=0\n",
    "while i<50:\n",
    "    print(i)\n",
    "    break"
   ]
  },
  {
   "cell_type": "code",
   "execution_count": 86,
   "id": "a296be32",
   "metadata": {},
   "outputs": [
    {
     "name": "stdout",
     "output_type": "stream",
     "text": [
      "0\n",
      "1\n",
      "2\n",
      "3\n",
      "4\n"
     ]
    }
   ],
   "source": [
    "i=0\n",
    "while i<5:\n",
    "    print(i)\n",
    "    i=i+1\n"
   ]
  },
  {
   "cell_type": "code",
   "execution_count": 87,
   "id": "094bb273",
   "metadata": {},
   "outputs": [
    {
     "name": "stdout",
     "output_type": "stream",
     "text": [
      "0\n",
      "1\n",
      "2\n",
      "3\n",
      "4\n",
      "done with all the work\n"
     ]
    }
   ],
   "source": [
    "i=0\n",
    "while i<5:\n",
    "    print(i)\n",
    "    i=i+1\n",
    "else:\n",
    "    print('done with all the work')"
   ]
  },
  {
   "cell_type": "code",
   "execution_count": 88,
   "id": "f7ca5ae1",
   "metadata": {},
   "outputs": [
    {
     "name": "stdout",
     "output_type": "stream",
     "text": [
      "0\n"
     ]
    }
   ],
   "source": [
    "i=0\n",
    "while i<5:\n",
    "    print(i)\n",
    "    i=i+1\n",
    "    break   # it will break in the forst iteration\n",
    "else:\n",
    "    print('done with all the work')"
   ]
  },
  {
   "cell_type": "code",
   "execution_count": 89,
   "id": "4c98727b",
   "metadata": {},
   "outputs": [
    {
     "name": "stdout",
     "output_type": "stream",
     "text": [
      "1\n",
      "2\n",
      "3\n"
     ]
    }
   ],
   "source": [
    "my_list=[1,2,3]\n",
    "for item in my_list:\n",
    "    print(item)"
   ]
  },
  {
   "cell_type": "code",
   "execution_count": 92,
   "id": "91611fa0",
   "metadata": {},
   "outputs": [
    {
     "name": "stdout",
     "output_type": "stream",
     "text": [
      "1\n",
      "2\n",
      "3\n"
     ]
    }
   ],
   "source": [
    "my_list=[1,2,3]\n",
    "i=0\n",
    "while i< len(my_list):\n",
    "    print (my_list[i])\n",
    "    i=i+1"
   ]
  },
  {
   "cell_type": "code",
   "execution_count": 93,
   "id": "42c4b452",
   "metadata": {},
   "outputs": [
    {
     "name": "stdout",
     "output_type": "stream",
     "text": [
      "say something: hi\n",
      "say something: hi\n",
      "say something: bye\n"
     ]
    }
   ],
   "source": [
    "while True:\n",
    "    response=input('say something: ')\n",
    "    if (response == 'bye'):\n",
    "        break"
   ]
  },
  {
   "cell_type": "code",
   "execution_count": 94,
   "id": "2618888c",
   "metadata": {},
   "outputs": [],
   "source": [
    "# Break , continue, Pass"
   ]
  },
  {
   "cell_type": "code",
   "execution_count": 95,
   "id": "5e3bc665",
   "metadata": {},
   "outputs": [],
   "source": [
    "# break keyword works in while and for loop\n",
    "# The continue keyword is used to end the current iteration in a for loop (or a while loop), and continues to the next iteration.\n",
    "# Pass does nothing. "
   ]
  },
  {
   "cell_type": "code",
   "execution_count": 97,
   "id": "8797723b",
   "metadata": {},
   "outputs": [],
   "source": [
    "my_list=[1,2,3]\n",
    "for item in my_list:\n",
    "    continue       #it will not print because it will not go to line print(item), it will conitune to start iteration\n",
    "    print(item)"
   ]
  },
  {
   "cell_type": "code",
   "execution_count": 105,
   "id": "164dba9c",
   "metadata": {},
   "outputs": [
    {
     "name": "stdout",
     "output_type": "stream",
     "text": [
      "   *   \n",
      "  ***  \n",
      " ***** \n",
      "*******\n",
      "   *   \n",
      "   *   \n"
     ]
    }
   ],
   "source": [
    "# display empty space for 0 , * for 1\n",
    "picture = [\n",
    "[0,0,0,1,0,0,0],\n",
    "[0,0,1,1,1,0,0],\n",
    "[0,1,1,1,1,1,0],\n",
    "[1,1,1,1,1,1,1],\n",
    "[0,0,0,1,0,0,0],\n",
    "[0,0,0,1,0,0,0]\n",
    "]\n",
    "\n",
    "for row in picture:\n",
    "    for pixel in row:\n",
    "        if (pixel == 1):\n",
    "            print('*', end='')\n",
    "        else:\n",
    "            print(' ', end='')\n",
    "    print('')\n"
   ]
  },
  {
   "cell_type": "code",
   "execution_count": 110,
   "id": "c52b1396",
   "metadata": {},
   "outputs": [
    {
     "name": "stdout",
     "output_type": "stream",
     "text": [
      "['b', 'n']\n"
     ]
    }
   ],
   "source": [
    "# find the duplicate values  in list\n",
    "some_list = ['a','b','c','b','d','m','n','n']\n",
    "\n",
    "duplicates = []\n",
    "for value in some_list:\n",
    "    if some_list.count(value) >1:\n",
    "        if value not in duplicates:\n",
    "            duplicates.append(value)\n",
    "        \n",
    "        \n",
    "print(duplicates)"
   ]
  },
  {
   "cell_type": "markdown",
   "id": "9da1daa9",
   "metadata": {},
   "source": [
    "# Functions\n",
    "    def function_name():\n",
    "        statements\n"
   ]
  },
  {
   "cell_type": "code",
   "execution_count": 115,
   "id": "1709350b",
   "metadata": {},
   "outputs": [
    {
     "name": "stdout",
     "output_type": "stream",
     "text": [
      "helllooooo\n"
     ]
    }
   ],
   "source": [
    "def say_hello():\n",
    "    print('helllooooo')\n",
    "\n",
    "say_hello()"
   ]
  },
  {
   "cell_type": "code",
   "execution_count": 116,
   "id": "3717b073",
   "metadata": {},
   "outputs": [
    {
     "data": {
      "text/plain": [
       "<function __main__.say_hello()>"
      ]
     },
     "execution_count": 116,
     "metadata": {},
     "output_type": "execute_result"
    }
   ],
   "source": [
    "def say_hello():\n",
    "    print('helllooooo')\n",
    "\n",
    "say_hello       # wont work without bracket ()"
   ]
  },
  {
   "cell_type": "code",
   "execution_count": 119,
   "id": "e8728152",
   "metadata": {},
   "outputs": [
    {
     "name": "stdout",
     "output_type": "stream",
     "text": [
      "   *   \n",
      "  ***  \n",
      " ***** \n",
      "*******\n",
      "   *   \n",
      "   *   \n",
      "   *   \n",
      "  ***  \n",
      " ***** \n",
      "*******\n",
      "   *   \n",
      "   *   \n",
      "<function show_tree at 0x0000019EE81EA680>\n"
     ]
    }
   ],
   "source": [
    "picture = [\n",
    "[0,0,0,1,0,0,0],\n",
    "[0,0,1,1,1,0,0],\n",
    "[0,1,1,1,1,1,0],\n",
    "[1,1,1,1,1,1,1],\n",
    "[0,0,0,1,0,0,0],\n",
    "[0,0,0,1,0,0,0]\n",
    "]\n",
    "\n",
    "def show_tree():\n",
    "    for row in picture:\n",
    "        for pixel in row:\n",
    "            if (pixel == 1):\n",
    "                print('*', end='')\n",
    "            else:\n",
    "                print(' ', end='')\n",
    "        print('')\n",
    "\n",
    "show_tree()\n",
    "show_tree()\n",
    "print(show_tree)  # print memory address where the show tree function is stored"
   ]
  },
  {
   "cell_type": "code",
   "execution_count": 129,
   "id": "a775b6eb",
   "metadata": {},
   "outputs": [
    {
     "name": "stdout",
     "output_type": "stream",
     "text": [
      "hello Andrei :)\n",
      "hello John :)\n",
      "hello :( roy\n"
     ]
    }
   ],
   "source": [
    "# Parameters and aruuments\n",
    "\n",
    "def say_hello(name,emoji):  # its called positional parameters\n",
    "    print(f'hello {name} {emoji}')\n",
    "\n",
    "#arguments : its used as actual values in the function. This is called positional argumeny\n",
    "\n",
    "say_hello('Andrei',':)')\n",
    "say_hello('John',':)')\n",
    "say_hello(':(','roy')"
   ]
  },
  {
   "cell_type": "code",
   "execution_count": 130,
   "id": "d283c03e",
   "metadata": {},
   "outputs": [
    {
     "name": "stdout",
     "output_type": "stream",
     "text": [
      "hello Ryan :)\n"
     ]
    }
   ],
   "source": [
    "# keyword arguments # not use full\n",
    "def say_hello(name,emoji):\n",
    "    print(f'hello {name} {emoji}')\n",
    "    \n",
    "say_hello(name=\"Ryan\",emoji=':)')"
   ]
  },
  {
   "cell_type": "code",
   "execution_count": null,
   "id": "6b08e5cd",
   "metadata": {},
   "outputs": [],
   "source": []
  }
 ],
 "metadata": {
  "kernelspec": {
   "display_name": "Python 3 (ipykernel)",
   "language": "python",
   "name": "python3"
  },
  "language_info": {
   "codemirror_mode": {
    "name": "ipython",
    "version": 3
   },
   "file_extension": ".py",
   "mimetype": "text/x-python",
   "name": "python",
   "nbconvert_exporter": "python",
   "pygments_lexer": "ipython3",
   "version": "3.10.9"
  }
 },
 "nbformat": 4,
 "nbformat_minor": 5
}
