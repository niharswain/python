{
 "cells": [
  {
   "cell_type": "markdown",
   "id": "0ec19c15",
   "metadata": {},
   "source": [
    "# Object Oriented Pragramming in Python\n",
    "- Everything in python are object because in python everything is buuilt by class\n",
    "- We car create our own class by using class objectname\n",
    "- A class can instantiate many instances which is called objects.\n",
    "- OOP is reusable and can be used many times through objects."
   ]
  },
  {
   "cell_type": "code",
   "execution_count": 1,
   "id": "29661427",
   "metadata": {},
   "outputs": [],
   "source": [
    "class BigObject: #this is a class\n",
    "    pass\n",
    "obj = BigObject()  # this is a object"
   ]
  },
  {
   "cell_type": "code",
   "execution_count": 2,
   "id": "01942c12",
   "metadata": {},
   "outputs": [
    {
     "name": "stdout",
     "output_type": "stream",
     "text": [
      "Cindy\n"
     ]
    }
   ],
   "source": [
    "# Example of OOPS\n",
    "\n",
    "class PlayerCharacter: # this is class\n",
    "  def __init__(self, name): #this is init method to define class \n",
    "    self.name = name  # attribute\n",
    "\n",
    "  def run(self):\n",
    "    print('inside run method')\n",
    "\n",
    "player1=PlayerCharacter('Cindy')  # this is object\n",
    "print(player1.name)"
   ]
  },
  {
   "cell_type": "code",
   "execution_count": 3,
   "id": "0ce29c88",
   "metadata": {},
   "outputs": [
    {
     "name": "stdout",
     "output_type": "stream",
     "text": [
      "Cindy 40\n",
      "inside run method\n",
      "mention return or else it will show NONE\n"
     ]
    }
   ],
   "source": [
    "# Example of OOPS\n",
    "\n",
    "class PlayerCharacter:\n",
    "  def __init__(self, name,age):\n",
    "    self.name = name  # attribute\n",
    "    self.age = age\n",
    "\n",
    "  def run(self):\n",
    "    print('inside run method')\n",
    "    return 'mention return or else it will show NONE'\n",
    "\n",
    "player1=PlayerCharacter('Cindy',40)\n",
    "print(player1.name,player1.age)\n",
    "print(player1.run())"
   ]
  },
  {
   "cell_type": "code",
   "execution_count": 4,
   "id": "89704ec4",
   "metadata": {},
   "outputs": [
    {
     "name": "stdout",
     "output_type": "stream",
     "text": [
      "Help on PlayerCharacter in module __main__ object:\n",
      "\n",
      "class PlayerCharacter(builtins.object)\n",
      " |  PlayerCharacter(name, age)\n",
      " |  \n",
      " |  Methods defined here:\n",
      " |  \n",
      " |  __init__(self, name, age)\n",
      " |      Initialize self.  See help(type(self)) for accurate signature.\n",
      " |  \n",
      " |  run(self)\n",
      " |  \n",
      " |  ----------------------------------------------------------------------\n",
      " |  Data descriptors defined here:\n",
      " |  \n",
      " |  __dict__\n",
      " |      dictionary for instance variables (if defined)\n",
      " |  \n",
      " |  __weakref__\n",
      " |      list of weak references to the object (if defined)\n",
      "\n"
     ]
    }
   ],
   "source": [
    "help(player1)  # here it shows the all the cahrecter of player 1 object. help is a python function"
   ]
  },
  {
   "cell_type": "markdown",
   "id": "fc43cdcc",
   "metadata": {},
   "source": [
    "# Attributes & Methods\n",
    "\n",
    "- Class object attribute does not change through across diffrent instances\n",
    "- However attributes in chnages dynamically and specific to each object\n",
    "- we can access class atribute by using class.atribute \n",
    "- but in order to acess attribute, we use self.attribute\n"
   ]
  },
  {
   "cell_type": "code",
   "execution_count": 5,
   "id": "c3882751",
   "metadata": {},
   "outputs": [
    {
     "name": "stdout",
     "output_type": "stream",
     "text": [
      "Cindy 40\n",
      "inside run method\n",
      "mention return or else it will show NONE\n",
      "True\n",
      "TOM 40\n",
      "inside run method\n",
      "mention return or else it will show NONE\n",
      "True\n"
     ]
    }
   ],
   "source": [
    "# Example of OOPS\n",
    "\n",
    "class PlayerCharacter:\n",
    "  membership = True    # class object attribute . it is different than  attribute.\n",
    "  # this class attribute is not dynamic\n",
    "  def __init__(self, name,age):\n",
    "    if (self.membership):\n",
    "      self.name = name  # attribute\n",
    "      self.age = age\n",
    "\n",
    "  def run(self):\n",
    "    print('inside run method')\n",
    "    return 'mention return or else it will show NONE'\n",
    "\n",
    "player1=PlayerCharacter('Cindy',40)\n",
    "print(player1.name,player1.age)\n",
    "print(player1.run())\n",
    "print(player1.membership)\n",
    "\n",
    "player2=PlayerCharacter('TOM',24)\n",
    "print(player2.name,player1.age)\n",
    "print(player2.run())\n",
    "print(player2.membership)\n",
    "\n",
    "\n",
    "#help(player1)"
   ]
  },
  {
   "cell_type": "code",
   "execution_count": 8,
   "id": "3804bd22",
   "metadata": {},
   "outputs": [
    {
     "name": "stdout",
     "output_type": "stream",
     "text": [
      "Cindy 40\n",
      "my name is Cindy\n",
      "None\n",
      "True\n",
      "TOM 40\n",
      "my name is TOM\n",
      "None\n",
      "True\n"
     ]
    }
   ],
   "source": [
    "# Example of attribute\n",
    "\n",
    "class PlayerCharacter:\n",
    "  membership = True    # class object attribute . it is different than  attribute. this class attribute is not dynamic\n",
    "  def __init__(self, name,age):\n",
    "    if (PlayerCharacter.membership):   # accessing class attribute\n",
    "      self.name = name  # attribute\n",
    "      self.age = age\n",
    "\n",
    "  def run(self):\n",
    "    print(f'my name is {self.name}')   # accessing attribute\n",
    "    \n",
    "\n",
    "player1=PlayerCharacter('Cindy',40)\n",
    "print(player1.name,player1.age)\n",
    "print(player1.run())\n",
    "print(player1.membership)\n",
    "\n",
    "player2=PlayerCharacter('TOM',24)\n",
    "print(player2.name,player1.age)\n",
    "print(player2.run())\n",
    "print(player2.membership)"
   ]
  },
  {
   "cell_type": "markdown",
   "id": "7761ef69",
   "metadata": {},
   "source": [
    "# __init__      Constructer\n",
    "\n",
    "- "
   ]
  },
  {
   "cell_type": "code",
   "execution_count": 10,
   "id": "0f8f9ea1",
   "metadata": {},
   "outputs": [
    {
     "ename": "AttributeError",
     "evalue": "'PlayerCharacter' object has no attribute 'name'",
     "output_type": "error",
     "traceback": [
      "\u001b[1;31m---------------------------------------------------------------------------\u001b[0m",
      "\u001b[1;31mAttributeError\u001b[0m                            Traceback (most recent call last)",
      "Cell \u001b[1;32mIn[10], line 16\u001b[0m\n\u001b[0;32m     12\u001b[0m     \u001b[38;5;28mprint\u001b[39m(\u001b[38;5;124mf\u001b[39m\u001b[38;5;124m'\u001b[39m\u001b[38;5;124mmy name is \u001b[39m\u001b[38;5;132;01m{\u001b[39;00m\u001b[38;5;28mself\u001b[39m\u001b[38;5;241m.\u001b[39mname\u001b[38;5;132;01m}\u001b[39;00m\u001b[38;5;124m'\u001b[39m)\n\u001b[0;32m     15\u001b[0m player1 \u001b[38;5;241m=\u001b[39m PlayerCharacter(\u001b[38;5;124m'\u001b[39m\u001b[38;5;124mCindy\u001b[39m\u001b[38;5;124m'\u001b[39m, \u001b[38;5;241m10\u001b[39m)\n\u001b[1;32m---> 16\u001b[0m \u001b[38;5;28mprint\u001b[39m(\u001b[43mplayer1\u001b[49m\u001b[38;5;241;43m.\u001b[39;49m\u001b[43mname\u001b[49m, player1\u001b[38;5;241m.\u001b[39mage)\n",
      "\u001b[1;31mAttributeError\u001b[0m: 'PlayerCharacter' object has no attribute 'name'"
     ]
    }
   ],
   "source": [
    "# Example of OOPS\n",
    "class PlayerCharacter:\n",
    "  membership = True  # class object attribute . it is different than  attribute.\n",
    "\n",
    "  # this class attribute is not dynamic\n",
    "  def __init__(self, name='anonymous', age=0):\n",
    "    if (age > 18):\n",
    "      self.name = name  # attribute\n",
    "      self.age = age\n",
    "\n",
    "  def run(self):\n",
    "    print(f'my name is {self.name}')\n",
    "\n",
    "\n",
    "player1 = PlayerCharacter('Cindy', 10)  # it will throw error as the age is 10 , less than 18\n",
    "print(player1.name, player1.age)\n"
   ]
  },
  {
   "cell_type": "code",
   "execution_count": 11,
   "id": "5cd61d25",
   "metadata": {},
   "outputs": [
    {
     "name": "stdout",
     "output_type": "stream",
     "text": [
      "Cindy 40\n"
     ]
    }
   ],
   "source": [
    "# Example of OOPS\n",
    "class PlayerCharacter:\n",
    "  membership = True  # class object attribute . it is different than  attribute.\n",
    "\n",
    "  # this class attribute is not dynamic\n",
    "  def __init__(self, name='anonymous', age=0):\n",
    "    if (age > 18):\n",
    "      self.name = name  # attribute\n",
    "      self.age = age\n",
    "\n",
    "  def run(self):\n",
    "    print(f'my name is {self.name}')\n",
    "\n",
    "\n",
    "player1 = PlayerCharacter('Cindy', 40)\n",
    "print(player1.name, player1.age)\n"
   ]
  },
  {
   "cell_type": "markdown",
   "id": "a4346a7b",
   "metadata": {},
   "source": [
    "# class Method and static method"
   ]
  },
  {
   "cell_type": "code",
   "execution_count": 12,
   "id": "ebb61773",
   "metadata": {},
   "outputs": [
    {
     "name": "stdout",
     "output_type": "stream",
     "text": [
      "Cindy 40\n"
     ]
    },
    {
     "ename": "TypeError",
     "evalue": "PlayerCharacter.adding_things() takes 2 positional arguments but 3 were given",
     "output_type": "error",
     "traceback": [
      "\u001b[1;31m---------------------------------------------------------------------------\u001b[0m",
      "\u001b[1;31mTypeError\u001b[0m                                 Traceback (most recent call last)",
      "Cell \u001b[1;32mIn[12], line 20\u001b[0m\n\u001b[0;32m     18\u001b[0m player1 \u001b[38;5;241m=\u001b[39m PlayerCharacter(\u001b[38;5;124m'\u001b[39m\u001b[38;5;124mCindy\u001b[39m\u001b[38;5;124m'\u001b[39m, \u001b[38;5;241m40\u001b[39m)\n\u001b[0;32m     19\u001b[0m \u001b[38;5;28mprint\u001b[39m(player1\u001b[38;5;241m.\u001b[39mname, player1\u001b[38;5;241m.\u001b[39mage)\n\u001b[1;32m---> 20\u001b[0m \u001b[38;5;28mprint\u001b[39m(\u001b[43mplayer1\u001b[49m\u001b[38;5;241;43m.\u001b[39;49m\u001b[43madding_things\u001b[49m\u001b[43m(\u001b[49m\u001b[38;5;241;43m2\u001b[39;49m\u001b[43m,\u001b[49m\u001b[38;5;241;43m3\u001b[39;49m\u001b[43m)\u001b[49m)\n",
      "\u001b[1;31mTypeError\u001b[0m: PlayerCharacter.adding_things() takes 2 positional arguments but 3 were given"
     ]
    }
   ],
   "source": [
    "# Example of class method\n",
    "class PlayerCharacter:\n",
    "  membership = True  \n",
    "  def __init__(self, name='anonymous', age=0):\n",
    "    if (age > 18):\n",
    "      self.name = name  # attribute\n",
    "      self.age = age\n",
    "\n",
    "  def run(self):\n",
    "    print(f'my name is {self.name}')\n",
    "\n",
    "  @classmethod     # this is class method, you can not change the keyword\n",
    "  def adding_things(num1, num2 ):    # it is throwing error as num1 and num2 is being treated as positional parameter\n",
    "    return num1+num2\n",
    "\n",
    "\n",
    "\n",
    "player1 = PlayerCharacter('Cindy', 40)\n",
    "print(player1.name, player1.age)\n",
    "print(player1.adding_things(2,3))"
   ]
  },
  {
   "cell_type": "code",
   "execution_count": 13,
   "id": "7c0bd13f",
   "metadata": {},
   "outputs": [
    {
     "name": "stdout",
     "output_type": "stream",
     "text": [
      "Cindy 40\n",
      "5\n"
     ]
    }
   ],
   "source": [
    "# Example of class method\n",
    "class PlayerCharacter:\n",
    "  membership = True  \n",
    "  def __init__(self, name='anonymous', age=0):\n",
    "    if (age > 18):\n",
    "      self.name = name  # attribute\n",
    "      self.age = age\n",
    "\n",
    "  def run(self):\n",
    "    print(f'my name is {self.name}')\n",
    "\n",
    "  @classmethod     # this is class method, you can not change the keyword\n",
    "  def adding_things(cls,num1, num2 ):  # we have to mention cls here\n",
    "    return num1+num2\n",
    "\n",
    "\n",
    "\n",
    "player1 = PlayerCharacter('Cindy', 40) \n",
    "print(player1.name, player1.age)\n",
    "print(player1.adding_things(2,3))"
   ]
  },
  {
   "cell_type": "code",
   "execution_count": 14,
   "id": "6db0fd97",
   "metadata": {},
   "outputs": [
    {
     "name": "stdout",
     "output_type": "stream",
     "text": [
      "5\n"
     ]
    }
   ],
   "source": [
    "# Example of class method\n",
    "class PlayerCharacter:\n",
    "  membership = True  # class object attribute . it is different than  attribute.\n",
    "\n",
    "  # this class attribute is not dynamic\n",
    "  def __init__(self, name, age):\n",
    "      self.name = name  # attribute\n",
    "      self.age = age\n",
    "\n",
    "  def run(self):\n",
    "    print(f'my name is {self.name}')\n",
    "\n",
    "  @classmethod\n",
    "  def adding_things(cls,num1, num2):\n",
    "    return cls('Teddy', num1 + num2)   # we can use cls to instantiate . Here cls represents the class PlayerCharecter. \n",
    "\n",
    "#player1 = PlayerCharacter('Cindy', 40)\n",
    "#print(player1.name, player1.age)\n",
    "#print(player1.adding_things(2,3))\n",
    "player2=PlayerCharacter.adding_things(2,3)\n",
    "print(player2.age)"
   ]
  },
  {
   "cell_type": "code",
   "execution_count": 15,
   "id": "0046a207",
   "metadata": {},
   "outputs": [
    {
     "name": "stdout",
     "output_type": "stream",
     "text": [
      "5\n"
     ]
    }
   ],
   "source": [
    "# Example of static method\n",
    "class PlayerCharacter:\n",
    "  membership = True  # class object attribute . it is different than  attribute.\n",
    "\n",
    "  # this class attribute is not dynamic\n",
    "  def __init__(self, name, age):\n",
    "      self.name = name  # attribute\n",
    "      self.age = age\n",
    "\n",
    "  def run(self):\n",
    "    print(f'my name is {self.name}')\n",
    "\n",
    "  @classmethod\n",
    "  def adding_things(cls,num1, num2):\n",
    "    return cls('Teddy', num1 + num2)   \n",
    "\n",
    "  @staticmethod  #static method\n",
    "  def adding_things2(num1, num2):\n",
    "    return (num1+num2)\n",
    "\n",
    "#player1 = PlayerCharacter('Cindy', 40)\n",
    "#print(player1.name, player1.age)\n",
    "#print(player1.adding_things(2,3))\n",
    "player2=PlayerCharacter.adding_things2(2,3)\n",
    "print(player2)"
   ]
  },
  {
   "cell_type": "markdown",
   "id": "4ed72797",
   "metadata": {},
   "source": [
    "# 4 Pillars of OOPS\n",
    "- Encapsulation (binding all objects like atribute,function)"
   ]
  },
  {
   "cell_type": "code",
   "execution_count": 24,
   "id": "9be9fb8c",
   "metadata": {},
   "outputs": [
    {
     "name": "stdout",
     "output_type": "stream",
     "text": [
      "my name is Andrew, and my age is 100\n"
     ]
    }
   ],
   "source": [
    "# Example of encapsulation\n",
    "class PlayerCharacter:\n",
    "  membership = True  # class object attribute . it is different than  attribute.\n",
    "\n",
    "  # this class attribute is not dynamic\n",
    "  def __init__(self, name, age):\n",
    "      self.name = name  # attribute\n",
    "      self.age = age\n",
    "\n",
    "  def run(self):\n",
    "    print(f'my name is {self.name}')\n",
    "\n",
    "  def speak(self):\n",
    "    print(f'my name is {self.name}, and my age is {self.age}')\n",
    "    \n",
    "player1 = PlayerCharacter('Andrew',100)\n",
    "player1.speak()"
   ]
  },
  {
   "cell_type": "code",
   "execution_count": 25,
   "id": "30aa5108",
   "metadata": {},
   "outputs": [
    {
     "name": "stdout",
     "output_type": "stream",
     "text": [
      "Andrew\n",
      "40\n",
      "beast\n",
      "60\n"
     ]
    }
   ],
   "source": [
    "class PlayerCharacter:\n",
    "  membership = True  # class object attribute . it is different than  attribute.\n",
    "\n",
    "  # this class attribute is not dynamic\n",
    "  def __init__(self, name, age):\n",
    "      self.name = name  # attribute\n",
    "      self.age = age\n",
    "\n",
    "player1 = PlayerCharacter('Andrew',40)\n",
    "print(player1.name)\n",
    "print(player1.age)\n",
    "\n",
    "player2={'name':'beast','age':60}\n",
    "print(player2['name'])\n",
    "print(player2['age'])"
   ]
  },
  {
   "cell_type": "code",
   "execution_count": 26,
   "id": "ced1e6ab",
   "metadata": {},
   "outputs": [
    {
     "name": "stdout",
     "output_type": "stream",
     "text": [
      "my name is Andrew, and my age is 100\n",
      "4\n"
     ]
    }
   ],
   "source": [
    "# Example of Abstraction\n",
    "# Abstarction means , hiding the information or providing the information whatever is needed and hide qall other information\n",
    "\n",
    "class PlayerCharacter:\n",
    "  membership = True  # class object attribute . it is different than  attribute.\n",
    "\n",
    "  # this class attribute is not dynamic\n",
    "  def __init__(self, name, age):\n",
    "      self.name = name  # attribute\n",
    "      self.age = age\n",
    "\n",
    "  def run(self):\n",
    "    print(f'my name is {self.name}')\n",
    "\n",
    "  def speak(self):\n",
    "    print(f'my name is {self.name}, and my age is {self.age}')\n",
    "    \n",
    "player1 = PlayerCharacter('Andrew',100)\n",
    "player1.speak()   # here player1 can access the speak method but does not care what is inside teh speak.\n",
    "\n",
    "print(len((1,2,3,4)))  # how len method works, what is inside it. its all hidden. "
   ]
  },
  {
   "cell_type": "markdown",
   "id": "6386c339",
   "metadata": {},
   "source": [
    "# Public and private variables"
   ]
  },
  {
   "cell_type": "code",
   "execution_count": 28,
   "id": "e3e233fc",
   "metadata": {},
   "outputs": [
    {
     "name": "stdout",
     "output_type": "stream",
     "text": [
      "my name is Andrew, and my age is 100 and i am in BLR\n"
     ]
    }
   ],
   "source": [
    "class PlayerCharacter:\n",
    "  def __init__(self, name, age,place):\n",
    "      self.name = name  \n",
    "      self.age = age\n",
    "      self._place=place   # this is how we define private variable \n",
    "    \n",
    "\n",
    "  def run(self):\n",
    "    print(f'my name is {self.name}')\n",
    "\n",
    "  def speak(self):\n",
    "    print(f'my name is {self.name}, and my age is {self.age} and i am in {self._place}')\n",
    "    \n",
    "player1 = PlayerCharacter('Andrew',100,'BLR')\n",
    "player1.speak() "
   ]
  },
  {
   "cell_type": "code",
   "execution_count": 29,
   "id": "af19b696",
   "metadata": {},
   "outputs": [
    {
     "name": "stdout",
     "output_type": "stream",
     "text": [
      "logged in\n",
      "None\n"
     ]
    }
   ],
   "source": [
    "# Inheritance\n",
    "# Inheritence example\n",
    "\n",
    "class User:      # we dont have init method here as we dont have any attribute\n",
    "  def sign_in(self):\n",
    "    print('logged in')\n",
    "\n",
    "class Wizard(User):  # wizerd is a play name and user will be wizard user\n",
    "  pass\n",
    "\n",
    "\n",
    "\n",
    "class Archer(User):  # here wizard or archer is diffrent class but inherited the calss User\n",
    "  pass\n",
    "\n",
    "wizard1=Wizard()\n",
    "print(wizard1.sign_in())"
   ]
  },
  {
   "cell_type": "code",
   "execution_count": 30,
   "id": "e9dfde33",
   "metadata": {},
   "outputs": [
    {
     "name": "stdout",
     "output_type": "stream",
     "text": [
      "attacking with power of 50\n",
      "attacking with arrows of 100\n"
     ]
    }
   ],
   "source": [
    "# Inheritence example\n",
    "\n",
    "class User:      # we dont have init method here as we dont have any attribute   # Parent class\n",
    "  def sign_in(self):\n",
    "    print('logged in')\n",
    "\n",
    "class Wizard(User):  # wizerd is a play name and user will be wizard user   # child or sub class\n",
    "  def __init__(self, name, power):\n",
    "    self.name=name\n",
    "    self.power=power\n",
    "  def attack(self):\n",
    "    print (f'attacking with power of {self.power}')\n",
    "\n",
    "class Archer(User):  # here wizard or archer is diffrent class but inherited the calss User  # child or sub class \n",
    "  def __init__(self, name, num_arrows):\n",
    "    self.name=name\n",
    "    self.num_arrows=num_arrows\n",
    "    \n",
    "  def attack(self):\n",
    "    print(f'attacking with arrows of {self.num_arrows}')\n",
    "\n",
    "wizard1=Wizard('Merlin',50)\n",
    "archer1=Archer('Robin',100)\n",
    "wizard1.attack()\n",
    "archer1.attack()"
   ]
  },
  {
   "cell_type": "code",
   "execution_count": 31,
   "id": "a496ef3f",
   "metadata": {},
   "outputs": [
    {
     "name": "stdout",
     "output_type": "stream",
     "text": [
      "attacking with power of 50\n",
      "attacking with arrows of 100\n",
      "True\n",
      "True\n"
     ]
    }
   ],
   "source": [
    "# Inheritence example\n",
    "\n",
    "class User:      # we dont have init method here as we dont have any attribute\n",
    "  def sign_in(self):\n",
    "    print('logged in')\n",
    "\n",
    "class Wizard(User):  # wizerd is a play name and user will be wizard user\n",
    "  def __init__(self, name, power):\n",
    "    self.name=name\n",
    "    self.power=power\n",
    "  def attack(self):\n",
    "    print (f'attacking with power of {self.power}')\n",
    "\n",
    "class Archer(User):  # here wizard or archer is diffrent class but inherited the calss User\n",
    "  def __init__(self, name, num_arrows):\n",
    "    self.name=name\n",
    "    self.num_arrows=num_arrows\n",
    "    \n",
    "  def attack(self):\n",
    "    print(f'attacking with arrows of {self.num_arrows}')\n",
    "\n",
    "wizard1=Wizard('Merlin',50)\n",
    "archer1=Archer('Robin',100)\n",
    "wizard1.attack()\n",
    "archer1.attack()\n",
    "\n",
    "print(isinstance(wizard1, User))  # it will be True as wizard1 is an instnace of Wizard class which is subclass of User \n",
    "print(isinstance(wizard1, object))  # it will be True as wizard1 is an instnace of Wizard class which is subclass of User and by default any class is child of parent class Object \n"
   ]
  },
  {
   "cell_type": "markdown",
   "id": "37b10138",
   "metadata": {},
   "source": [
    "# Polymorphism\n",
    "\n",
    "- poly meane many\n",
    "- morphisim means form , that means many forms \n",
    "- deffernt object classes can share \n",
    "- polymorphisim allows us to have many forms. It is  teh ability to redifine methods from derived classes"
   ]
  },
  {
   "cell_type": "code",
   "execution_count": 33,
   "id": "ef890af2",
   "metadata": {},
   "outputs": [
    {
     "name": "stdout",
     "output_type": "stream",
     "text": [
      "do nothing\n",
      "attacking with power of 50\n",
      "do nothing\n",
      "attacking with arrows of 100\n",
      "do nothing\n",
      "attacking with power of 50\n",
      "do nothing\n",
      "attacking with arrows of 100\n"
     ]
    }
   ],
   "source": [
    "# Polymorphism example\n",
    "\n",
    "class User:      # we dont have init method here as we dont have any attribute\n",
    "  def sign_in(self):\n",
    "    print('logged in')\n",
    "\n",
    "  def attack(self):\n",
    "    print('do nothing')\n",
    "\n",
    "class Wizard(User):  # wizerd is a play name and user will be wizard user\n",
    "  def __init__(self, name, power):\n",
    "    self.name=name\n",
    "    self.power=power\n",
    "  def attack(self):\n",
    "    User.attack(self)\n",
    "    print (f'attacking with power of {self.power}')\n",
    "\n",
    "class Archer(User):  # here wizard or archer is diffrent class but inherited the calss User\n",
    "  def __init__(self, name, num_arrows):\n",
    "    self.name=name\n",
    "    self.num_arrows=num_arrows\n",
    "  def attack(self):\n",
    "    User.attack(self)\n",
    "    print(f'attacking with arrows of {self.num_arrows}')\n",
    "\n",
    "wizard1=Wizard('Merlin',50)\n",
    "archer1=Archer('Robin',100)\n",
    "wizard1.attack()\n",
    "archer1.attack()\n",
    "\n",
    "def player_attack(char):\n",
    "  char.attack()\n",
    "\n",
    "player_attack(wizard1)\n",
    "player_attack(archer1)"
   ]
  },
  {
   "cell_type": "markdown",
   "id": "990ba4c1",
   "metadata": {},
   "source": [
    "# super()"
   ]
  },
  {
   "cell_type": "code",
   "execution_count": 34,
   "id": "cc7ca485",
   "metadata": {},
   "outputs": [
    {
     "name": "stdout",
     "output_type": "stream",
     "text": [
      "merlin@gmail.com\n"
     ]
    }
   ],
   "source": [
    "# super() example\n",
    "\n",
    "class User(object):      # we dont have init method here as we dont have any attribute\n",
    "  def __init__(self, email):\n",
    "    self.email=email\n",
    "  def sign_in(self):\n",
    "    print('logged in')\n",
    "\n",
    "\n",
    "class Wizard(User):  \n",
    "  def __init__(self, name, power, email):\n",
    "    super().__init__(email)  # super means email is from super class User\n",
    "    self.name=name\n",
    "    self.power=power\n",
    "    \n",
    "  def attack(self):\n",
    "    print (f'attacking with power of {self.power}')\n",
    "\n",
    "wizard1=Wizard('Merlin', 60, 'merlin@gmail.com')\n",
    "print(wizard1.email)"
   ]
  },
  {
   "cell_type": "code",
   "execution_count": 35,
   "id": "8b7f5f5f",
   "metadata": {},
   "outputs": [
    {
     "name": "stdout",
     "output_type": "stream",
     "text": [
      "['__add__', '__class__', '__contains__', '__delattr__', '__dir__', '__doc__', '__eq__', '__format__', '__ge__', '__getattribute__', '__getitem__', '__getnewargs__', '__gt__', '__hash__', '__init__', '__init_subclass__', '__iter__', '__le__', '__len__', '__lt__', '__mod__', '__mul__', '__ne__', '__new__', '__reduce__', '__reduce_ex__', '__repr__', '__rmod__', '__rmul__', '__setattr__', '__sizeof__', '__str__', '__subclasshook__', 'capitalize', 'casefold', 'center', 'count', 'encode', 'endswith', 'expandtabs', 'find', 'format', 'format_map', 'index', 'isalnum', 'isalpha', 'isascii', 'isdecimal', 'isdigit', 'isidentifier', 'islower', 'isnumeric', 'isprintable', 'isspace', 'istitle', 'isupper', 'join', 'ljust', 'lower', 'lstrip', 'maketrans', 'partition', 'removeprefix', 'removesuffix', 'replace', 'rfind', 'rindex', 'rjust', 'rpartition', 'rsplit', 'rstrip', 'split', 'splitlines', 'startswith', 'strip', 'swapcase', 'title', 'translate', 'upper', 'zfill']\n"
     ]
    }
   ],
   "source": [
    "# introspection  : to detremine the type of objecvt during runtime \n",
    "\n",
    "class User(object):      # we dont have init method here as we dont have any attribute\n",
    "  def __init__(self, email):\n",
    "    self.email=email\n",
    "  def sign_in(self):\n",
    "    print('logged in')\n",
    "\n",
    "\n",
    "class Wizard(User):  \n",
    "  def __init__(self, name, power, email):\n",
    "    super().__init__(email)  # super means email is from super class User\n",
    "    self.name=name\n",
    "    self.power=power\n",
    "    \n",
    "  def attack(self):\n",
    "    print (f'attacking with power of {self.power}')\n",
    "\n",
    "wizard1=Wizard('Merlin', 60, 'merlin@gmail.com')\n",
    "print(dir(wizard1.email))  # this dispalys the methods and objects \n"
   ]
  },
  {
   "cell_type": "markdown",
   "id": "19af1533",
   "metadata": {},
   "source": [
    "# Dunder method"
   ]
  },
  {
   "cell_type": "code",
   "execution_count": 36,
   "id": "9b0b01a5",
   "metadata": {},
   "outputs": [
    {
     "name": "stdout",
     "output_type": "stream",
     "text": [
      "red\n",
      "red\n",
      "5\n"
     ]
    }
   ],
   "source": [
    "# Dunder method : \n",
    "\n",
    "class Toy():\n",
    "  def __init__(self,color,age):\n",
    "    self.color=color\n",
    "    self.age=age\n",
    "  def __str__(self):\n",
    "    return (f'{self.color}')\n",
    "\n",
    "  def __len__(self):   # modifing the defination of len function\n",
    "    return 5\n",
    "\n",
    "action_figure = Toy('red',0)\n",
    "print(action_figure.__str__())\n",
    "print(str(action_figure))\n",
    "print(len(action_figure))  # here it wont be calculating the length of the action figure object, it will just retrun the value of dunder method "
   ]
  },
  {
   "cell_type": "code",
   "execution_count": 37,
   "id": "3cc2b455",
   "metadata": {},
   "outputs": [
    {
     "name": "stdout",
     "output_type": "stream",
     "text": [
      "logged in\n",
      "None\n"
     ]
    }
   ],
   "source": [
    "# Multiple Inheritence \n",
    "\n",
    "class User():\n",
    "  def sign_in(self):\n",
    "    print('logged in')\n",
    "\n",
    "class Wizard(User):\n",
    "  def __init__(self, name, power):\n",
    "    self.name=name\n",
    "    self.power=power\n",
    "\n",
    "  def attack(self):\n",
    "    print(f'attacking with power of {self.power}')\n",
    "\n",
    "class Archer(User):\n",
    "  def __init__(self, name, arrows):\n",
    "    self.name= name\n",
    "    self.arrows=arrows\n",
    "  def check_arrows(self):\n",
    "    print(f'{self.arrows} remaining')\n",
    "  def run(self):\n",
    "    print('ran really fast')\n",
    "\n",
    "class hybridborg(Wizard, Archer):   # inheriting from multiple class \n",
    "  def __init__(self, name,power, arrows):\n",
    "    Archer.__init__(self, name, arrows)\n",
    "    Wizard.__init__(self, name, power)\n",
    "\n",
    "hb1=hybridborg('borgie',50,100)\n",
    "print(hb1.sign_in())"
   ]
  },
  {
   "cell_type": "markdown",
   "id": "cf9b9ac3",
   "metadata": {},
   "source": [
    "# Method Resolution Order \n",
    "\n",
    "- http://www.srikanthtechnologies.com/blog/python/mro.aspx"
   ]
  },
  {
   "cell_type": "code",
   "execution_count": null,
   "id": "7037f913",
   "metadata": {},
   "outputs": [],
   "source": [
    "# Method Resolution Order is a rule that python follow to determine which one to follow\n",
    "\n",
    "class A:\n",
    "  num=10\n",
    "\n",
    "class B(A):\n",
    "  pass\n",
    "\n",
    "class C(A):\n",
    "  num=1\n",
    "\n",
    "class D(B, C):\n",
    "  pass \n",
    "\n",
    "\n",
    "print (D.num)   # it prints 1, How ?\n",
    "print(D.mro())  # MRO will show the rule or flow python follows in case of D\n",
    "D.num"
   ]
  }
 ],
 "metadata": {
  "kernelspec": {
   "display_name": "Python 3 (ipykernel)",
   "language": "python",
   "name": "python3"
  },
  "language_info": {
   "codemirror_mode": {
    "name": "ipython",
    "version": 3
   },
   "file_extension": ".py",
   "mimetype": "text/x-python",
   "name": "python",
   "nbconvert_exporter": "python",
   "pygments_lexer": "ipython3",
   "version": "3.10.9"
  }
 },
 "nbformat": 4,
 "nbformat_minor": 5
}
