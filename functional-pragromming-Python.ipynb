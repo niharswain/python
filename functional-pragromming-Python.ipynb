{
 "cells": [
  {
   "cell_type": "markdown",
   "id": "593cfbeb",
   "metadata": {},
   "source": [
    "# Functional Programming\n",
    "- As oops separates deiffernet functionallity into classes, same does by functional programming.\n",
    "- However functional programming separates programes by data,functionalities.\n",
    "- The goal is same as oops, to make clear and understanable, extendable.\n",
    "- a function should not display outside world.\n",
    "- avoid using print inside a function rather use return\n"
   ]
  },
  {
   "cell_type": "code",
   "execution_count": 3,
   "id": "3f0aa78b",
   "metadata": {},
   "outputs": [
    {
     "name": "stdout",
     "output_type": "stream",
     "text": [
      "[2, 4, 6]\n"
     ]
    }
   ],
   "source": [
    "# functional programming example\n",
    "\n",
    "def multiply_by2(li):\n",
    "  new_list=[]\n",
    "  for item in li:\n",
    "    new_list.append(item*2)\n",
    "  return new_list\n",
    "\n",
    "print(multiply_by2([1,2,3]))"
   ]
  },
  {
   "cell_type": "code",
   "execution_count": 4,
   "id": "4ed00a45",
   "metadata": {},
   "outputs": [
    {
     "name": "stdout",
     "output_type": "stream",
     "text": [
      "[2, 4, 6]\n"
     ]
    }
   ],
   "source": [
    "# map, filter, zip, and reduce\n",
    "# above programe can be done in below way. \n",
    "\n",
    "def multiply_by2(item):\n",
    "  return item*2\n",
    "\n",
    "print(list(map(multiply_by2, [1,2,3]))) "
   ]
  },
  {
   "cell_type": "code",
   "execution_count": 5,
   "id": "16821812",
   "metadata": {},
   "outputs": [
    {
     "name": "stdout",
     "output_type": "stream",
     "text": [
      "[10, 12, 14]\n",
      "[5, 6, 7]\n"
     ]
    }
   ],
   "source": [
    "# map programming example\n",
    "\n",
    "my_list=[5,6,7]\n",
    "def multiply_by2(item):\n",
    "  return item*2\n",
    "\n",
    "print(list(map(multiply_by2, my_list)))   # here my_list will not be modified\n",
    "print (my_list) # my_list will not be changed by function. Thats actually good. A function should not change the outside world"
   ]
  },
  {
   "cell_type": "code",
   "execution_count": 6,
   "id": "fec46c1c",
   "metadata": {},
   "outputs": [
    {
     "name": "stdout",
     "output_type": "stream",
     "text": [
      "[10, 12, 14]\n",
      "[5, 6, 7]\n",
      "filter result here \n",
      "[5, 7]\n",
      "[5, 6, 7]\n"
     ]
    }
   ],
   "source": [
    "# filter programming example\n",
    "\n",
    "my_list=[5,6,7]\n",
    "def multiply_by2(item):\n",
    "  return item*2\n",
    "  \n",
    "def only_odd(item):\n",
    "  return item % 2 !=0\n",
    "\n",
    "#map \n",
    "print(list(map(multiply_by2, my_list)))\n",
    "print (my_list)\n",
    "\n",
    "print(\"filter result here \")\n",
    "#filter\n",
    "print(list(filter(only_odd,my_list)))  # filter will use the function by inserting list and give the out put\n",
    "print(my_list)"
   ]
  },
  {
   "cell_type": "code",
   "execution_count": 7,
   "id": "cca2b842",
   "metadata": {},
   "outputs": [
    {
     "name": "stdout",
     "output_type": "stream",
     "text": [
      "[(5, 10), (6, 20), (7, 30)]\n",
      "[5, 6, 7]\n"
     ]
    }
   ],
   "source": [
    "# zip programming example\n",
    "# zip will group two iterables together\n",
    "\n",
    "my_list=[5,6,7]\n",
    "your_list=[10,20,30,60]\n",
    "def multiply_by2(item):\n",
    "  return item*2\n",
    "  \n",
    "def only_odd(item):\n",
    "  return item % 2 !=0\n",
    "\n",
    "#zip : it zips together both the list into set of tuples into another list\n",
    "print(list(zip(my_list, your_list)))\n",
    "print (my_list)\n"
   ]
  },
  {
   "cell_type": "code",
   "execution_count": 8,
   "id": "fea01830",
   "metadata": {},
   "outputs": [
    {
     "name": "stdout",
     "output_type": "stream",
     "text": [
      "0 5 next item will be acc+ item\n",
      "5 6 next item will be acc+ item\n",
      "11 7 next item will be acc+ item\n",
      "18\n",
      "[5, 6, 7]\n",
      "This is an example of adding initial parameter as 10\n",
      "10 5 next item will be acc+ item\n",
      "15 6 next item will be acc+ item\n",
      "21 7 next item will be acc+ item\n",
      "28\n"
     ]
    }
   ],
   "source": [
    "# reduce  programming example\n",
    "# reduce is not inbuilt in python installation package, so we import functool package\n",
    "\n",
    "from functools import reduce\n",
    "my_list=[5,6,7]\n",
    "\n",
    "def accumulator(acc, item):\n",
    "  print(acc,item,'next item will be acc+ item')  \n",
    "  # first the acc is 0 and item is 1 from the list\n",
    "  # second acc will be = prevoius acc + previous item\n",
    "  # third acc will be = second acc + second item\n",
    "  # final result will be last acc +last item\n",
    "  return acc+item\n",
    "# reduce has theree arguments function, list/object, parameter\n",
    "print(reduce(accumulator, my_list,0))\n",
    "print (my_list)\n",
    "\n",
    "print ('This is an example of adding initial parameter as 10')\n",
    "print(reduce(accumulator, my_list,10))\n"
   ]
  },
  {
   "cell_type": "code",
   "execution_count": null,
   "id": "bd5bef68",
   "metadata": {},
   "outputs": [],
   "source": []
  }
 ],
 "metadata": {
  "kernelspec": {
   "display_name": "Python 3 (ipykernel)",
   "language": "python",
   "name": "python3"
  },
  "language_info": {
   "codemirror_mode": {
    "name": "ipython",
    "version": 3
   },
   "file_extension": ".py",
   "mimetype": "text/x-python",
   "name": "python",
   "nbconvert_exporter": "python",
   "pygments_lexer": "ipython3",
   "version": "3.10.9"
  }
 },
 "nbformat": 4,
 "nbformat_minor": 5
}
