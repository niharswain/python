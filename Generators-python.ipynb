{
 "cells": [
  {
   "cell_type": "markdown",
   "id": "b0427ad6",
   "metadata": {},
   "source": [
    "# Generators\n",
    "\n",
    "- when we use range(10)  or list (range(10))\n",
    "- generators are iterables\n",
    "- but not all iterables are genertaors\n",
    "- diffrence between generator and iterables are the way we implement them.\n",
    "- Generators dont keep the result in memory. so when you use a large data or use a large loop. Use geneartor instead of list.\n",
    "- List will store in moemory so it will be slow.\n"
   ]
  },
  {
   "cell_type": "code",
   "execution_count": 1,
   "id": "ab1ac73f",
   "metadata": {},
   "outputs": [
    {
     "name": "stdout",
     "output_type": "stream",
     "text": [
      "[0, 2, 4, 6, 8, 10, 12, 14, 16, 18, 20, 22, 24, 26, 28, 30, 32, 34, 36, 38, 40, 42, 44, 46, 48, 50, 52, 54, 56, 58, 60, 62, 64, 66, 68, 70, 72, 74, 76, 78, 80, 82, 84, 86, 88, 90, 92, 94, 96, 98, 100, 102, 104, 106, 108, 110, 112, 114, 116, 118, 120, 122, 124, 126, 128, 130, 132, 134, 136, 138, 140, 142, 144, 146, 148, 150, 152, 154, 156, 158, 160, 162, 164, 166, 168, 170, 172, 174, 176, 178, 180, 182, 184, 186, 188, 190, 192, 194, 196, 198]\n",
      "[0, 1, 2, 3, 4, 5, 6, 7, 8, 9, 10, 11, 12, 13, 14, 15, 16, 17, 18, 19, 20, 21, 22, 23, 24, 25, 26, 27, 28, 29, 30, 31, 32, 33, 34, 35, 36, 37, 38, 39, 40, 41, 42, 43, 44, 45, 46, 47, 48, 49, 50, 51, 52, 53, 54, 55, 56, 57, 58, 59, 60, 61, 62, 63, 64, 65, 66, 67, 68, 69, 70, 71, 72, 73, 74, 75, 76, 77, 78, 79, 80, 81, 82, 83, 84, 85, 86, 87, 88, 89, 90, 91, 92, 93, 94, 95, 96, 97, 98, 99]\n"
     ]
    }
   ],
   "source": [
    "def make_list(num):\n",
    "  result=[]\n",
    "  for i in range(num):\n",
    "    result.append(i*2)\n",
    "  return result\n",
    "\n",
    "my_list=make_list(100)\n",
    "print(my_list)\n",
    "\n",
    "print(list(range(100)))"
   ]
  },
  {
   "cell_type": "code",
   "execution_count": 3,
   "id": "15d9e576",
   "metadata": {},
   "outputs": [
    {
     "name": "stdout",
     "output_type": "stream",
     "text": [
      "0\n",
      "2\n",
      "4\n",
      "6\n",
      "8\n",
      "10\n",
      "12\n",
      "14\n",
      "16\n",
      "18\n",
      "4\n"
     ]
    }
   ],
   "source": [
    "def generator_function(num):\n",
    "  for i in range(num):\n",
    "    yield i*2\n",
    "\n",
    "for item in generator_function(10):\n",
    "  print(item)\n",
    "\n",
    "g = generator_function(10)\n",
    "next(g)\n",
    "next(g)\n",
    "print(next(g))"
   ]
  },
  {
   "cell_type": "code",
   "execution_count": 5,
   "id": "b5670164",
   "metadata": {},
   "outputs": [
    {
     "name": "stdout",
     "output_type": "stream",
     "text": [
      "1\n",
      "2\n",
      "3\n",
      "4\n",
      "5\n",
      "6\n",
      "7\n",
      "8\n",
      "9\n"
     ]
    }
   ],
   "source": [
    "def special_for(iterable):\n",
    "  iterator = iter(iterable)\n",
    "  while True:\n",
    "    try:\n",
    "      iterator*5\n",
    "      next(iterator)\n",
    "    except StopIteration:\n",
    "      break\n",
    "\n",
    "\n",
    "class MyGen:\n",
    "  current = 0\n",
    "  def __init__(self, first, last):\n",
    "    self.first = first\n",
    "    self.last = last\n",
    "    MyGen.current = self.first #this line allows us to use the current number as the starting point for the iteration\n",
    "\n",
    "  def __iter__(self):\n",
    "    return self\n",
    "\n",
    "  def __next__(self):\n",
    "    if MyGen.current < self.last:\n",
    "      num = MyGen.current\n",
    "      MyGen.current += 1\n",
    "      return num\n",
    "    raise StopIteration\n",
    "\n",
    "gen = MyGen(1,10)\n",
    "for i in gen:\n",
    "    print(i)"
   ]
  },
  {
   "cell_type": "code",
   "execution_count": 6,
   "id": "d2e596a5",
   "metadata": {},
   "outputs": [
    {
     "name": "stdout",
     "output_type": "stream",
     "text": [
      "0\n",
      "1\n",
      "1\n",
      "2\n",
      "3\n",
      "5\n",
      "8\n",
      "13\n",
      "21\n",
      "34\n",
      "[0, 1, 1, 2, 3, 5, 8, 13, 21, 34]\n"
     ]
    }
   ],
   "source": [
    "# Here is an example generator which calculates fibonacci numbers:\n",
    "# generator version\n",
    "def fib(number):\n",
    "    a =  0\n",
    "    b = 1\n",
    "    for i in range(number):\n",
    "        yield a\n",
    "        temp = a\n",
    "        a = b\n",
    "        b = temp + b\n",
    "\n",
    "for x in fib(10):\n",
    "    print(x)\n",
    "\n",
    "\n",
    "\n",
    "def fib2(number):\n",
    "    a =  0\n",
    "    b = 1\n",
    "    result = []\n",
    "    for i in range(number):\n",
    "        result.append(a)\n",
    "        temp = a\n",
    "        a = b\n",
    "        b = temp + b\n",
    "    return result\n",
    "\n",
    "print(fib2(10))"
   ]
  },
  {
   "cell_type": "code",
   "execution_count": null,
   "id": "6f3cc20b",
   "metadata": {},
   "outputs": [],
   "source": []
  }
 ],
 "metadata": {
  "kernelspec": {
   "display_name": "Python 3 (ipykernel)",
   "language": "python",
   "name": "python3"
  },
  "language_info": {
   "codemirror_mode": {
    "name": "ipython",
    "version": 3
   },
   "file_extension": ".py",
   "mimetype": "text/x-python",
   "name": "python",
   "nbconvert_exporter": "python",
   "pygments_lexer": "ipython3",
   "version": "3.10.9"
  }
 },
 "nbformat": 4,
 "nbformat_minor": 5
}
