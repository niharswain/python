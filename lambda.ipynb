{
 "cells": [
  {
   "cell_type": "markdown",
   "id": "d464c258",
   "metadata": {},
   "source": [
    "# Lambda expressions\n"
   ]
  },
  {
   "cell_type": "code",
   "execution_count": 2,
   "id": "ef9dd5da",
   "metadata": {},
   "outputs": [
    {
     "name": "stdout",
     "output_type": "stream",
     "text": [
      "[10, 12, 14]\n",
      "[5, 6, 7]\n"
     ]
    }
   ],
   "source": [
    "# lambda expressions example\n",
    "my_list=[5,6,7]\n",
    "\n",
    "def multiply_by2(item):\n",
    "  return item*2\n",
    "\n",
    "print(list(map(lambda item: item*2, my_list)))  # its not callling the multiply function\n",
    "print (my_list)\n",
    "\n",
    "\n"
   ]
  },
  {
   "cell_type": "code",
   "execution_count": 3,
   "id": "129e6fe0",
   "metadata": {},
   "outputs": [
    {
     "name": "stdout",
     "output_type": "stream",
     "text": [
      "[5, 7]\n",
      "18\n"
     ]
    }
   ],
   "source": [
    "# lambda expressions example\n",
    "from functools import reduce\n",
    "my_list=[5,6,7]\n",
    "\n",
    "def multiply_by2(item):\n",
    "  return item*2\n",
    "\n",
    "print(list(filter(lambda item: item %2 !=0, my_list))) \n",
    "\n",
    "print(reduce(lambda acc, item: acc+item , my_list))\n",
    "\n"
   ]
  },
  {
   "cell_type": "code",
   "execution_count": 4,
   "id": "73e4e869",
   "metadata": {},
   "outputs": [
    {
     "name": "stdout",
     "output_type": "stream",
     "text": [
      "[25, 36, 49]\n",
      "[(10, -1), (0, 2), (4, 3), (9, 8)]\n"
     ]
    }
   ],
   "source": [
    "# lambda expressions example\n",
    "from functools import reduce\n",
    "# square\n",
    "my_list=[5,6,7]\n",
    "new_list=list(map(lambda num: num**2, my_list))\n",
    "print(new_list)\n",
    "\n",
    "# List Sorting as per teh second number 0: first 1:second\n",
    "a=[(0,2),(9,8),(4,3),(10,-1)]\n",
    "a.sort(key=lambda x: x[1])\n",
    "print(a)"
   ]
  },
  {
   "cell_type": "markdown",
   "id": "837d8ff3",
   "metadata": {},
   "source": [
    "# Comprehessions \n",
    "# there are list comprehesisons, set comprehessions, dictionary comprehessions\n"
   ]
  },
  {
   "cell_type": "code",
   "execution_count": 5,
   "id": "27029b4d",
   "metadata": {},
   "outputs": [
    {
     "name": "stdout",
     "output_type": "stream",
     "text": [
      "['h', 'e', 'l', 'l', 'o']\n",
      "['h', 'e', 'l', 'l', 'o']\n",
      "[0, 1, 2, 3, 4, 5, 6, 7, 8, 9]\n",
      "[0, 2, 4, 6, 8, 10, 12, 14, 16, 18]\n",
      "[0, 4, 8, 12, 16, 20, 24, 28, 32, 36, 40, 44, 48, 52, 56, 60, 64, 68, 72, 76, 80, 84, 88, 92, 96, 100, 104, 108, 112, 116, 120, 124, 128, 132, 136, 140, 144, 148, 152, 156, 160, 164, 168, 172, 176, 180, 184, 188, 192, 196]\n"
     ]
    }
   ],
   "source": [
    "# List Comprehessions\n",
    "\n",
    "my_list = []\n",
    "for char in 'hello':\n",
    "  my_list.append(char)\n",
    "\n",
    "print(my_list)\n",
    "\n",
    "# this can be done using list compression\n",
    "\n",
    "my_list2 = [char for char in 'hello']\n",
    "print(my_list2)\n",
    "\n",
    "my_list3=[num for num in range(0,10)]\n",
    "print(my_list3)\n",
    "\n",
    "my_list4=[num*2 for num in range(0,10)]\n",
    "print(my_list4)\n",
    "\n",
    "# keep only even numbers\n",
    "my_list5=[num*2 for num in range(0,100) if num %2 ==0 ]   \n",
    "print(my_list5)"
   ]
  },
  {
   "cell_type": "code",
   "execution_count": 8,
   "id": "364a91d1",
   "metadata": {},
   "outputs": [],
   "source": [
    "# Set Comprehessions\n"
   ]
  },
  {
   "cell_type": "code",
   "execution_count": 7,
   "id": "b5932146",
   "metadata": {},
   "outputs": [
    {
     "name": "stdout",
     "output_type": "stream",
     "text": [
      "{'a': 1, 'b': 4}\n",
      "{'b': 4}\n",
      "{1: 2, 2: 4, 3: 6}\n"
     ]
    }
   ],
   "source": [
    "# dict comprehesion  \n",
    "dict1={\n",
    "  'a':1,\n",
    "  'b':2\n",
    "}\n",
    "\n",
    "my_dict ={key:value**2 for key,value in dict1.items()}\n",
    "print(my_dict)\n",
    "\n",
    "my_dict_even ={key:value**2 for key,value in dict1.items() if value%2 ==0}\n",
    "print(my_dict_even)\n",
    "\n",
    "my_dict_num={num:num*2 for num in [1,2,3]}\n",
    "print(my_dict_num)"
   ]
  },
  {
   "cell_type": "code",
   "execution_count": 9,
   "id": "652c6ea4",
   "metadata": {},
   "outputs": [
    {
     "name": "stdout",
     "output_type": "stream",
     "text": [
      "['b', 'n']\n",
      "['b', 'n']\n"
     ]
    }
   ],
   "source": [
    "# comprehession example\n",
    "# find out the duplicates using comprehesion\n",
    "\n",
    "some_list=['a','b','c','b','d','m','n','n']\n",
    "\n",
    "duplicates=[]\n",
    "\n",
    "for value in some_list:\n",
    "  if some_list.count(value)>1:\n",
    "    if value not in duplicates:\n",
    "      duplicates.append(value)\n",
    "\n",
    "print(duplicates)\n",
    "\n",
    "dupli=list(set([x for x in some_list if some_list.count(x) > 1]))\n",
    "\n",
    "print(dupli)"
   ]
  },
  {
   "cell_type": "code",
   "execution_count": null,
   "id": "5ceb5744",
   "metadata": {},
   "outputs": [],
   "source": []
  }
 ],
 "metadata": {
  "kernelspec": {
   "display_name": "Python 3 (ipykernel)",
   "language": "python",
   "name": "python3"
  },
  "language_info": {
   "codemirror_mode": {
    "name": "ipython",
    "version": 3
   },
   "file_extension": ".py",
   "mimetype": "text/x-python",
   "name": "python",
   "nbconvert_exporter": "python",
   "pygments_lexer": "ipython3",
   "version": "3.10.9"
  }
 },
 "nbformat": 4,
 "nbformat_minor": 5
}
