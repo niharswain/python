{
 "cells": [
  {
   "cell_type": "markdown",
   "id": "3e3f05e8",
   "metadata": {},
   "source": [
    "# Decorators\n"
   ]
  },
  {
   "cell_type": "code",
   "execution_count": 1,
   "id": "436b12ea",
   "metadata": {},
   "outputs": [],
   "source": [
    "#@decorator supercharge our function, it will add extar feature to the functionality\n",
    "\n",
    "# hihest order function HOC , is a functn returns another function \n",
    "\n",
    "def greet(func):\n",
    "  func()\n",
    "\n",
    "def greet2():\n",
    "  def func():\n",
    "    return 5\n",
    "  return func\n"
   ]
  },
  {
   "cell_type": "code",
   "execution_count": 3,
   "id": "52010803",
   "metadata": {},
   "outputs": [
    {
     "name": "stdout",
     "output_type": "stream",
     "text": [
      "******\n",
      "hello\n",
      "******\n",
      "******\n",
      "see ya later\n",
      "******\n",
      "******\n",
      "******\n",
      "see ya later\n",
      "******\n",
      "******\n"
     ]
    }
   ],
   "source": [
    "#decorator\n",
    "\n",
    "\n",
    "def my_decorator(func):\n",
    "  def wrap_func():\n",
    "    print('******')\n",
    "    func()\n",
    "    print('******')\n",
    "  return wrap_func\n",
    "\n",
    "@my_decorator\n",
    "def hello():\n",
    "  print('hello')\n",
    "\n",
    "hello()\n",
    "\n",
    "@my_decorator   # here i have used decorator, means the bye function will use my_decorator. bye function will be in the place of func() in decorator function\n",
    "def bye():\n",
    "  print('see ya later')\n",
    "\n",
    "bye()\n",
    "\n",
    "bye2=my_decorator(bye)  # without creating a new function, i can use previous function \n",
    "bye2()\n",
    "\n"
   ]
  },
  {
   "cell_type": "code",
   "execution_count": 7,
   "id": "ab160d29",
   "metadata": {},
   "outputs": [
    {
     "name": "stdout",
     "output_type": "stream",
     "text": [
      "******\n",
      "******\n",
      "hiii\n",
      "******\n",
      "******\n"
     ]
    }
   ],
   "source": [
    "#decorator using argumnet\n",
    "def my_decorator(func):\n",
    "  def wrap_func(x):\n",
    "    print('******')\n",
    "    func(x)\n",
    "    print('******')\n",
    "  return wrap_func\n",
    "\n",
    "@my_decorator\n",
    "def hello(greeting):\n",
    "    print(greeting)\n",
    "\n",
    "a=my_decorator(hello)\n",
    "a('hiii')"
   ]
  },
  {
   "cell_type": "code",
   "execution_count": 5,
   "id": "28c1b434",
   "metadata": {},
   "outputs": [
    {
     "name": "stdout",
     "output_type": "stream",
     "text": [
      "******\n",
      "hiiii :(\n",
      "******\n"
     ]
    }
   ],
   "source": [
    "#decorator using argumnet\n",
    "def my_decorator(func):\n",
    "  def wrap_func(*args, **kwargs):\n",
    "    print('******')\n",
    "    func(*args, **kwargs)\n",
    "    print('******')\n",
    "  return wrap_func\n",
    "\n",
    "@my_decorator\n",
    "def hello(greeting, emoji=':('):\n",
    "    print (greeting, emoji)\n",
    "\n",
    "\n",
    "hello('hiiii')"
   ]
  },
  {
   "cell_type": "code",
   "execution_count": 10,
   "id": "8cbe8ee4",
   "metadata": {},
   "outputs": [
    {
     "name": "stdout",
     "output_type": "stream",
     "text": [
      "took 0.04395794868469238 s\n"
     ]
    }
   ],
   "source": [
    "# performance decorator \n",
    "\n",
    "from time import time \n",
    "def performance(fn):\n",
    "  def wrapper(*args, **kwargs):\n",
    "    t1=time()\n",
    "    result=fn(*args, **kwargs)\n",
    "    t2=time()\n",
    "    print(f'took {t2-t1} s')\n",
    "    return result\n",
    "  return wrapper\n",
    "\n",
    "\n",
    "@performance\n",
    "def long_time():\n",
    "  for i in range(1000000):\n",
    "    i*5\n",
    "\n",
    "long_time()"
   ]
  },
  {
   "cell_type": "code",
   "execution_count": null,
   "id": "9914254d",
   "metadata": {},
   "outputs": [],
   "source": []
  }
 ],
 "metadata": {
  "kernelspec": {
   "display_name": "Python 3 (ipykernel)",
   "language": "python",
   "name": "python3"
  },
  "language_info": {
   "codemirror_mode": {
    "name": "ipython",
    "version": 3
   },
   "file_extension": ".py",
   "mimetype": "text/x-python",
   "name": "python",
   "nbconvert_exporter": "python",
   "pygments_lexer": "ipython3",
   "version": "3.10.9"
  }
 },
 "nbformat": 4,
 "nbformat_minor": 5
}
