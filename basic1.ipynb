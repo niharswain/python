{
 "cells": [
  {
   "cell_type": "markdown",
   "id": "6283524e",
   "metadata": {},
   "source": [
    "# Data Types:\n",
    "    - fundamental data types\n",
    "    - Classes : custoem type\n",
    "    - Specialised Dat atypes: these are not inbuilt int python and can be installed in terms of modules\n",
    "    - None"
   ]
  },
  {
   "cell_type": "markdown",
   "id": "11528350",
   "metadata": {},
   "source": [
    "## Fundamental Data types:\n",
    "    - int\n",
    "    - float\n",
    "    - bool\n",
    "    - str\n",
    "    - list\n",
    "    - tuple\n",
    "    - set\n",
    "    - dict\n",
    "    - complex & bin ()\n",
    "    "
   ]
  },
  {
   "cell_type": "markdown",
   "id": "51701dcc",
   "metadata": {},
   "source": [
    "### complex & bin ()\n",
    " - bin returns the binary repesentation of any object\n",
    " - any integer and float get stored in memory as binary"
   ]
  },
  {
   "cell_type": "code",
   "execution_count": 26,
   "id": "10a98700",
   "metadata": {},
   "outputs": [
    {
     "name": "stdout",
     "output_type": "stream",
     "text": [
      "0b101\n"
     ]
    }
   ],
   "source": [
    "print(bin(5))"
   ]
  },
  {
   "cell_type": "code",
   "execution_count": 31,
   "id": "5e4a80fd",
   "metadata": {},
   "outputs": [
    {
     "name": "stdout",
     "output_type": "stream",
     "text": [
      "0b1010\n"
     ]
    }
   ],
   "source": [
    "print(bin(3+7))"
   ]
  },
  {
   "cell_type": "markdown",
   "id": "1e5d6210",
   "metadata": {},
   "source": [
    "# int & float"
   ]
  },
  {
   "cell_type": "code",
   "execution_count": 21,
   "id": "2f5b5dd9",
   "metadata": {},
   "outputs": [
    {
     "name": "stdout",
     "output_type": "stream",
     "text": [
      "<class 'int'>\n",
      "<class 'float'>\n"
     ]
    }
   ],
   "source": [
    "# Int & float\n",
    "# int is number\n",
    "# float is decimal point\n",
    "# you can use type to get the data type details\n",
    "print (type(2))\n",
    "print(type(5*1.5))"
   ]
  },
  {
   "cell_type": "code",
   "execution_count": 2,
   "id": "4a92749e",
   "metadata": {},
   "outputs": [
    {
     "name": "stdout",
     "output_type": "stream",
     "text": [
      "6\n"
     ]
    }
   ],
   "source": [
    "#Addition of number\n",
    "print(2+4)"
   ]
  },
  {
   "cell_type": "code",
   "execution_count": 3,
   "id": "f7a2ed60",
   "metadata": {},
   "outputs": [
    {
     "name": "stdout",
     "output_type": "stream",
     "text": [
      "-2\n"
     ]
    }
   ],
   "source": [
    "#substarction \n",
    "print(2-4)"
   ]
  },
  {
   "cell_type": "code",
   "execution_count": 4,
   "id": "3bc62619",
   "metadata": {},
   "outputs": [
    {
     "name": "stdout",
     "output_type": "stream",
     "text": [
      "8\n"
     ]
    }
   ],
   "source": [
    "#multiplictaion\n",
    "print(2*4)"
   ]
  },
  {
   "cell_type": "code",
   "execution_count": 11,
   "id": "faaa85df",
   "metadata": {},
   "outputs": [
    {
     "name": "stdout",
     "output_type": "stream",
     "text": [
      "2.0\n",
      "0.5\n"
     ]
    }
   ],
   "source": [
    "#Divide\n",
    "print(4/2)\n",
    "print(2/4)"
   ]
  },
  {
   "cell_type": "code",
   "execution_count": 10,
   "id": "b705cb06",
   "metadata": {},
   "outputs": [
    {
     "name": "stdout",
     "output_type": "stream",
     "text": [
      "2\n",
      "0\n"
     ]
    }
   ],
   "source": [
    "#double devide : result gets rounded down to integer\n",
    "print(4//2)\n",
    "print(2//4)"
   ]
  },
  {
   "cell_type": "code",
   "execution_count": 12,
   "id": "ff1b977d",
   "metadata": {},
   "outputs": [
    {
     "name": "stdout",
     "output_type": "stream",
     "text": [
      "4\n",
      "8\n"
     ]
    }
   ],
   "source": [
    "#power of\n",
    "print(2**2)\n",
    "print(2**3)"
   ]
  },
  {
   "cell_type": "code",
   "execution_count": 13,
   "id": "04658461",
   "metadata": {},
   "outputs": [
    {
     "name": "stdout",
     "output_type": "stream",
     "text": [
      "0\n",
      "2\n",
      "1\n"
     ]
    }
   ],
   "source": [
    "#modulo : modulo is the remainder of teh devision\n",
    "print(4%2)\n",
    "print(2%4)\n",
    "print(5%2)"
   ]
  },
  {
   "cell_type": "markdown",
   "id": "76a08d98",
   "metadata": {},
   "source": [
    "### Math function"
   ]
  },
  {
   "cell_type": "code",
   "execution_count": 15,
   "id": "9ec240f2",
   "metadata": {},
   "outputs": [
    {
     "name": "stdout",
     "output_type": "stream",
     "text": [
      "3\n"
     ]
    }
   ],
   "source": [
    "#rounding number\n",
    "print(round(3.1))"
   ]
  },
  {
   "cell_type": "code",
   "execution_count": 16,
   "id": "0c4a5d69",
   "metadata": {},
   "outputs": [
    {
     "name": "stdout",
     "output_type": "stream",
     "text": [
      "20\n"
     ]
    }
   ],
   "source": [
    "#abs: returns the actual value of an argument\n",
    "print(abs(-20))"
   ]
  },
  {
   "cell_type": "markdown",
   "id": "3a86388f",
   "metadata": {},
   "source": [
    "### Operator Precedence"
   ]
  },
  {
   "cell_type": "code",
   "execution_count": 22,
   "id": "a1bf06eb",
   "metadata": {},
   "outputs": [
    {
     "name": "stdout",
     "output_type": "stream",
     "text": [
      "26\n"
     ]
    }
   ],
   "source": [
    "print(20+3*2)"
   ]
  },
  {
   "cell_type": "code",
   "execution_count": 23,
   "id": "985721d3",
   "metadata": {},
   "outputs": [
    {
     "name": "stdout",
     "output_type": "stream",
     "text": [
      "10\n"
     ]
    }
   ],
   "source": [
    "print(20-5*2)"
   ]
  },
  {
   "cell_type": "code",
   "execution_count": 24,
   "id": "2309d8a9",
   "metadata": {},
   "outputs": [
    {
     "name": "stdout",
     "output_type": "stream",
     "text": [
      "18\n"
     ]
    }
   ],
   "source": [
    "print(10*2-2)"
   ]
  },
  {
   "cell_type": "markdown",
   "id": "0dec50e6",
   "metadata": {},
   "source": [
    "#### Python follow below orders\n",
    "    ()\n",
    "    **\n",
    "    * / \n",
    "    + - "
   ]
  },
  {
   "cell_type": "markdown",
   "id": "0a2a47fb",
   "metadata": {},
   "source": [
    "# Variables\n",
    "    - assignig avlaue is called biniding\n",
    "    - once we bind any value to any variable, we can use that variable anywhere in the programme \n",
    "    \n",
    "##### How we should define varibale\n",
    "    - start with lowercase or underscore (hello_world   or _world)\n",
    "    - a varibal is case sensitive\n",
    "    - There are keywords in python, we will not be able to define variable with same name as keyword\n",
    "    - python Key word refernces:  https://www.w3schools.com/python/python_ref_keywords.asp\n"
   ]
  },
  {
   "cell_type": "code",
   "execution_count": 34,
   "id": "c86881d8",
   "metadata": {},
   "outputs": [
    {
     "name": "stdout",
     "output_type": "stream",
     "text": [
      "10\n",
      "105\n"
     ]
    }
   ],
   "source": [
    "a=10\n",
    "iq=105\n",
    "print (a)\n",
    "print (iq)"
   ]
  },
  {
   "cell_type": "code",
   "execution_count": 35,
   "id": "c5a81952",
   "metadata": {},
   "outputs": [
    {
     "name": "stdout",
     "output_type": "stream",
     "text": [
      "90\n"
     ]
    }
   ],
   "source": [
    "_iq=90\n",
    "print(_iq)"
   ]
  },
  {
   "cell_type": "code",
   "execution_count": 45,
   "id": "7104548f",
   "metadata": {},
   "outputs": [
    {
     "name": "stdout",
     "output_type": "stream",
     "text": [
      "10\n",
      "2 30\n"
     ]
    }
   ],
   "source": [
    "a,b,c=10,2,30\n",
    "print(a)\n",
    "print(b,c)"
   ]
  },
  {
   "cell_type": "markdown",
   "id": "d7877ee9",
   "metadata": {},
   "source": [
    "##  Constant\n",
    "    - contast value will never change\n",
    "    - in variable we can change the value of the variable by re assigning.\n",
    "    - you can write a constant by capital letters. Any varibale named in capital letters shows that it is a constant and you sould not change it."
   ]
  },
  {
   "cell_type": "code",
   "execution_count": 44,
   "id": "2a1cca84",
   "metadata": {},
   "outputs": [
    {
     "name": "stdout",
     "output_type": "stream",
     "text": [
      "SWAIN\n",
      "3.14\n",
      "SWAIN\n"
     ]
    }
   ],
   "source": [
    "NAME='Nihar'\n",
    "NAME=\"SWAIN\"  # you can reassign the value, but as a best practice, you should not do it as its in capital letters and shows as constant.\n",
    "PI=3.14\n",
    "print (NAME)\n",
    "print(PI)\n",
    "\n",
    "print (NAME)"
   ]
  },
  {
   "cell_type": "markdown",
   "id": "cb75d35b",
   "metadata": {},
   "source": [
    "### Expression vs Statements \n",
    "    - whole line is called statement\n",
    "    - expression is used in statement\n",
    "    \n",
    "    user_age = iq/5   : this whole line is called statement & i1/5 is called expression\n",
    "    iq=20  : this is statemnet\n",
    "   "
   ]
  },
  {
   "cell_type": "markdown",
   "id": "0f257bd7",
   "metadata": {},
   "source": [
    "### Augmented assignment operator\n",
    "\n",
    "    +=\n",
    "    -=\n",
    "    *=\n",
    "    /=\n"
   ]
  },
  {
   "cell_type": "code",
   "execution_count": 56,
   "id": "659243f4",
   "metadata": {},
   "outputs": [
    {
     "name": "stdout",
     "output_type": "stream",
     "text": [
      "7\n",
      "7\n",
      "7\n",
      "5\n"
     ]
    }
   ],
   "source": [
    "some_value=5\n",
    "some_value=5+2\n",
    "print(some_value)\n",
    "# or you can do it as \n",
    "\n",
    "some_value=5\n",
    "some_value=some_value+2\n",
    "print(some_value)\n",
    "\n",
    "#instead of doing it you can use augmented assignment operator\n",
    "some_value=5\n",
    "some_value+=2\n",
    "print(some_value)\n",
    "\n",
    "some_value-=2\n",
    "print(some_value)"
   ]
  },
  {
   "cell_type": "code",
   "execution_count": 52,
   "id": "1fb6abdb",
   "metadata": {},
   "outputs": [
    {
     "name": "stdout",
     "output_type": "stream",
     "text": [
      "20\n"
     ]
    }
   ],
   "source": [
    "some_value=10\n",
    "some_value *=2\n",
    "print(some_value)"
   ]
  },
  {
   "cell_type": "code",
   "execution_count": 58,
   "id": "81cc4d79",
   "metadata": {},
   "outputs": [
    {
     "ename": "NameError",
     "evalue": "name 'another_value' is not defined",
     "output_type": "error",
     "traceback": [
      "\u001b[1;31m---------------------------------------------------------------------------\u001b[0m",
      "\u001b[1;31mNameError\u001b[0m                                 Traceback (most recent call last)",
      "Cell \u001b[1;32mIn[58], line 1\u001b[0m\n\u001b[1;32m----> 1\u001b[0m another_value\u001b[38;5;241m+\u001b[39m\u001b[38;5;241m=\u001b[39m\u001b[38;5;241m2\u001b[39m\n\u001b[0;32m      2\u001b[0m \u001b[38;5;28mprint\u001b[39m(another_value)\n",
      "\u001b[1;31mNameError\u001b[0m: name 'another_value' is not defined"
     ]
    }
   ],
   "source": [
    "another_value+=2\n",
    "print(another_value)  # it shows error as we have defined the varibale another_value"
   ]
  },
  {
   "cell_type": "markdown",
   "id": "f9304d36",
   "metadata": {},
   "source": [
    "# Strings"
   ]
  },
  {
   "cell_type": "code",
   "execution_count": 60,
   "id": "2eb9517a",
   "metadata": {},
   "outputs": [
    {
     "name": "stdout",
     "output_type": "stream",
     "text": [
      "<class 'str'>\n"
     ]
    }
   ],
   "source": [
    "print (type(\"hello, how are you\"))"
   ]
  },
  {
   "cell_type": "code",
   "execution_count": 64,
   "id": "836f6ac5",
   "metadata": {},
   "outputs": [
    {
     "name": "stdout",
     "output_type": "stream",
     "text": [
      "Nihar\n",
      "123secret\n",
      "\n",
      "wow\n",
      "o o\n",
      "---\n",
      "\n"
     ]
    }
   ],
   "source": [
    "# We can write string in below ways\n",
    "username='Nihar'\n",
    "password=\"123secret\"\n",
    "\n",
    "# long string can be written as below , it starts and end with '''   \n",
    "long_string='''\n",
    "wow\n",
    "o o\n",
    "---\n",
    "'''\n",
    "\n",
    "print (username)\n",
    "print(password)\n",
    "print(long_string)"
   ]
  },
  {
   "cell_type": "markdown",
   "id": "c40b3d72",
   "metadata": {},
   "source": [
    "##### string operations"
   ]
  },
  {
   "cell_type": "markdown",
   "id": "8da6883d",
   "metadata": {},
   "source": [
    "    - string concatenation\n",
    "    - it means adding string together\n",
    "    - string concatenation works only with string to string , not with string to integer "
   ]
  },
  {
   "cell_type": "code",
   "execution_count": 69,
   "id": "056a9d1c",
   "metadata": {},
   "outputs": [
    {
     "name": "stdout",
     "output_type": "stream",
     "text": [
      "NIHARSWAIN\n",
      "NIHAR SWAIN\n"
     ]
    }
   ],
   "source": [
    "# string concatenation\n",
    "# it means adding string together\n",
    "# string concatenation works only with string to string , not with string to integer \n",
    "\n",
    "firstname='NIHAR'\n",
    "lastname='SWAIN'\n",
    "fullname= firstname + lastname\n",
    "\n",
    "print (fullname)\n",
    "\n",
    "print(firstname + ' ' +lastname)"
   ]
  },
  {
   "cell_type": "markdown",
   "id": "ccee1895",
   "metadata": {},
   "source": [
    "###### Type conversion\n",
    "\n",
    "    - it would onvert one type of variable to another\n",
    "    - we know 100 is an integer, but if we use str(100) , thats converts to str"
   ]
  },
  {
   "cell_type": "code",
   "execution_count": 70,
   "id": "4f706b22",
   "metadata": {},
   "outputs": [
    {
     "name": "stdout",
     "output_type": "stream",
     "text": [
      "<class 'str'>\n"
     ]
    }
   ],
   "source": [
    "print(type(str(100)))"
   ]
  },
  {
   "cell_type": "code",
   "execution_count": 71,
   "id": "9a268f0d",
   "metadata": {},
   "outputs": [
    {
     "name": "stdout",
     "output_type": "stream",
     "text": [
      "<class 'int'>\n"
     ]
    }
   ],
   "source": [
    "print(type(int(50.5)))"
   ]
  },
  {
   "cell_type": "code",
   "execution_count": 72,
   "id": "d98c654f",
   "metadata": {},
   "outputs": [
    {
     "name": "stdout",
     "output_type": "stream",
     "text": [
      "<class 'int'>\n"
     ]
    }
   ],
   "source": [
    "a=str(100)\n",
    "b=int(a)\n",
    "c=type(b)\n",
    "print(c)"
   ]
  },
  {
   "cell_type": "markdown",
   "id": "262c67ac",
   "metadata": {},
   "source": [
    "##### Escape sequence \n",
    "    - we can use \\ for escape sequence\n",
    "    - python treats everything after \\ as string\n",
    "    - \\t means tab\n",
    "    - \\n new line"
   ]
  },
  {
   "cell_type": "code",
   "execution_count": 75,
   "id": "fb627aa9",
   "metadata": {},
   "outputs": [
    {
     "ename": "SyntaxError",
     "evalue": "invalid syntax (1815571602.py, line 1)",
     "output_type": "error",
     "traceback": [
      "\u001b[1;36m  Cell \u001b[1;32mIn[75], line 1\u001b[1;36m\u001b[0m\n\u001b[1;33m    weather = \"it's a \"kind\" of sunny\"\u001b[0m\n\u001b[1;37m                       ^\u001b[0m\n\u001b[1;31mSyntaxError\u001b[0m\u001b[1;31m:\u001b[0m invalid syntax\n"
     ]
    }
   ],
   "source": [
    "weather = \"it's a \"kind\" of sunny\"   # we have used \"\"  inside \"\"\n",
    "print (weather)"
   ]
  },
  {
   "cell_type": "code",
   "execution_count": 79,
   "id": "d37a4a58",
   "metadata": {},
   "outputs": [
    {
     "name": "stdout",
     "output_type": "stream",
     "text": [
      "it's a \"kind\" of sunny\n"
     ]
    }
   ],
   "source": [
    "# \\\n",
    "weather=\"it's a \\\"kind\\\" of sunny\"\n",
    "print (weather)"
   ]
  },
  {
   "cell_type": "code",
   "execution_count": 83,
   "id": "373ed5ec",
   "metadata": {},
   "outputs": [
    {
     "name": "stdout",
     "output_type": "stream",
     "text": [
      "it's a \"kind\" of \t sunny\n"
     ]
    }
   ],
   "source": [
    "# \\t space\n",
    "weather=\"it's a \\\"kind\\\" of \\t sunny\"\n",
    "print (weather)"
   ]
  },
  {
   "cell_type": "code",
   "execution_count": 84,
   "id": "13865b88",
   "metadata": {},
   "outputs": [
    {
     "name": "stdout",
     "output_type": "stream",
     "text": [
      "it's a \"kind\" of \n",
      " sunny\n"
     ]
    }
   ],
   "source": [
    "# \\n new line\n",
    "weather=\"it's a \\\"kind\\\" of \\n sunny\"\n",
    "print (weather)"
   ]
  },
  {
   "cell_type": "markdown",
   "id": "9b92d53d",
   "metadata": {},
   "source": [
    "##### formatted strings"
   ]
  },
  {
   "cell_type": "code",
   "execution_count": 88,
   "id": "08c1d714",
   "metadata": {},
   "outputs": [
    {
     "name": "stdout",
     "output_type": "stream",
     "text": [
      "hijohn. You are 55years old\n"
     ]
    }
   ],
   "source": [
    "name='john'\n",
    "age = 55\n",
    "print('hi' + name + '. You are ' + str(age) + 'years old')"
   ]
  },
  {
   "cell_type": "markdown",
   "id": "4ba2d6c0",
   "metadata": {},
   "source": [
    "##### in staed of doing above you can do formatted string \n",
    "    - when you mention f in the begining, python treats as formatted string"
   ]
  },
  {
   "cell_type": "code",
   "execution_count": 90,
   "id": "dbbb23df",
   "metadata": {},
   "outputs": [
    {
     "name": "stdout",
     "output_type": "stream",
     "text": [
      "hi John. you are 55 years old\n"
     ]
    }
   ],
   "source": [
    "name='John'\n",
    "age=55\n",
    "print(f'hi {name}. you are {age} years old')"
   ]
  },
  {
   "cell_type": "markdown",
   "id": "0965204b",
   "metadata": {},
   "source": [
    "##### Instead of writting f in the begining, there is another way to write formatted string (not recomended)\n",
    "    - print('statement'.format())"
   ]
  },
  {
   "cell_type": "code",
   "execution_count": 92,
   "id": "fc49ffb4",
   "metadata": {},
   "outputs": [
    {
     "name": "stdout",
     "output_type": "stream",
     "text": [
      "hi John. You are 55 years old\n"
     ]
    }
   ],
   "source": [
    "name='john'\n",
    "age=55\n",
    "print('hi {}. You are {} years old'.format('John', '55'))"
   ]
  },
  {
   "cell_type": "code",
   "execution_count": 93,
   "id": "0f3e33e0",
   "metadata": {},
   "outputs": [
    {
     "name": "stdout",
     "output_type": "stream",
     "text": [
      "hi john. You are 55 years old\n"
     ]
    }
   ],
   "source": [
    "name='john'\n",
    "age=55\n",
    "print('hi {}. You are {} years old'.format(name, age))"
   ]
  },
  {
   "cell_type": "code",
   "execution_count": 94,
   "id": "0bd98a9d",
   "metadata": {},
   "outputs": [
    {
     "name": "stdout",
     "output_type": "stream",
     "text": [
      "hi 55. You are John years old\n"
     ]
    }
   ],
   "source": [
    "name='john'\n",
    "age=55\n",
    "print('hi {1}. You are {0} years old'.format('John', '55')) # it would take variable in position 1 first and 0 second"
   ]
  },
  {
   "cell_type": "markdown",
   "id": "e6ac2b20",
   "metadata": {},
   "source": [
    "#### String Indexes"
   ]
  },
  {
   "cell_type": "markdown",
   "id": "6792c6ba",
   "metadata": {},
   "source": [
    "    name='India'\n",
    "          01234"
   ]
  },
  {
   "cell_type": "markdown",
   "id": "b91a531e",
   "metadata": {},
   "source": [
    "    indexing works as below way of slicing\n",
    "    [start:stop:stepover]"
   ]
  },
  {
   "cell_type": "code",
   "execution_count": 97,
   "id": "6b9c40ed",
   "metadata": {},
   "outputs": [
    {
     "name": "stdout",
     "output_type": "stream",
     "text": [
      "I\n",
      "5\n"
     ]
    }
   ],
   "source": [
    "name='India'\n",
    "string_number='012345678'  # to understand the index concept\n",
    "\n",
    "print(name[0])\n",
    "print(string_number[5])"
   ]
  },
  {
   "cell_type": "code",
   "execution_count": 99,
   "id": "d9217b72",
   "metadata": {},
   "outputs": [
    {
     "name": "stdout",
     "output_type": "stream",
     "text": [
      "In\n",
      "1234\n"
     ]
    }
   ],
   "source": [
    "name='India'\n",
    "string_number='012345678'\n",
    "\n",
    "print(name[0:2])  # it will print position of 0,1 \n",
    "print(string_number[1:5])  # it will print position of 1,2,3,4\n"
   ]
  },
  {
   "cell_type": "code",
   "execution_count": 100,
   "id": "a150166f",
   "metadata": {},
   "outputs": [
    {
     "name": "stdout",
     "output_type": "stream",
     "text": [
      "In\n",
      "1234\n"
     ]
    }
   ],
   "source": [
    "name='India'\n",
    "string_number='012345678'\n",
    "\n",
    "print(name[0:2])  # it will print position of 0,1 . starts at 0 and stops before 2\n",
    "print(string_number[1:5])  # it will print position of 1,2,3,4 . starts at 1 and stops before 5"
   ]
  },
  {
   "cell_type": "code",
   "execution_count": 102,
   "id": "affed01d",
   "metadata": {},
   "outputs": [
    {
     "name": "stdout",
     "output_type": "stream",
     "text": [
      "India\n",
      "135\n"
     ]
    }
   ],
   "source": [
    "name='India'\n",
    "string_number='012345678'\n",
    "\n",
    "print(name[0:5:1])  # it will print position of 0,1,2,3,4,5 . starts at 0 and stops before 5 and steps to next 1 position\n",
    "print(string_number[1:7:2])  # it will print position of 1..3..5 . starts at 1 and stops before 7 and steps to next 2nd position"
   ]
  },
  {
   "cell_type": "code",
   "execution_count": 104,
   "id": "22fcdc4f",
   "metadata": {},
   "outputs": [
    {
     "name": "stdout",
     "output_type": "stream",
     "text": [
      "India\n",
      "12345678\n",
      "India\n",
      "012345\n"
     ]
    }
   ],
   "source": [
    "name='India'\n",
    "string_number='012345678'\n",
    "\n",
    "print(name[0:])  # it will print position from 0 to end\n",
    "\n",
    "print(string_number[1:])  # it will print position from 1 to end\n",
    "\n",
    "print(name[:5])  # it will print position till 5\n",
    "\n",
    "print(string_number[:6])  # it will print position till 6"
   ]
  },
  {
   "cell_type": "code",
   "execution_count": 108,
   "id": "5b506b01",
   "metadata": {},
   "outputs": [
    {
     "name": "stdout",
     "output_type": "stream",
     "text": [
      "Indi\n",
      "012345\n",
      "aidnI\n",
      "86420\n"
     ]
    }
   ],
   "source": [
    "name='India'\n",
    "string_number='012345678'\n",
    "\n",
    "print(name[:-1])  # it will print position but not the last one. -1 represents the last index\n",
    "\n",
    "print(string_number[:-3])  # it will print position except last 3\n",
    "\n",
    "print(name[::-1])  # it will print position in reverse order\n",
    "\n",
    "print(string_number[::-2])  # it will print all the position by stepping over from last index"
   ]
  },
  {
   "cell_type": "markdown",
   "id": "79b398f0",
   "metadata": {},
   "source": [
    "#### Immutability\n",
    "    - string in python are immuatable, that means you can reassign a new value to a varibale but you can not change the string\n",
    "    \n"
   ]
  },
  {
   "cell_type": "code",
   "execution_count": 114,
   "id": "32c4225a",
   "metadata": {},
   "outputs": [
    {
     "name": "stdout",
     "output_type": "stream",
     "text": [
      "india\n",
      "Ind\n"
     ]
    },
    {
     "ename": "TypeError",
     "evalue": "'str' object does not support item assignment",
     "output_type": "error",
     "traceback": [
      "\u001b[1;31m---------------------------------------------------------------------------\u001b[0m",
      "\u001b[1;31mTypeError\u001b[0m                                 Traceback (most recent call last)",
      "Cell \u001b[1;32mIn[114], line 7\u001b[0m\n\u001b[0;32m      4\u001b[0m name\u001b[38;5;241m=\u001b[39m\u001b[38;5;124m'\u001b[39m\u001b[38;5;124mInd\u001b[39m\u001b[38;5;124m'\u001b[39m \u001b[38;5;66;03m# you can reassign a value\u001b[39;00m\n\u001b[0;32m      5\u001b[0m \u001b[38;5;28mprint\u001b[39m(name)\n\u001b[1;32m----> 7\u001b[0m name[\u001b[38;5;241m0\u001b[39m]\u001b[38;5;241m=\u001b[39m\u001b[38;5;124m'\u001b[39m\u001b[38;5;124mI\u001b[39m\u001b[38;5;124m'\u001b[39m\n",
      "\u001b[1;31mTypeError\u001b[0m: 'str' object does not support item assignment"
     ]
    }
   ],
   "source": [
    "name='india'\n",
    "print(name) \n",
    "\n",
    "name='Ind' # you can re-assign a value\n",
    "print(name)\n",
    "\n",
    "name[0]='I'   # you can not not change the value\n"
   ]
  },
  {
   "cell_type": "markdown",
   "id": "0906d6ce",
   "metadata": {},
   "source": [
    "# Built-in Functions & Methods\n",
    "    - while len(quote) is a built in function\n",
    "    - quote.upper() is a built in method\n",
    "    - https://www.w3schools.com/python/python_ref_string.asp"
   ]
  },
  {
   "cell_type": "code",
   "execution_count": 3,
   "id": "cd46d86a",
   "metadata": {},
   "outputs": [
    {
     "name": "stdout",
     "output_type": "stream",
     "text": [
      "8\n"
     ]
    }
   ],
   "source": [
    "#built-in functions in str\n",
    "print(len('helooooo'))"
   ]
  },
  {
   "cell_type": "code",
   "execution_count": 4,
   "id": "0ab5dfcb",
   "metadata": {},
   "outputs": [
    {
     "name": "stdout",
     "output_type": "stream",
     "text": [
      "helloooo\n"
     ]
    }
   ],
   "source": [
    "greet='helloooo'\n",
    "print(greet[0:len(greet)])"
   ]
  },
  {
   "cell_type": "code",
   "execution_count": 5,
   "id": "8c82ef8a",
   "metadata": {},
   "outputs": [
    {
     "name": "stdout",
     "output_type": "stream",
     "text": [
      "TO BE OR NOT TO BE\n"
     ]
    }
   ],
   "source": [
    "# build in methods in string\n",
    "quote='to be or not to be'\n",
    "a=quote.upper()\n",
    "print(a)"
   ]
  },
  {
   "cell_type": "code",
   "execution_count": 6,
   "id": "d2ee6068",
   "metadata": {},
   "outputs": [
    {
     "name": "stdout",
     "output_type": "stream",
     "text": [
      "To be or not to be\n"
     ]
    }
   ],
   "source": [
    "quote='to be or not to be'\n",
    "a=quote.capitalize()\n",
    "print(a)"
   ]
  },
  {
   "cell_type": "code",
   "execution_count": 10,
   "id": "15de1300",
   "metadata": {},
   "outputs": [
    {
     "name": "stdout",
     "output_type": "stream",
     "text": [
      "3\n"
     ]
    }
   ],
   "source": [
    "quote='to be or not to be'\n",
    "a=quote.find('be')\n",
    "print(a)\n"
   ]
  },
  {
   "cell_type": "markdown",
   "id": "ccbcbbc1",
   "metadata": {},
   "source": [
    "# booleans\n",
    "    - a boolean can be true or false\n",
    "    - They are logical values\n",
    "    - in boolean 1 means True\n",
    "    - in boolean 0 means False"
   ]
  },
  {
   "cell_type": "code",
   "execution_count": 11,
   "id": "4549f880",
   "metadata": {},
   "outputs": [],
   "source": [
    "name='John'\n",
    "is_cool=False\n",
    "\n",
    "is_cool=True\n"
   ]
  },
  {
   "cell_type": "code",
   "execution_count": 12,
   "id": "8dba096f",
   "metadata": {},
   "outputs": [
    {
     "name": "stdout",
     "output_type": "stream",
     "text": [
      "True\n"
     ]
    }
   ],
   "source": [
    "print(bool(1))"
   ]
  },
  {
   "cell_type": "code",
   "execution_count": 13,
   "id": "c8ea3cfc",
   "metadata": {},
   "outputs": [
    {
     "name": "stdout",
     "output_type": "stream",
     "text": [
      "False\n"
     ]
    }
   ],
   "source": [
    "print(bool(0))"
   ]
  },
  {
   "cell_type": "markdown",
   "id": "8a276add",
   "metadata": {},
   "source": [
    "## Excercises : calculate age of a person"
   ]
  },
  {
   "cell_type": "code",
   "execution_count": 28,
   "id": "d0d044ad",
   "metadata": {},
   "outputs": [
    {
     "name": "stdout",
     "output_type": "stream",
     "text": [
      "what year you born2000\n",
      "you are born in 2000 and your age is 23\n"
     ]
    }
   ],
   "source": [
    "# input() method used to get input \n",
    "# input converts the data in string by default. So you have to convert the data as per your requirement\n",
    "import datetime\n",
    "birth_year = input('what year you born')\n",
    "current_year=datetime.date.today().year\n",
    "age=current_year-int(birth_year)\n",
    "print(f'you are born in {birth_year} and your age is {age}')"
   ]
  },
  {
   "cell_type": "markdown",
   "id": "b785acbd",
   "metadata": {},
   "source": [
    "# Commenting rules in python\n",
    "       - comments shuld be self explanatory\n",
    "       - it should be understandable by other developers\n",
    "       - https://realpython.com/python-comments-guide/"
   ]
  },
  {
   "cell_type": "code",
   "execution_count": 4,
   "id": "798b4345",
   "metadata": {},
   "outputs": [
    {
     "name": "stdout",
     "output_type": "stream",
     "text": [
      "Type your usernameNihar\n",
      "Type your passwordhello world\n",
      "***********\n",
      "Hello Nihar, Your password *********** is 11 letters length\n"
     ]
    }
   ],
   "source": [
    "# programme to greet with user name and tell the length of the password\n",
    "user=input('Type your username')\n",
    "pwd=input('Type your password')\n",
    "pwd_length=len(pwd)\n",
    "pwd_st='*' * pwd_length\n",
    "print (pwd_st)\n",
    "print(f'Hello {user}, Your password {pwd_st} is {pwd_length} letters length')"
   ]
  },
  {
   "cell_type": "markdown",
   "id": "fe6b1675",
   "metadata": {},
   "source": [
    "# List [   ]\n",
    "    - list would be declared inside a [square bracket]\n",
    "    - li = [1,2,3,4,5]\n",
    "    - li = ['a','b','c']\n",
    "    - li = [1,2,'a',True]\n",
    "    - List is a collection of array and can be of any data type\n",
    "    - List is mutable, that means you can chnage the value inside list"
   ]
  },
  {
   "cell_type": "code",
   "execution_count": 6,
   "id": "88f002fa",
   "metadata": {},
   "outputs": [
    {
     "name": "stdout",
     "output_type": "stream",
     "text": [
      "notebooks\n"
     ]
    }
   ],
   "source": [
    "amazon_cart = ['notebooks','sunglasses']\n",
    "print(amazon_cart[0])"
   ]
  },
  {
   "cell_type": "markdown",
   "id": "f9665b8e",
   "metadata": {},
   "source": [
    "##### List Slicing\n",
    "    - "
   ]
  },
  {
   "cell_type": "code",
   "execution_count": 10,
   "id": "d9589799",
   "metadata": {},
   "outputs": [
    {
     "name": "stdout",
     "output_type": "stream",
     "text": [
      "['notebooks', 'sunglasses', 'toys', 'grapes']\n",
      "['laptop', 'sunglasses', 'toys', 'grapes']\n"
     ]
    }
   ],
   "source": [
    "amazon_cart=[\n",
    "    'notebooks',\n",
    "    'sunglasses',\n",
    "    'toys',\n",
    "    'grapes'\n",
    "]\n",
    "print(amazon_cart)\n",
    "\n",
    "# list is mutable\n",
    "amazon_cart[0]='laptop'\n",
    "print(amazon_cart)\n",
    "\n"
   ]
  },
  {
   "cell_type": "markdown",
   "id": "fbb5a864",
   "metadata": {},
   "source": [
    "##### copying & modifying a list to another list   *** Important ***"
   ]
  },
  {
   "cell_type": "code",
   "execution_count": 12,
   "id": "fa57d165",
   "metadata": {},
   "outputs": [
    {
     "name": "stdout",
     "output_type": "stream",
     "text": [
      "['notebooks', 'sunglasses', 'toys', 'grapes']\n",
      "['pen', 'sunglasses', 'toys', 'grapes']\n",
      "['pen', 'sunglasses', 'toys', 'grapes']\n"
     ]
    }
   ],
   "source": [
    "amazon_cart=[\n",
    "    'notebooks',\n",
    "    'sunglasses',\n",
    "    'toys',\n",
    "    'grapes'\n",
    "]\n",
    "print(amazon_cart) \n",
    "\n",
    "new_cart=amazon_cart # but this not the right way\n",
    "new_cart[0]='pen' # assigned a new value to position 0 \n",
    "print(new_cart)\n",
    "print(amazon_cart)   # here you can see amazon_cart is also got changed with a new value for position 0"
   ]
  },
  {
   "cell_type": "code",
   "execution_count": 13,
   "id": "c34be580",
   "metadata": {},
   "outputs": [
    {
     "name": "stdout",
     "output_type": "stream",
     "text": [
      "['notebooks', 'sunglasses', 'toys', 'grapes']\n",
      "['pen', 'sunglasses', 'toys', 'grapes']\n",
      "['notebooks', 'sunglasses', 'toys', 'grapes']\n"
     ]
    }
   ],
   "source": [
    "amazon_cart=[\n",
    "    'notebooks',\n",
    "    'sunglasses',\n",
    "    'toys',\n",
    "    'grapes'\n",
    "]\n",
    "print(amazon_cart) \n",
    "\n",
    "new_cart=amazon_cart[:] # this is the correct way \n",
    "new_cart[0]='pen' # assigned a new value to position 0 \n",
    "print(new_cart)\n",
    "print(amazon_cart)   # here you can see amazon_cart has not changed"
   ]
  },
  {
   "cell_type": "markdown",
   "id": "df66dbd5",
   "metadata": {},
   "source": [
    "#### Matrix\n",
    "    - A matrix is a way to describe a multi dimensional list\n",
    "    - Its a array with another array inside it\n",
    "    "
   ]
  },
  {
   "cell_type": "code",
   "execution_count": 18,
   "id": "d2397327",
   "metadata": {},
   "outputs": [
    {
     "name": "stdout",
     "output_type": "stream",
     "text": [
      "[[1, 2, 3], [4, 5, 6], [7, 8, 9]]\n",
      "2\n"
     ]
    }
   ],
   "source": [
    "matrix_example=[\n",
    "    [1,2,3],\n",
    "    [4,5,6],\n",
    "    [7,8,9]\n",
    "]\n",
    "\n",
    "print(matrix_example)\n",
    "\n",
    "print(matrix_example[0][1])  # row: 0   coloumn:1"
   ]
  },
  {
   "cell_type": "markdown",
   "id": "1746354c",
   "metadata": {},
   "source": [
    "##### List methods"
   ]
  },
  {
   "cell_type": "code",
   "execution_count": 19,
   "id": "48c3e1f3",
   "metadata": {},
   "outputs": [
    {
     "name": "stdout",
     "output_type": "stream",
     "text": [
      "5\n"
     ]
    }
   ],
   "source": [
    "basket=[1,2,3,4,5]\n",
    "print(len(basket))"
   ]
  },
  {
   "cell_type": "code",
   "execution_count": 21,
   "id": "e72e80db",
   "metadata": {},
   "outputs": [
    {
     "name": "stdout",
     "output_type": "stream",
     "text": [
      "[1, 2, 3, 4, 5, 100]\n",
      "None\n"
     ]
    }
   ],
   "source": [
    "# Adding\n",
    "basket=[1,2,3,4,5]\n",
    "new_basket=basket.append(100)  # it would not create a new list, it will add 100 in  basket\n",
    "print(basket)    # 100 will be added\n",
    "print(new_basket) # it will show None"
   ]
  },
  {
   "cell_type": "code",
   "execution_count": 22,
   "id": "1eb8e078",
   "metadata": {},
   "outputs": [
    {
     "name": "stdout",
     "output_type": "stream",
     "text": [
      "[1, 2, 3, 4, 5, 100]\n",
      "[1, 2, 3, 4, 5, 100]\n"
     ]
    }
   ],
   "source": [
    "# Adding\n",
    "basket=[1,2,3,4,5]\n",
    "basket.append(100)  #it will add 100 in  basket\n",
    "new_basket=basket  # new basket will be crated as per basket\n",
    "print(basket)    # 100 will be added\n",
    "print(new_basket) # list like basket"
   ]
  },
  {
   "cell_type": "code",
   "execution_count": 25,
   "id": "7f3e0821",
   "metadata": {},
   "outputs": [
    {
     "name": "stdout",
     "output_type": "stream",
     "text": [
      "[1, 2, 3, 4, 100, 5]\n",
      "[1, 2, 3, 4, 100, 5]\n"
     ]
    }
   ],
   "source": [
    "# Insert(index,object)\n",
    "basket=[1,2,3,4,5]\n",
    "basket.insert(4,100)  #it will add 100 in  4 th positon \n",
    "new_basket=basket  # new basket will be crated as per basket\n",
    "print(basket)    # 100 will be added\n",
    "print(new_basket) # list like basket"
   ]
  },
  {
   "cell_type": "code",
   "execution_count": 36,
   "id": "2bc4c990",
   "metadata": {},
   "outputs": [
    {
     "name": "stdout",
     "output_type": "stream",
     "text": [
      "[1, 2, 3, 4]\n",
      "[1, 2, 4]\n"
     ]
    }
   ],
   "source": [
    "# remove and pop\n",
    "basket=[1,2,3,4,5]\n",
    "basket.pop()  # remove last position\n",
    "print(basket)    # \n",
    "\n",
    "basket.pop(2)  # remove 2nd position\n",
    "print(basket)    # \n"
   ]
  },
  {
   "cell_type": "code",
   "execution_count": 37,
   "id": "b4bd88c1",
   "metadata": {},
   "outputs": [
    {
     "name": "stdout",
     "output_type": "stream",
     "text": [
      "[1, 2, 3, 5]\n",
      "[1, 3, 5]\n"
     ]
    }
   ],
   "source": [
    "# removing\n",
    "basket=[1,2,3,4,5]\n",
    "basket.remove(4)  # remove the value 4\n",
    "print(basket)    # \n",
    "\n",
    "basket.remove(2)  # remove the value 2\n",
    "print(basket)    # \n"
   ]
  },
  {
   "cell_type": "markdown",
   "id": "2974df53",
   "metadata": {},
   "source": [
    "    - remove method removes the value, if you mention hi or bye or 7 or 8, it will just remove that\n",
    "    - pop will remove the index postion, if you mention 0 or 1 or 19 or 31, it will remove the postion 0,1,19,31 of that list"
   ]
  },
  {
   "cell_type": "code",
   "execution_count": 40,
   "id": "5037ce42",
   "metadata": {},
   "outputs": [
    {
     "name": "stdout",
     "output_type": "stream",
     "text": [
      "0\n",
      "3\n"
     ]
    }
   ],
   "source": [
    "# know the index position\n",
    "basket=['a','b','c','d','e']\n",
    "\n",
    "print(basket.index('a'))  # display the postion of 'a'\n",
    "print(basket.index('d'))  # display the postion of 'd'"
   ]
  },
  {
   "cell_type": "code",
   "execution_count": 44,
   "id": "2f5c995a",
   "metadata": {},
   "outputs": [
    {
     "name": "stdout",
     "output_type": "stream",
     "text": [
      "True\n",
      "False\n",
      "True\n"
     ]
    }
   ],
   "source": [
    "# know the list has any value\n",
    "basket=['a','b','c','d','e']\n",
    "\n",
    "print('d' in basket) # return boolean value if the value is present\n",
    "print('x' in basket) # return boolean value if the value is present\n",
    "print('i' in 'Nihar') # return boolean value if the value i  is present in Nihar"
   ]
  },
  {
   "cell_type": "code",
   "execution_count": 47,
   "id": "56d179c9",
   "metadata": {},
   "outputs": [
    {
     "name": "stdout",
     "output_type": "stream",
     "text": [
      "1\n"
     ]
    }
   ],
   "source": [
    "# count of a value\n",
    "basket=['a','b','c','d','e']\n",
    "print(basket.count('d'))   # how many times d is present in the list"
   ]
  },
  {
   "cell_type": "code",
   "execution_count": 48,
   "id": "3532a265",
   "metadata": {},
   "outputs": [
    {
     "name": "stdout",
     "output_type": "stream",
     "text": [
      "['a', 'b', 'c', 'd', 'e', 'f', 'g']\n"
     ]
    }
   ],
   "source": [
    "# sort : it sorts the values in place, means it changes the list\n",
    "basket=['f','g','a','b','c','d','e']\n",
    "\n",
    "basket.sort()\n",
    "print(basket)"
   ]
  },
  {
   "cell_type": "code",
   "execution_count": 50,
   "id": "60d7f06d",
   "metadata": {},
   "outputs": [
    {
     "name": "stdout",
     "output_type": "stream",
     "text": [
      "['a', 'b', 'c', 'd', 'e', 'f', 'g']\n",
      "['f', 'g', 'a', 'b', 'c', 'd', 'e']\n"
     ]
    }
   ],
   "source": [
    "# sorted : it sorts the values in a new list, it will not modify the original list\n",
    "basket=['f','g','a','b','c','d','e']\n",
    "\n",
    "print(sorted(basket)) # it will modify in  anew list\n",
    "print(basket)  "
   ]
  },
  {
   "cell_type": "code",
   "execution_count": 51,
   "id": "9706ecd1",
   "metadata": {},
   "outputs": [
    {
     "name": "stdout",
     "output_type": "stream",
     "text": [
      "['a', 'b', 'c', 'd', 'e', 'f', 'g']\n",
      "['f', 'g', 'a', 'b', 'c', 'd', 'e']\n"
     ]
    }
   ],
   "source": [
    "# copy from one list to another list\n",
    "basket=['f','g','a','b','c','d','e']\n",
    "new_basket=basket.copy()\n",
    "new_basket.sort()\n",
    "print(new_basket)\n",
    "print(basket)  "
   ]
  },
  {
   "cell_type": "code",
   "execution_count": 55,
   "id": "1a8e3efc",
   "metadata": {},
   "outputs": [
    {
     "name": "stdout",
     "output_type": "stream",
     "text": [
      "['e', 'd', 'c', 'b', 'a', 'g', 'f']\n"
     ]
    }
   ],
   "source": [
    "# reverse\n",
    "basket=['f','g','a','b','c','d','e']\n",
    "\n",
    "\n",
    "basket.reverse() # it will reverse basket without sorting\n",
    "\n",
    "print(basket)  "
   ]
  },
  {
   "cell_type": "code",
   "execution_count": 56,
   "id": "10db5e2e",
   "metadata": {},
   "outputs": [
    {
     "name": "stdout",
     "output_type": "stream",
     "text": [
      "['g', 'f', 'e', 'd', 'c', 'b', 'a']\n"
     ]
    }
   ],
   "source": [
    "basket=['f','g','a','b','c','d','e']\n",
    "\n",
    "basket.sort()\n",
    "basket.reverse() # it will reverse basket with sorting\n",
    "\n",
    "print(basket)"
   ]
  },
  {
   "cell_type": "markdown",
   "id": "a8c3fa7f",
   "metadata": {},
   "source": [
    "#### Common List Patterns"
   ]
  },
  {
   "cell_type": "code",
   "execution_count": 57,
   "id": "4ba1f95b",
   "metadata": {},
   "outputs": [
    {
     "name": "stdout",
     "output_type": "stream",
     "text": [
      "['a', 'b', 'c', 'd', 'd', 'e', 'x']\n",
      "['x', 'e', 'd', 'd', 'c', 'b', 'a']\n"
     ]
    }
   ],
   "source": [
    "basket=['a','x','b','c','d','e','d']\n",
    "basket.sort()\n",
    "basket.reverse()\n",
    "print(basket[::-1])    # reverse a list\n",
    "print(basket)"
   ]
  },
  {
   "cell_type": "code",
   "execution_count": 65,
   "id": "5792fd8d",
   "metadata": {},
   "outputs": [
    {
     "name": "stdout",
     "output_type": "stream",
     "text": [
      "[1, 2, 3, 4, 5, 6, 7, 8, 9, 10, 11, 12, 13, 14, 15, 16, 17, 18, 19, 20, 21, 22, 23, 24, 25, 26, 27, 28, 29, 30, 31, 32, 33, 34, 35, 36, 37, 38, 39, 40, 41, 42, 43, 44, 45, 46, 47, 48, 49, 50, 51, 52, 53, 54, 55, 56, 57, 58, 59, 60, 61, 62, 63, 64, 65, 66, 67, 68, 69, 70, 71, 72, 73, 74, 75, 76, 77, 78, 79, 80, 81, 82, 83, 84, 85, 86, 87, 88, 89, 90, 91, 92, 93, 94, 95, 96, 97, 98, 99]\n",
      "range(1, 100)\n"
     ]
    }
   ],
   "source": [
    "print(list(range(1,100)))\n",
    "print(range(1,100))"
   ]
  },
  {
   "cell_type": "code",
   "execution_count": 68,
   "id": "375298b1",
   "metadata": {},
   "outputs": [
    {
     "name": "stdout",
     "output_type": "stream",
     "text": [
      "hi my name is Ram\n"
     ]
    }
   ],
   "source": [
    "# join ()\n",
    "\n",
    "sentence=''   # there is no space\n",
    "new = sentence.join(['hi','my','name','is','Ram'])\n",
    "\n",
    "print(new)"
   ]
  },
  {
   "cell_type": "code",
   "execution_count": 69,
   "id": "81185bf4",
   "metadata": {},
   "outputs": [
    {
     "name": "stdout",
     "output_type": "stream",
     "text": [
      "hi my name is Ram\n"
     ]
    }
   ],
   "source": [
    "# join ()\n",
    "\n",
    "sentence=' '   # there is  space\n",
    "new = sentence.join(['hi','my','name','is','Ram'])\n",
    "\n",
    "print(new)"
   ]
  },
  {
   "cell_type": "code",
   "execution_count": 70,
   "id": "38d733a4",
   "metadata": {},
   "outputs": [
    {
     "name": "stdout",
     "output_type": "stream",
     "text": [
      "hi***my***name***is***Ram\n"
     ]
    }
   ],
   "source": [
    "# join ()\n",
    "\n",
    "sentence='***'   # there is  ***\n",
    "new = sentence.join(['hi','my','name','is','Ram'])\n",
    "\n",
    "print(new)"
   ]
  },
  {
   "cell_type": "markdown",
   "id": "71a86fbe",
   "metadata": {},
   "source": [
    "#### List unpacking"
   ]
  },
  {
   "cell_type": "code",
   "execution_count": 73,
   "id": "0349b741",
   "metadata": {},
   "outputs": [
    {
     "name": "stdout",
     "output_type": "stream",
     "text": [
      "[1, 2, 3]\n",
      "4\n",
      "5\n",
      "6\n",
      "[4, 5, 6, 7, 8]\n",
      "9\n"
     ]
    }
   ],
   "source": [
    "basket = [1,2,3]\n",
    "\n",
    "a,b,c=[4,5,6]\n",
    "d,e,f,*other,g=[1,2,3,4,5,6,7,8,9]\n",
    "print(basket)\n",
    "print(a)\n",
    "print(b)\n",
    "print(c)\n",
    "print(other)\n",
    "print(g)"
   ]
  },
  {
   "cell_type": "markdown",
   "id": "9728e2c5",
   "metadata": {},
   "source": [
    "# None"
   ]
  },
  {
   "cell_type": "markdown",
   "id": "4d1937b0",
   "metadata": {},
   "source": [
    "    - SOme of the out put dont produce something\n",
    "    - None is a special data type in python \n",
    "    - a= None"
   ]
  },
  {
   "cell_type": "code",
   "execution_count": 74,
   "id": "82bc6064",
   "metadata": {},
   "outputs": [
    {
     "name": "stdout",
     "output_type": "stream",
     "text": [
      "None\n"
     ]
    }
   ],
   "source": [
    "weapons=None\n",
    "print(weapons)"
   ]
  },
  {
   "cell_type": "markdown",
   "id": "6bf32162",
   "metadata": {},
   "source": [
    "# dictionary\n",
    "\n",
    "- dictionary is a data structure in python \n",
    "- dictionary is unorderd key value pair\n",
    "-  A key has to be uniquie "
   ]
  },
  {
   "cell_type": "code",
   "execution_count": 4,
   "id": "22429beb",
   "metadata": {},
   "outputs": [
    {
     "name": "stdout",
     "output_type": "stream",
     "text": [
      "2\n",
      "{'a': 1, 'b': 2, 'c': 3, 'd': 4}\n"
     ]
    }
   ],
   "source": [
    "dict={\n",
    "    'a':1,\n",
    "    'b':2,\n",
    "    'c':3,\n",
    "    'd':4\n",
    "}\n",
    "\n",
    "print (dict['b'])\n",
    "print(dict)"
   ]
  },
  {
   "cell_type": "code",
   "execution_count": 6,
   "id": "4d3c3309",
   "metadata": {},
   "outputs": [
    {
     "name": "stdout",
     "output_type": "stream",
     "text": [
      "2\n",
      "3 ['x']\n"
     ]
    }
   ],
   "source": [
    "dictionary={\n",
    "    'a':[1,2,3],\n",
    "    'b':'hello',\n",
    "    'x':True\n",
    "}\n",
    "\n",
    "\n",
    "print (dictionary['a'][1])  # print dictionary --> key a ==> position 1 of key 1\n",
    "print(dictionary['a'][2],['x'])"
   ]
  },
  {
   "cell_type": "code",
   "execution_count": 16,
   "id": "f60ce183",
   "metadata": {},
   "outputs": [
    {
     "name": "stdout",
     "output_type": "stream",
     "text": [
      "3\n"
     ]
    }
   ],
   "source": [
    "my_list=[\n",
    "    {\n",
    "    'a':[1,2,3],\n",
    "    'b':'hello',\n",
    "    'x':True\n",
    "}\n",
    "]\n",
    "\n",
    "print(my_list[0]['a'][2])"
   ]
  },
  {
   "cell_type": "code",
   "execution_count": 21,
   "id": "9261bc76",
   "metadata": {},
   "outputs": [
    {
     "ename": "TypeError",
     "evalue": "unhashable type: 'list'",
     "output_type": "error",
     "traceback": [
      "\u001b[1;31m---------------------------------------------------------------------------\u001b[0m",
      "\u001b[1;31mTypeError\u001b[0m                                 Traceback (most recent call last)",
      "Cell \u001b[1;32mIn[21], line 1\u001b[0m\n\u001b[1;32m----> 1\u001b[0m dictionary\u001b[38;5;241m=\u001b[39m{\n\u001b[0;32m      2\u001b[0m     \u001b[38;5;124m'\u001b[39m\u001b[38;5;124m123\u001b[39m\u001b[38;5;124m'\u001b[39m:[\u001b[38;5;241m1\u001b[39m,\u001b[38;5;241m2\u001b[39m,\u001b[38;5;241m3\u001b[39m],\n\u001b[0;32m      3\u001b[0m     [\u001b[38;5;241m100\u001b[39m]:\u001b[38;5;28;01mTrue\u001b[39;00m\n\u001b[0;32m      4\u001b[0m }\n\u001b[0;32m      6\u001b[0m \u001b[38;5;28mprint\u001b[39m(dictionary[\u001b[38;5;241m100\u001b[39m])\n",
      "\u001b[1;31mTypeError\u001b[0m: unhashable type: 'list'"
     ]
    }
   ],
   "source": [
    "dictionary={\n",
    "    '123':[1,2,3],\n",
    "    [100]:True,\n",
    "    '123':'Hello'\n",
    "}\n",
    "\n",
    "print(dictionary[100])"
   ]
  },
  {
   "cell_type": "code",
   "execution_count": 27,
   "id": "c70039f6",
   "metadata": {},
   "outputs": [
    {
     "name": "stdout",
     "output_type": "stream",
     "text": [
      "None\n",
      "55\n"
     ]
    }
   ],
   "source": [
    "user={\n",
    "    'basket':[1,2,3],\n",
    "    'greet':'Hello'\n",
    "}\n",
    "\n",
    "#print(user['age']) # show errors as age is not present as a key\n",
    "\n",
    "print(user.get('age'))  # it wont show an error, it will show NONE as age as a key is not present.\n",
    "print(user.get('age',55))  # it wont sow the error and in stead of NONE it will print 55 as default value"
   ]
  },
  {
   "cell_type": "code",
   "execution_count": 29,
   "id": "efccea95",
   "metadata": {},
   "outputs": [
    {
     "name": "stdout",
     "output_type": "stream",
     "text": [
      "20\n",
      "20\n"
     ]
    }
   ],
   "source": [
    "user={\n",
    "    'basket':[1,2,3],\n",
    "    'greet':'Hello',\n",
    "    'age':20\n",
    "}\n",
    "\n",
    "#print(user['age']) # show errors as age is not present as a key\n",
    "\n",
    "print(user.get('age'))  # it wont show an error, it will show NONE as age as a key is not present.\n",
    "print(user.get('age',55))  # it wont sow the error and in stead of NONE it will print 55 as default value if age is not present"
   ]
  },
  {
   "cell_type": "code",
   "execution_count": 40,
   "id": "aea939cc",
   "metadata": {},
   "outputs": [
    {
     "name": "stdout",
     "output_type": "stream",
     "text": [
      "False\n",
      "True\n",
      "True\n",
      "True\n"
     ]
    }
   ],
   "source": [
    "user={\n",
    "    'basket':[1,2,3],\n",
    "    'greet':'Hello',\n",
    "    'age':20\n",
    "}\n",
    "\n",
    "print('size' in user)   # False as Size is not present as key\n",
    "print('basket' in user)  # True as basket is present as key\n",
    "print('age' in user.keys())   # true as age is present as akey\n",
    "print('Hello' in user.values()) # True as Hello is present as value in the dictionary "
   ]
  },
  {
   "cell_type": "code",
   "execution_count": 41,
   "id": "b8db4d90",
   "metadata": {},
   "outputs": [
    {
     "name": "stdout",
     "output_type": "stream",
     "text": [
      "{}\n"
     ]
    }
   ],
   "source": [
    "user={\n",
    "    'basket':[1,2,3],\n",
    "    'greet':'Hello',\n",
    "    'age':20\n",
    "}\n",
    "\n",
    "user.clear() # empty dictinary\n",
    "print(user)   "
   ]
  },
  {
   "cell_type": "code",
   "execution_count": 44,
   "id": "0d58824a",
   "metadata": {},
   "outputs": [
    {
     "name": "stdout",
     "output_type": "stream",
     "text": [
      "{'basket': [1, 2, 3], 'greet': 'Hello', 'age': 20}\n",
      "{'basket': [1, 2, 3], 'greet': 'Hello', 'age': 20}\n"
     ]
    }
   ],
   "source": [
    "user={\n",
    "    'basket':[1,2,3],\n",
    "    'greet':'Hello',\n",
    "    'age':20\n",
    "}\n",
    "\n",
    "\n",
    "user2=user.copy()\n",
    "print(user) \n",
    "print(user2)"
   ]
  },
  {
   "cell_type": "code",
   "execution_count": 46,
   "id": "e35e4294",
   "metadata": {},
   "outputs": [
    {
     "name": "stdout",
     "output_type": "stream",
     "text": [
      "None\n",
      "{}\n"
     ]
    }
   ],
   "source": [
    "user={\n",
    "    'basket':[1,2,3],\n",
    "    'greet':'Hello',\n",
    "    'age':20\n",
    "}\n",
    "\n",
    "user2=user.copy()\n",
    "print(user.clear()) \n",
    "print(user2)"
   ]
  },
  {
   "cell_type": "code",
   "execution_count": 47,
   "id": "8e44db08",
   "metadata": {},
   "outputs": [
    {
     "name": "stdout",
     "output_type": "stream",
     "text": [
      "None\n",
      "{'basket': [1, 2, 3], 'greet': 'Hello', 'age': 20, 'ages': 55}\n"
     ]
    }
   ],
   "source": [
    "#update a dictionary\n",
    "user={\n",
    "    'basket':[1,2,3],\n",
    "    'greet':'Hello',\n",
    "    'age':20\n",
    "}\n",
    "print(user.update({'ages':55}))\n",
    "print(user)"
   ]
  },
  {
   "cell_type": "markdown",
   "id": "f244c487",
   "metadata": {},
   "source": [
    "# Tuples\n",
    "    - A tuple is a mutable list \n",
    "    - its less flexiblae\n",
    "    - you cant sort\n",
    "    - you cant reverse a tuple\n",
    "    - its more performant than tuple\n",
    "    - A dictionary return the key value as tuple"
   ]
  },
  {
   "cell_type": "code",
   "execution_count": 53,
   "id": "c40aa0ee",
   "metadata": {},
   "outputs": [
    {
     "name": "stdout",
     "output_type": "stream",
     "text": [
      "(1, 2, 3, 4, 5)\n",
      "True\n"
     ]
    }
   ],
   "source": [
    "my_tuple=(1,2,3,4,5)\n",
    "print(my_tuple)  # print the tuple\n",
    "\n",
    "print(5 in my_tuple)   # true is 5 is present in the tuple"
   ]
  },
  {
   "cell_type": "code",
   "execution_count": 54,
   "id": "6537bdcc",
   "metadata": {},
   "outputs": [
    {
     "name": "stdout",
     "output_type": "stream",
     "text": [
      "(1, 2, 3, 4, 5)\n",
      "True\n"
     ]
    }
   ],
   "source": [
    "my_tuple=(1,2,3,4,5)\n",
    "print(my_tuple)  # print the tuple\n",
    "\n",
    "print(5 in my_tuple) "
   ]
  },
  {
   "cell_type": "code",
   "execution_count": 56,
   "id": "b65e9889",
   "metadata": {},
   "outputs": [
    {
     "name": "stdout",
     "output_type": "stream",
     "text": [
      "(1, 2, 3, 4, 5)\n",
      "(2,)\n",
      "(2, 3, 4)\n"
     ]
    }
   ],
   "source": [
    "my_tuple=(1,2,3,4,5)\n",
    "print(my_tuple)  # print the tuple\n",
    "\n",
    "new_tuple=my_tuple[1:2]\n",
    "print(new_tuple) \n",
    "\n",
    "new_tuple=my_tuple[1:4]\n",
    "print(new_tuple) "
   ]
  },
  {
   "cell_type": "code",
   "execution_count": 58,
   "id": "546ab4cc",
   "metadata": {},
   "outputs": [
    {
     "name": "stdout",
     "output_type": "stream",
     "text": [
      "(1, 2, 3, 4, 5)\n",
      "2 3\n",
      "[4, 5]\n"
     ]
    }
   ],
   "source": [
    "my_tuple=(1,2,3,4,5)\n",
    "print(my_tuple)  # print the tuple\n",
    "\n",
    "x=my_tuple[1]\n",
    "y=my_tuple[2]\n",
    "\n",
    "\n",
    "print(x,y) \n",
    "\n",
    "a,b,c,*other=(1,2,3,4,5)  # here a,b,c is assigned to 1,2,3 and * others assigned to 4,5\n",
    "print(other)"
   ]
  },
  {
   "cell_type": "markdown",
   "id": "ae8caa3f",
   "metadata": {},
   "source": [
    "    - Tuple has two method count and index"
   ]
  },
  {
   "cell_type": "code",
   "execution_count": 1,
   "id": "67a8d5c0",
   "metadata": {},
   "outputs": [
    {
     "name": "stdout",
     "output_type": "stream",
     "text": [
      "1\n",
      "4\n",
      "7\n"
     ]
    }
   ],
   "source": [
    "my_tuple=(1,2,3,4,5,6,7)\n",
    "\n",
    "print(my_tuple.count(5))   # it will count how many 5 or values presentin the tuple\n",
    "\n",
    "print(my_tuple.index(5))  # index of value 5\n",
    "\n",
    "print(len(my_tuple))"
   ]
  },
  {
   "cell_type": "markdown",
   "id": "8be091b7",
   "metadata": {},
   "source": [
    "# Set\n",
    "    - set is unordered list of unique object\n",
    "    - set does not support indexing"
   ]
  },
  {
   "cell_type": "code",
   "execution_count": 68,
   "id": "f820da4f",
   "metadata": {},
   "outputs": [
    {
     "name": "stdout",
     "output_type": "stream",
     "text": [
      "{1, 2, 3, 4, 5, 8, 9}\n",
      "{1, 2, 3, 4, 5, 100, 8, 9}\n"
     ]
    }
   ],
   "source": [
    "my_set={1,2,3,4,5,8,9}\n",
    "\n",
    "\n",
    "print(my_set)\n",
    "\n",
    "my_set.add(100)\n",
    "my_set.add(2)  \n",
    "print(my_set)  # only 100 will be seen , no duplictaion of 2"
   ]
  },
  {
   "cell_type": "code",
   "execution_count": 69,
   "id": "80c92212",
   "metadata": {},
   "outputs": [
    {
     "name": "stdout",
     "output_type": "stream",
     "text": [
      "{1, 2, 3, 4, 5}\n"
     ]
    }
   ],
   "source": [
    "my_list=[1,2,3,4,5,5]\n",
    "\n",
    "print(set(my_list))    # converts the list into set"
   ]
  },
  {
   "cell_type": "code",
   "execution_count": 71,
   "id": "1bf80d9b",
   "metadata": {},
   "outputs": [
    {
     "name": "stdout",
     "output_type": "stream",
     "text": [
      "{1, 2, 3, 4, 5, 8, 9}\n",
      "True\n",
      "7\n"
     ]
    }
   ],
   "source": [
    "my_set={1,2,3,4,5,8,9}\n",
    "\n",
    "\n",
    "print(my_set)\n",
    "print(1 in my_set)\n",
    "print(len(my_set))"
   ]
  },
  {
   "cell_type": "code",
   "execution_count": 76,
   "id": "53c3353f",
   "metadata": {},
   "outputs": [
    {
     "name": "stdout",
     "output_type": "stream",
     "text": [
      "[1, 2, 3, 4, 5, 8, 9]\n",
      "{1, 2, 3, 4, 5, 8, 9}\n"
     ]
    }
   ],
   "source": [
    "my_set={1,2,3,4,5,8,9,9}\n",
    "\n",
    "\n",
    "print(list(my_set))     # converts into list\n",
    "\n",
    "new_set=my_set.copy()\n",
    "print(new_set)\n",
    "\n",
    "print()"
   ]
  },
  {
   "cell_type": "code",
   "execution_count": 80,
   "id": "c278daa9",
   "metadata": {},
   "outputs": [
    {
     "name": "stdout",
     "output_type": "stream",
     "text": [
      "{1, 2, 3, 4, 5, 8, 9}\n",
      "set()\n"
     ]
    }
   ],
   "source": [
    "my_set={1,2,3,4,5,8,9,9}\n",
    "\n",
    "new_set=my_set.copy()\n",
    "my_set.clear()   # empty the set\n",
    "print(new_set)\n",
    "print(my_set)"
   ]
  },
  {
   "cell_type": "code",
   "execution_count": 85,
   "id": "3d8a6857",
   "metadata": {},
   "outputs": [
    {
     "name": "stdout",
     "output_type": "stream",
     "text": [
      "{1, 2, 3}\n",
      "None\n",
      "{1, 2, 3, 4, 6}\n",
      "None\n",
      "{1, 2, 3}\n"
     ]
    }
   ],
   "source": [
    "my_set={1,2,3,4,5,6}\n",
    "your_set={4,5,6,7,8,9,10}\n",
    "\n",
    "print(my_set.difference(your_set))  # diffrence()\n",
    "print(my_set.discard(5))  # discard 5 or modify the set \n",
    "print(my_set)\n",
    "\n",
    "print(my_set.difference_update(your_set))  # it will update the myset with the diffrence value\n",
    "print(my_set)\n",
    "\n"
   ]
  },
  {
   "cell_type": "code",
   "execution_count": 91,
   "id": "9cfe842a",
   "metadata": {},
   "outputs": [
    {
     "name": "stdout",
     "output_type": "stream",
     "text": [
      "{4, 5, 6}\n",
      "False\n",
      "True\n",
      "{1, 2, 3, 4, 5, 6, 11, 12, 13}\n"
     ]
    }
   ],
   "source": [
    "my_set={1,2,3,4,5,6}\n",
    "your_set={4,5,6,7,8,9,10}\n",
    "any_set={11,12,13}\n",
    "\n",
    "print(my_set.intersection(your_set))  # common \n",
    "\n",
    "print(my_set.isdisjoint(your_set))   # true if nothing in common , false if somehing is common\n",
    "print(my_set.isdisjoint(any_set)) \n",
    "\n",
    "\n",
    "print(my_set.union(any_set))  # union just united both the sets by removing the duplicates \n"
   ]
  },
  {
   "cell_type": "code",
   "execution_count": 92,
   "id": "06f65f41",
   "metadata": {},
   "outputs": [
    {
     "name": "stdout",
     "output_type": "stream",
     "text": [
      "{4, 5, 6}\n",
      "{4, 5, 6}\n",
      "{1, 2, 3, 4, 5, 6, 11, 12, 13}\n",
      "{1, 2, 3, 4, 5, 6, 11, 12, 13}\n"
     ]
    }
   ],
   "source": [
    "my_set={1,2,3,4,5,6}\n",
    "your_set={4,5,6,7,8,9,10}\n",
    "any_set={11,12,13}\n",
    "\n",
    "print(my_set.intersection(your_set))  # common \n",
    "print(my_set & your_set)  # another way of intersection\n",
    "\n",
    "print(my_set.union(any_set))  # union just united both the sets by removing the duplicates \n",
    "print(my_set | any_set) #another way of union "
   ]
  },
  {
   "cell_type": "code",
   "execution_count": 100,
   "id": "ca52fd84",
   "metadata": {},
   "outputs": [
    {
     "name": "stdout",
     "output_type": "stream",
     "text": [
      "False\n",
      "True\n",
      "True\n",
      "False\n"
     ]
    }
   ],
   "source": [
    "my_set={1,2,3,4,5,6}\n",
    "your_set={4,5,6,7,8,9,10}\n",
    "any_set={1,2,3}\n",
    "\n",
    "print(my_set.issubset(any_set))\n",
    "print(any_set.issubset(my_set))\n",
    "\n",
    "print(my_set.issuperset(any_set))  # my set is superset of any_set. my_set is having more values that any_set\n",
    "print(any_set.issuperset(my_set))"
   ]
  },
  {
   "cell_type": "code",
   "execution_count": null,
   "id": "3a7239fe",
   "metadata": {},
   "outputs": [],
   "source": []
  }
 ],
 "metadata": {
  "kernelspec": {
   "display_name": "Python 3 (ipykernel)",
   "language": "python",
   "name": "python3"
  },
  "language_info": {
   "codemirror_mode": {
    "name": "ipython",
    "version": 3
   },
   "file_extension": ".py",
   "mimetype": "text/x-python",
   "name": "python",
   "nbconvert_exporter": "python",
   "pygments_lexer": "ipython3",
   "version": "3.10.9"
  }
 },
 "nbformat": 4,
 "nbformat_minor": 5
}
