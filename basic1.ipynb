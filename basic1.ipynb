{
 "cells": [
  {
   "cell_type": "markdown",
   "id": "b2d8b51b",
   "metadata": {},
   "source": [
    "# Data Types:\n",
    "    - fundamental data types\n",
    "    - Classes : custoem type\n",
    "    - Specialised Dat atypes: these are not inbuilt int python and can be installed in terms of modules\n",
    "    - None"
   ]
  },
  {
   "cell_type": "markdown",
   "id": "b09748c5",
   "metadata": {},
   "source": [
    "## Fundamental Data types:\n",
    "    - int\n",
    "    - float\n",
    "    - bool\n",
    "    - str\n",
    "    - list\n",
    "    - tuple\n",
    "    - set\n",
    "    - dict\n",
    "    - complex & bin ()\n",
    "    "
   ]
  },
  {
   "cell_type": "markdown",
   "id": "670c2cfe",
   "metadata": {},
   "source": [
    "### complex & bin ()\n",
    " - bin returns the binary repesentation of any object\n",
    " - any integer and float get stored in memory as binary"
   ]
  },
  {
   "cell_type": "code",
   "execution_count": 26,
   "id": "44184a2b",
   "metadata": {},
   "outputs": [
    {
     "name": "stdout",
     "output_type": "stream",
     "text": [
      "0b101\n"
     ]
    }
   ],
   "source": [
    "print(bin(5))"
   ]
  },
  {
   "cell_type": "code",
   "execution_count": 31,
   "id": "a9397675",
   "metadata": {},
   "outputs": [
    {
     "name": "stdout",
     "output_type": "stream",
     "text": [
      "0b1010\n"
     ]
    }
   ],
   "source": [
    "print(bin(3+7))"
   ]
  },
  {
   "cell_type": "markdown",
   "id": "7bd242da",
   "metadata": {},
   "source": [
    "# int & float"
   ]
  },
  {
   "cell_type": "code",
   "execution_count": 21,
   "id": "070f931f",
   "metadata": {},
   "outputs": [
    {
     "name": "stdout",
     "output_type": "stream",
     "text": [
      "<class 'int'>\n",
      "<class 'float'>\n"
     ]
    }
   ],
   "source": [
    "# Int & float\n",
    "# int is number\n",
    "# float is decimal point\n",
    "# you can use type to get the data type details\n",
    "print (type(2))\n",
    "print(type(5*1.5))"
   ]
  },
  {
   "cell_type": "code",
   "execution_count": 2,
   "id": "b87d6490",
   "metadata": {},
   "outputs": [
    {
     "name": "stdout",
     "output_type": "stream",
     "text": [
      "6\n"
     ]
    }
   ],
   "source": [
    "#Addition of number\n",
    "print(2+4)"
   ]
  },
  {
   "cell_type": "code",
   "execution_count": 3,
   "id": "4b1ef06d",
   "metadata": {},
   "outputs": [
    {
     "name": "stdout",
     "output_type": "stream",
     "text": [
      "-2\n"
     ]
    }
   ],
   "source": [
    "#substarction \n",
    "print(2-4)"
   ]
  },
  {
   "cell_type": "code",
   "execution_count": 4,
   "id": "f3047e1b",
   "metadata": {},
   "outputs": [
    {
     "name": "stdout",
     "output_type": "stream",
     "text": [
      "8\n"
     ]
    }
   ],
   "source": [
    "#multiplictaion\n",
    "print(2*4)"
   ]
  },
  {
   "cell_type": "code",
   "execution_count": 11,
   "id": "faf73c16",
   "metadata": {},
   "outputs": [
    {
     "name": "stdout",
     "output_type": "stream",
     "text": [
      "2.0\n",
      "0.5\n"
     ]
    }
   ],
   "source": [
    "#Divide\n",
    "print(4/2)\n",
    "print(2/4)"
   ]
  },
  {
   "cell_type": "code",
   "execution_count": 10,
   "id": "d9b16a72",
   "metadata": {},
   "outputs": [
    {
     "name": "stdout",
     "output_type": "stream",
     "text": [
      "2\n",
      "0\n"
     ]
    }
   ],
   "source": [
    "#double devide : result gets rounded down to integer\n",
    "print(4//2)\n",
    "print(2//4)"
   ]
  },
  {
   "cell_type": "code",
   "execution_count": 12,
   "id": "11405b22",
   "metadata": {},
   "outputs": [
    {
     "name": "stdout",
     "output_type": "stream",
     "text": [
      "4\n",
      "8\n"
     ]
    }
   ],
   "source": [
    "#power of\n",
    "print(2**2)\n",
    "print(2**3)"
   ]
  },
  {
   "cell_type": "code",
   "execution_count": 13,
   "id": "ded90455",
   "metadata": {},
   "outputs": [
    {
     "name": "stdout",
     "output_type": "stream",
     "text": [
      "0\n",
      "2\n",
      "1\n"
     ]
    }
   ],
   "source": [
    "#modulo : modulo is the remainder of teh devision\n",
    "print(4%2)\n",
    "print(2%4)\n",
    "print(5%2)"
   ]
  },
  {
   "cell_type": "markdown",
   "id": "38fd6162",
   "metadata": {},
   "source": [
    "### Math function"
   ]
  },
  {
   "cell_type": "code",
   "execution_count": 15,
   "id": "18208a5f",
   "metadata": {},
   "outputs": [
    {
     "name": "stdout",
     "output_type": "stream",
     "text": [
      "3\n"
     ]
    }
   ],
   "source": [
    "#rounding number\n",
    "print(round(3.1))"
   ]
  },
  {
   "cell_type": "code",
   "execution_count": 16,
   "id": "301c6d32",
   "metadata": {},
   "outputs": [
    {
     "name": "stdout",
     "output_type": "stream",
     "text": [
      "20\n"
     ]
    }
   ],
   "source": [
    "#abs: returns the actual value of an argument\n",
    "print(abs(-20))"
   ]
  },
  {
   "cell_type": "markdown",
   "id": "44c0d1b7",
   "metadata": {},
   "source": [
    "### Operator Precedence"
   ]
  },
  {
   "cell_type": "code",
   "execution_count": 22,
   "id": "56cee4cb",
   "metadata": {},
   "outputs": [
    {
     "name": "stdout",
     "output_type": "stream",
     "text": [
      "26\n"
     ]
    }
   ],
   "source": [
    "print(20+3*2)"
   ]
  },
  {
   "cell_type": "code",
   "execution_count": 23,
   "id": "9edf2758",
   "metadata": {},
   "outputs": [
    {
     "name": "stdout",
     "output_type": "stream",
     "text": [
      "10\n"
     ]
    }
   ],
   "source": [
    "print(20-5*2)"
   ]
  },
  {
   "cell_type": "code",
   "execution_count": 24,
   "id": "3d955ce3",
   "metadata": {},
   "outputs": [
    {
     "name": "stdout",
     "output_type": "stream",
     "text": [
      "18\n"
     ]
    }
   ],
   "source": [
    "print(10*2-2)"
   ]
  },
  {
   "cell_type": "markdown",
   "id": "aa328073",
   "metadata": {},
   "source": [
    "#### Python follow below orders\n",
    "    ()\n",
    "    **\n",
    "    * / \n",
    "    + - "
   ]
  },
  {
   "cell_type": "markdown",
   "id": "07475553",
   "metadata": {},
   "source": [
    "# Variables\n",
    "    - assignig avlaue is called biniding\n",
    "    - once we bind any value to any variable, we can use that variable anywhere in the programme \n",
    "    \n",
    "##### How we should define varibale\n",
    "    - start with lowercase or underscore (hello_world   or _world)\n",
    "    - a varibal is case sensitive\n",
    "    - There are keywords in python, we will not be able to define variable with same name as keyword\n",
    "    - python Key word refernces:  https://www.w3schools.com/python/python_ref_keywords.asp\n"
   ]
  },
  {
   "cell_type": "code",
   "execution_count": 34,
   "id": "7b58e0c2",
   "metadata": {},
   "outputs": [
    {
     "name": "stdout",
     "output_type": "stream",
     "text": [
      "10\n",
      "105\n"
     ]
    }
   ],
   "source": [
    "a=10\n",
    "iq=105\n",
    "print (a)\n",
    "print (iq)"
   ]
  },
  {
   "cell_type": "code",
   "execution_count": 35,
   "id": "c4c7c784",
   "metadata": {},
   "outputs": [
    {
     "name": "stdout",
     "output_type": "stream",
     "text": [
      "90\n"
     ]
    }
   ],
   "source": [
    "_iq=90\n",
    "print(_iq)"
   ]
  },
  {
   "cell_type": "code",
   "execution_count": 45,
   "id": "9f20ea4b",
   "metadata": {},
   "outputs": [
    {
     "name": "stdout",
     "output_type": "stream",
     "text": [
      "10\n",
      "2 30\n"
     ]
    }
   ],
   "source": [
    "a,b,c=10,2,30\n",
    "print(a)\n",
    "print(b,c)"
   ]
  },
  {
   "cell_type": "markdown",
   "id": "ae32119a",
   "metadata": {},
   "source": [
    "##  Constant\n",
    "    - contast value will never change\n",
    "    - in variable we can change the value of the variable by re assigning.\n",
    "    - you can write a constant by capital letters. Any varibale named in capital letters shows that it is a constant and you sould not change it."
   ]
  },
  {
   "cell_type": "code",
   "execution_count": 44,
   "id": "fe305107",
   "metadata": {},
   "outputs": [
    {
     "name": "stdout",
     "output_type": "stream",
     "text": [
      "SWAIN\n",
      "3.14\n",
      "SWAIN\n"
     ]
    }
   ],
   "source": [
    "NAME='Nihar'\n",
    "NAME=\"SWAIN\"  # you can reassign the value, but as a best practice, you should not do it as its in capital letters and shows as constant.\n",
    "PI=3.14\n",
    "print (NAME)\n",
    "print(PI)\n",
    "\n",
    "print (NAME)"
   ]
  },
  {
   "cell_type": "markdown",
   "id": "84269f91",
   "metadata": {},
   "source": [
    "### Expression vs Statements \n",
    "    - whole line is called statement\n",
    "    - expression is used in statement\n",
    "    \n",
    "    user_age = iq/5   : this whole line is called statement & i1/5 is called expression\n",
    "    iq=20  : this is statemnet\n",
    "   "
   ]
  },
  {
   "cell_type": "markdown",
   "id": "08feedad",
   "metadata": {},
   "source": [
    "### Augmented assignment operator\n",
    "\n",
    "    +=\n",
    "    -=\n",
    "    *=\n",
    "    /=\n"
   ]
  },
  {
   "cell_type": "code",
   "execution_count": 56,
   "id": "b962bbd8",
   "metadata": {},
   "outputs": [
    {
     "name": "stdout",
     "output_type": "stream",
     "text": [
      "7\n",
      "7\n",
      "7\n",
      "5\n"
     ]
    }
   ],
   "source": [
    "some_value=5\n",
    "some_value=5+2\n",
    "print(some_value)\n",
    "# or you can do it as \n",
    "\n",
    "some_value=5\n",
    "some_value=some_value+2\n",
    "print(some_value)\n",
    "\n",
    "#instead of doing it you can use augmented assignment operator\n",
    "some_value=5\n",
    "some_value+=2\n",
    "print(some_value)\n",
    "\n",
    "some_value-=2\n",
    "print(some_value)"
   ]
  },
  {
   "cell_type": "code",
   "execution_count": 52,
   "id": "043c4017",
   "metadata": {},
   "outputs": [
    {
     "name": "stdout",
     "output_type": "stream",
     "text": [
      "20\n"
     ]
    }
   ],
   "source": [
    "some_value=10\n",
    "some_value *=2\n",
    "print(some_value)"
   ]
  },
  {
   "cell_type": "code",
   "execution_count": 58,
   "id": "ff0fd7f0",
   "metadata": {},
   "outputs": [
    {
     "ename": "NameError",
     "evalue": "name 'another_value' is not defined",
     "output_type": "error",
     "traceback": [
      "\u001b[1;31m---------------------------------------------------------------------------\u001b[0m",
      "\u001b[1;31mNameError\u001b[0m                                 Traceback (most recent call last)",
      "Cell \u001b[1;32mIn[58], line 1\u001b[0m\n\u001b[1;32m----> 1\u001b[0m another_value\u001b[38;5;241m+\u001b[39m\u001b[38;5;241m=\u001b[39m\u001b[38;5;241m2\u001b[39m\n\u001b[0;32m      2\u001b[0m \u001b[38;5;28mprint\u001b[39m(another_value)\n",
      "\u001b[1;31mNameError\u001b[0m: name 'another_value' is not defined"
     ]
    }
   ],
   "source": [
    "another_value+=2\n",
    "print(another_value)  # it shows error as we have defined the varibale another_value"
   ]
  },
  {
   "cell_type": "markdown",
   "id": "17f0e70c",
   "metadata": {},
   "source": [
    "# Strings"
   ]
  },
  {
   "cell_type": "code",
   "execution_count": 60,
   "id": "a2ae5058",
   "metadata": {},
   "outputs": [
    {
     "name": "stdout",
     "output_type": "stream",
     "text": [
      "<class 'str'>\n"
     ]
    }
   ],
   "source": [
    "print (type(\"hello, how are you\"))"
   ]
  },
  {
   "cell_type": "code",
   "execution_count": 64,
   "id": "ca2742dd",
   "metadata": {},
   "outputs": [
    {
     "name": "stdout",
     "output_type": "stream",
     "text": [
      "Nihar\n",
      "123secret\n",
      "\n",
      "wow\n",
      "o o\n",
      "---\n",
      "\n"
     ]
    }
   ],
   "source": [
    "# We can write string in below ways\n",
    "username='Nihar'\n",
    "password=\"123secret\"\n",
    "\n",
    "# long string can be written as below , it starts and end with '''   \n",
    "long_string='''\n",
    "wow\n",
    "o o\n",
    "---\n",
    "'''\n",
    "\n",
    "print (username)\n",
    "print(password)\n",
    "print(long_string)"
   ]
  },
  {
   "cell_type": "markdown",
   "id": "419a2303",
   "metadata": {},
   "source": [
    "##### string operations"
   ]
  },
  {
   "cell_type": "markdown",
   "id": "728faa3e",
   "metadata": {},
   "source": [
    "    - string concatenation\n",
    "    - it means adding string together\n",
    "    - string concatenation works only with string to string , not with string to integer "
   ]
  },
  {
   "cell_type": "code",
   "execution_count": 69,
   "id": "9b4d0890",
   "metadata": {},
   "outputs": [
    {
     "name": "stdout",
     "output_type": "stream",
     "text": [
      "NIHARSWAIN\n",
      "NIHAR SWAIN\n"
     ]
    }
   ],
   "source": [
    "# string concatenation\n",
    "# it means adding string together\n",
    "# string concatenation works only with string to string , not with string to integer \n",
    "\n",
    "firstname='NIHAR'\n",
    "lastname='SWAIN'\n",
    "fullname= firstname + lastname\n",
    "\n",
    "print (fullname)\n",
    "\n",
    "print(firstname + ' ' +lastname)"
   ]
  },
  {
   "cell_type": "markdown",
   "id": "3c6107ad",
   "metadata": {},
   "source": [
    "###### Type conversion\n",
    "\n",
    "    - it would onvert one type of variable to another\n",
    "    - we know 100 is an integer, but if we use str(100) , thats converts to str"
   ]
  },
  {
   "cell_type": "code",
   "execution_count": 70,
   "id": "968e8931",
   "metadata": {},
   "outputs": [
    {
     "name": "stdout",
     "output_type": "stream",
     "text": [
      "<class 'str'>\n"
     ]
    }
   ],
   "source": [
    "print(type(str(100)))"
   ]
  },
  {
   "cell_type": "code",
   "execution_count": 71,
   "id": "485d481c",
   "metadata": {},
   "outputs": [
    {
     "name": "stdout",
     "output_type": "stream",
     "text": [
      "<class 'int'>\n"
     ]
    }
   ],
   "source": [
    "print(type(int(50.5)))"
   ]
  },
  {
   "cell_type": "code",
   "execution_count": 72,
   "id": "65a776e3",
   "metadata": {},
   "outputs": [
    {
     "name": "stdout",
     "output_type": "stream",
     "text": [
      "<class 'int'>\n"
     ]
    }
   ],
   "source": [
    "a=str(100)\n",
    "b=int(a)\n",
    "c=type(b)\n",
    "print(c)"
   ]
  },
  {
   "cell_type": "markdown",
   "id": "883c8d03",
   "metadata": {},
   "source": [
    "##### Escape sequence \n",
    "    - we can use \\ for escape sequence\n",
    "    - python treats everything after \\ as string\n",
    "    - \\t means tab\n",
    "    - \\n new line"
   ]
  },
  {
   "cell_type": "code",
   "execution_count": 75,
   "id": "d3c71b97",
   "metadata": {},
   "outputs": [
    {
     "ename": "SyntaxError",
     "evalue": "invalid syntax (1815571602.py, line 1)",
     "output_type": "error",
     "traceback": [
      "\u001b[1;36m  Cell \u001b[1;32mIn[75], line 1\u001b[1;36m\u001b[0m\n\u001b[1;33m    weather = \"it's a \"kind\" of sunny\"\u001b[0m\n\u001b[1;37m                       ^\u001b[0m\n\u001b[1;31mSyntaxError\u001b[0m\u001b[1;31m:\u001b[0m invalid syntax\n"
     ]
    }
   ],
   "source": [
    "weather = \"it's a \"kind\" of sunny\"   # we have used \"\"  inside \"\"\n",
    "print (weather)"
   ]
  },
  {
   "cell_type": "code",
   "execution_count": 79,
   "id": "392a2ddf",
   "metadata": {},
   "outputs": [
    {
     "name": "stdout",
     "output_type": "stream",
     "text": [
      "it's a \"kind\" of sunny\n"
     ]
    }
   ],
   "source": [
    "# \\\n",
    "weather=\"it's a \\\"kind\\\" of sunny\"\n",
    "print (weather)"
   ]
  },
  {
   "cell_type": "code",
   "execution_count": 83,
   "id": "a9fc7287",
   "metadata": {},
   "outputs": [
    {
     "name": "stdout",
     "output_type": "stream",
     "text": [
      "it's a \"kind\" of \t sunny\n"
     ]
    }
   ],
   "source": [
    "# \\t space\n",
    "weather=\"it's a \\\"kind\\\" of \\t sunny\"\n",
    "print (weather)"
   ]
  },
  {
   "cell_type": "code",
   "execution_count": 84,
   "id": "cec612c3",
   "metadata": {},
   "outputs": [
    {
     "name": "stdout",
     "output_type": "stream",
     "text": [
      "it's a \"kind\" of \n",
      " sunny\n"
     ]
    }
   ],
   "source": [
    "# \\n new line\n",
    "weather=\"it's a \\\"kind\\\" of \\n sunny\"\n",
    "print (weather)"
   ]
  },
  {
   "cell_type": "markdown",
   "id": "6f12b024",
   "metadata": {},
   "source": [
    "##### formatted strings"
   ]
  },
  {
   "cell_type": "code",
   "execution_count": 88,
   "id": "a82a2803",
   "metadata": {},
   "outputs": [
    {
     "name": "stdout",
     "output_type": "stream",
     "text": [
      "hijohn. You are 55years old\n"
     ]
    }
   ],
   "source": [
    "name='john'\n",
    "age = 55\n",
    "print('hi' + name + '. You are ' + str(age) + 'years old')"
   ]
  },
  {
   "cell_type": "markdown",
   "id": "b1404c21",
   "metadata": {},
   "source": [
    "##### in staed of doing above you can do formatted string \n",
    "    - when you mention f in the begining, python treats as formatted string"
   ]
  },
  {
   "cell_type": "code",
   "execution_count": 90,
   "id": "029b14ab",
   "metadata": {},
   "outputs": [
    {
     "name": "stdout",
     "output_type": "stream",
     "text": [
      "hi John. you are 55 years old\n"
     ]
    }
   ],
   "source": [
    "name='John'\n",
    "age=55\n",
    "print(f'hi {name}. you are {age} years old')"
   ]
  },
  {
   "cell_type": "markdown",
   "id": "e6131890",
   "metadata": {},
   "source": [
    "##### Instead of writting f in the begining, there is another way to write formatted string (not recomended)\n",
    "    - print('statement'.format())"
   ]
  },
  {
   "cell_type": "code",
   "execution_count": 92,
   "id": "c080a719",
   "metadata": {},
   "outputs": [
    {
     "name": "stdout",
     "output_type": "stream",
     "text": [
      "hi John. You are 55 years old\n"
     ]
    }
   ],
   "source": [
    "name='john'\n",
    "age=55\n",
    "print('hi {}. You are {} years old'.format('John', '55'))"
   ]
  },
  {
   "cell_type": "code",
   "execution_count": 93,
   "id": "4e2e490c",
   "metadata": {},
   "outputs": [
    {
     "name": "stdout",
     "output_type": "stream",
     "text": [
      "hi john. You are 55 years old\n"
     ]
    }
   ],
   "source": [
    "name='john'\n",
    "age=55\n",
    "print('hi {}. You are {} years old'.format(name, age))"
   ]
  },
  {
   "cell_type": "code",
   "execution_count": 94,
   "id": "388a3555",
   "metadata": {},
   "outputs": [
    {
     "name": "stdout",
     "output_type": "stream",
     "text": [
      "hi 55. You are John years old\n"
     ]
    }
   ],
   "source": [
    "name='john'\n",
    "age=55\n",
    "print('hi {1}. You are {0} years old'.format('John', '55')) # it would take variable in position 1 first and 0 second"
   ]
  },
  {
   "cell_type": "markdown",
   "id": "2206dbd8",
   "metadata": {},
   "source": [
    "#### String Indexes"
   ]
  },
  {
   "cell_type": "markdown",
   "id": "654f588a",
   "metadata": {},
   "source": [
    "    name='India'\n",
    "          01234"
   ]
  },
  {
   "cell_type": "markdown",
   "id": "9db72708",
   "metadata": {},
   "source": [
    "    indexing works as below way of slicing\n",
    "    [start:stop:stepover]"
   ]
  },
  {
   "cell_type": "code",
   "execution_count": 97,
   "id": "733db459",
   "metadata": {},
   "outputs": [
    {
     "name": "stdout",
     "output_type": "stream",
     "text": [
      "I\n",
      "5\n"
     ]
    }
   ],
   "source": [
    "name='India'\n",
    "string_number='012345678'  # to understand the index concept\n",
    "\n",
    "print(name[0])\n",
    "print(string_number[5])"
   ]
  },
  {
   "cell_type": "code",
   "execution_count": 99,
   "id": "27155c16",
   "metadata": {},
   "outputs": [
    {
     "name": "stdout",
     "output_type": "stream",
     "text": [
      "In\n",
      "1234\n"
     ]
    }
   ],
   "source": [
    "name='India'\n",
    "string_number='012345678'\n",
    "\n",
    "print(name[0:2])  # it will print position of 0,1 \n",
    "print(string_number[1:5])  # it will print position of 1,2,3,4\n"
   ]
  },
  {
   "cell_type": "code",
   "execution_count": 100,
   "id": "e7cf8aa4",
   "metadata": {},
   "outputs": [
    {
     "name": "stdout",
     "output_type": "stream",
     "text": [
      "In\n",
      "1234\n"
     ]
    }
   ],
   "source": [
    "name='India'\n",
    "string_number='012345678'\n",
    "\n",
    "print(name[0:2])  # it will print position of 0,1 . starts at 0 and stops before 2\n",
    "print(string_number[1:5])  # it will print position of 1,2,3,4 . starts at 1 and stops before 5"
   ]
  },
  {
   "cell_type": "code",
   "execution_count": 102,
   "id": "df6d3304",
   "metadata": {},
   "outputs": [
    {
     "name": "stdout",
     "output_type": "stream",
     "text": [
      "India\n",
      "135\n"
     ]
    }
   ],
   "source": [
    "name='India'\n",
    "string_number='012345678'\n",
    "\n",
    "print(name[0:5:1])  # it will print position of 0,1,2,3,4,5 . starts at 0 and stops before 5 and steps to next 1 position\n",
    "print(string_number[1:7:2])  # it will print position of 1..3..5 . starts at 1 and stops before 7 and steps to next 2nd position"
   ]
  },
  {
   "cell_type": "code",
   "execution_count": 104,
   "id": "84ae89f8",
   "metadata": {},
   "outputs": [
    {
     "name": "stdout",
     "output_type": "stream",
     "text": [
      "India\n",
      "12345678\n",
      "India\n",
      "012345\n"
     ]
    }
   ],
   "source": [
    "name='India'\n",
    "string_number='012345678'\n",
    "\n",
    "print(name[0:])  # it will print position from 0 to end\n",
    "\n",
    "print(string_number[1:])  # it will print position from 1 to end\n",
    "\n",
    "print(name[:5])  # it will print position till 5\n",
    "\n",
    "print(string_number[:6])  # it will print position till 6"
   ]
  },
  {
   "cell_type": "code",
   "execution_count": 108,
   "id": "df873719",
   "metadata": {},
   "outputs": [
    {
     "name": "stdout",
     "output_type": "stream",
     "text": [
      "Indi\n",
      "012345\n",
      "aidnI\n",
      "86420\n"
     ]
    }
   ],
   "source": [
    "name='India'\n",
    "string_number='012345678'\n",
    "\n",
    "print(name[:-1])  # it will print position but not the last one. -1 represents the last index\n",
    "\n",
    "print(string_number[:-3])  # it will print position except last 3\n",
    "\n",
    "print(name[::-1])  # it will print position in reverse order\n",
    "\n",
    "print(string_number[::-2])  # it will print all the position by stepping over from last index"
   ]
  },
  {
   "cell_type": "markdown",
   "id": "1e816c9c",
   "metadata": {},
   "source": [
    "#### Immutability\n",
    "    - string in python are immuatable, that means you can reassign a new value to a varibale but you can not change the string\n",
    "    \n"
   ]
  },
  {
   "cell_type": "code",
   "execution_count": 114,
   "id": "b60ee9a2",
   "metadata": {},
   "outputs": [
    {
     "name": "stdout",
     "output_type": "stream",
     "text": [
      "india\n",
      "Ind\n"
     ]
    },
    {
     "ename": "TypeError",
     "evalue": "'str' object does not support item assignment",
     "output_type": "error",
     "traceback": [
      "\u001b[1;31m---------------------------------------------------------------------------\u001b[0m",
      "\u001b[1;31mTypeError\u001b[0m                                 Traceback (most recent call last)",
      "Cell \u001b[1;32mIn[114], line 7\u001b[0m\n\u001b[0;32m      4\u001b[0m name\u001b[38;5;241m=\u001b[39m\u001b[38;5;124m'\u001b[39m\u001b[38;5;124mInd\u001b[39m\u001b[38;5;124m'\u001b[39m \u001b[38;5;66;03m# you can reassign a value\u001b[39;00m\n\u001b[0;32m      5\u001b[0m \u001b[38;5;28mprint\u001b[39m(name)\n\u001b[1;32m----> 7\u001b[0m name[\u001b[38;5;241m0\u001b[39m]\u001b[38;5;241m=\u001b[39m\u001b[38;5;124m'\u001b[39m\u001b[38;5;124mI\u001b[39m\u001b[38;5;124m'\u001b[39m\n",
      "\u001b[1;31mTypeError\u001b[0m: 'str' object does not support item assignment"
     ]
    }
   ],
   "source": [
    "name='india'\n",
    "print(name) \n",
    "\n",
    "name='Ind' # you can re-assign a value\n",
    "print(name)\n",
    "\n",
    "name[0]='I'   # you can not not change the value\n"
   ]
  },
  {
   "cell_type": "code",
   "execution_count": null,
   "id": "4017c896",
   "metadata": {},
   "outputs": [],
   "source": []
  }
 ],
 "metadata": {
  "kernelspec": {
   "display_name": "Python 3 (ipykernel)",
   "language": "python",
   "name": "python3"
  },
  "language_info": {
   "codemirror_mode": {
    "name": "ipython",
    "version": 3
   },
   "file_extension": ".py",
   "mimetype": "text/x-python",
   "name": "python",
   "nbconvert_exporter": "python",
   "pygments_lexer": "ipython3",
   "version": "3.10.9"
  }
 },
 "nbformat": 4,
 "nbformat_minor": 5
}
