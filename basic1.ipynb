{
 "cells": [
  {
   "cell_type": "raw",
   "id": "fbfa5be7",
   "metadata": {},
   "source": [
    "# Data Types:\n",
    "    - fundamental data types\n",
    "    - Classes : custoem type\n",
    "    - Specialised Dat atypes: these are not inbuilt int python and can be installed in terms of modules\n",
    "    - None"
   ]
  },
  {
   "cell_type": "markdown",
   "id": "1d5bfea8",
   "metadata": {},
   "source": [
    "Fundamental Data types:\n",
    "    - int\n",
    "    - float\n",
    "    - bool\n",
    "    - str\n",
    "    - list\n",
    "    - tuple\n",
    "    - set\n",
    "    - dict\n",
    "    "
   ]
  },
  {
   "cell_type": "code",
   "execution_count": 5,
   "id": "fca4e65f",
   "metadata": {},
   "outputs": [
    {
     "name": "stdout",
     "output_type": "stream",
     "text": [
      "<class 'int'>\n",
      "<class 'float'>\n"
     ]
    }
   ],
   "source": [
    "# Int & float\n",
    "# int is number\n",
    "# float is decimal point\n",
    "# you can use type to get the data type details\n",
    "print (type(2))\n",
    "print(type(5*1.5))"
   ]
  },
  {
   "cell_type": "code",
   "execution_count": 2,
   "id": "d32642fb",
   "metadata": {},
   "outputs": [
    {
     "name": "stdout",
     "output_type": "stream",
     "text": [
      "6\n"
     ]
    }
   ],
   "source": [
    "#Addition of number\n",
    "print(2+4)"
   ]
  },
  {
   "cell_type": "code",
   "execution_count": 3,
   "id": "3185d729",
   "metadata": {},
   "outputs": [
    {
     "name": "stdout",
     "output_type": "stream",
     "text": [
      "-2\n"
     ]
    }
   ],
   "source": [
    "#substarction \n",
    "print(2-4)"
   ]
  },
  {
   "cell_type": "code",
   "execution_count": 4,
   "id": "dd66b091",
   "metadata": {},
   "outputs": [
    {
     "name": "stdout",
     "output_type": "stream",
     "text": [
      "8\n"
     ]
    }
   ],
   "source": [
    "#multiplictaion\n",
    "print(2*4)"
   ]
  },
  {
   "cell_type": "code",
   "execution_count": 11,
   "id": "4721525e",
   "metadata": {},
   "outputs": [
    {
     "name": "stdout",
     "output_type": "stream",
     "text": [
      "2.0\n",
      "0.5\n"
     ]
    }
   ],
   "source": [
    "#Divide\n",
    "print(4/2)\n",
    "print(2/4)"
   ]
  },
  {
   "cell_type": "code",
   "execution_count": 10,
   "id": "316e2a5c",
   "metadata": {},
   "outputs": [
    {
     "name": "stdout",
     "output_type": "stream",
     "text": [
      "2\n",
      "0\n"
     ]
    }
   ],
   "source": [
    "#double devide : result gets rounded down to integer\n",
    "print(4//2)\n",
    "print(2//4)"
   ]
  },
  {
   "cell_type": "code",
   "execution_count": 12,
   "id": "773c15e9",
   "metadata": {},
   "outputs": [
    {
     "name": "stdout",
     "output_type": "stream",
     "text": [
      "4\n",
      "8\n"
     ]
    }
   ],
   "source": [
    "#power of\n",
    "print(2**2)\n",
    "print(2**3)"
   ]
  },
  {
   "cell_type": "code",
   "execution_count": 13,
   "id": "a4cb3d57",
   "metadata": {},
   "outputs": [
    {
     "name": "stdout",
     "output_type": "stream",
     "text": [
      "0\n",
      "2\n",
      "1\n"
     ]
    }
   ],
   "source": [
    "#modulo : modulo is the remainder of teh devision\n",
    "print(4%2)\n",
    "print(2%4)\n",
    "print(5%2)"
   ]
  },
  {
   "cell_type": "code",
   "execution_count": 14,
   "id": "c6270ab4",
   "metadata": {},
   "outputs": [],
   "source": [
    "#Math function"
   ]
  },
  {
   "cell_type": "code",
   "execution_count": 15,
   "id": "ec9f80f3",
   "metadata": {},
   "outputs": [
    {
     "name": "stdout",
     "output_type": "stream",
     "text": [
      "3\n"
     ]
    }
   ],
   "source": [
    "#rounding number\n",
    "print(round(3.1))"
   ]
  },
  {
   "cell_type": "code",
   "execution_count": 16,
   "id": "f45742e5",
   "metadata": {},
   "outputs": [
    {
     "name": "stdout",
     "output_type": "stream",
     "text": [
      "20\n"
     ]
    }
   ],
   "source": [
    "#abs: returns the actual value of an argument\n",
    "print(abs(-20))"
   ]
  },
  {
   "cell_type": "code",
   "execution_count": null,
   "id": "f80f7fb8",
   "metadata": {},
   "outputs": [],
   "source": []
  }
 ],
 "metadata": {
  "kernelspec": {
   "display_name": "Python 3 (ipykernel)",
   "language": "python",
   "name": "python3"
  },
  "language_info": {
   "codemirror_mode": {
    "name": "ipython",
    "version": 3
   },
   "file_extension": ".py",
   "mimetype": "text/x-python",
   "name": "python",
   "nbconvert_exporter": "python",
   "pygments_lexer": "ipython3",
   "version": "3.10.9"
  }
 },
 "nbformat": 4,
 "nbformat_minor": 5
}
