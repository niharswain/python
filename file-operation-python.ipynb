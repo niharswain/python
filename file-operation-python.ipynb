{
 "cells": [
  {
   "cell_type": "code",
   "execution_count": 16,
   "id": "1d15dd6b",
   "metadata": {},
   "outputs": [
    {
     "name": "stdout",
     "output_type": "stream",
     "text": [
      "Hi, \n",
      "My Name is Nihar.\n",
      "This file is for testing ourpose and my name is Nihar.\n",
      "Thank You\n",
      "Bye bye\n",
      "\n"
     ]
    }
   ],
   "source": [
    "# execute this cript using python fio-file-operation.py\n",
    "\n",
    "my_file = open (r\"C:\\Users\\nihar\\PycharmProjects\\Python-scripts-examples\\a.txt\")\n",
    "print(my_file.read())  # it will read the file and get the curser at the end\n"
   ]
  },
  {
   "cell_type": "code",
   "execution_count": 17,
   "id": "f89e775e",
   "metadata": {},
   "outputs": [
    {
     "name": "stdout",
     "output_type": "stream",
     "text": [
      "Hi, \n",
      "My Name is Nihar.\n",
      "This file is for testing ourpose and my name is Nihar.\n",
      "Thank You\n",
      "Bye bye\n",
      "\n",
      "\n",
      "\n"
     ]
    }
   ],
   "source": [
    "my_file = open (r\"C:\\Users\\nihar\\PycharmProjects\\Python-scripts-examples\\a.txt\")\n",
    "print(my_file.read())  # it will read the file and get the curser at the end\n",
    "print(my_file.read())  # if you again read the file it will not re write, it will just add a space in the console\n",
    "print(my_file.read())"
   ]
  },
  {
   "cell_type": "code",
   "execution_count": 19,
   "id": "d11d4a12",
   "metadata": {},
   "outputs": [
    {
     "name": "stdout",
     "output_type": "stream",
     "text": [
      "Hi, \n",
      "My Name is Nihar.\n",
      "This file is for testing ourpose and my name is Nihar.\n",
      "Thank You\n",
      "Bye bye\n",
      "\n",
      "\n",
      "Hi, \n",
      "My Name is Nihar.\n",
      "This file is for testing ourpose and my name is Nihar.\n",
      "Thank You\n",
      "Bye bye\n",
      "\n"
     ]
    }
   ],
   "source": [
    "# If you want to read it again  use seek\n",
    "my_file = open (r\"C:\\Users\\nihar\\PycharmProjects\\Python-scripts-examples\\a.txt\")\n",
    "print(my_file.read())  # it will read the file and get the curser at the end\n",
    "print(my_file.read())  # if you again read the file it will not re write, it will just add a space in the console\n",
    "my_file.seek(0)\n",
    "print(my_file.read())\n",
    "\n",
    "# how it works. When you read a file, the cursore moves to the end of the file. If you read the file again, that time cursor will be in the end of teh file index . so it will print blank space.\n",
    "# if you want to read teh file again you have to use seek(0). it means , move the curose to index 0. index 0 means start of teh file.\n"
   ]
  },
  {
   "cell_type": "code",
   "execution_count": 20,
   "id": "d7f19a27",
   "metadata": {},
   "outputs": [
    {
     "name": "stdout",
     "output_type": "stream",
     "text": [
      "Hi, \n",
      "\n"
     ]
    }
   ],
   "source": [
    "# read a line\n",
    "my_file = open (r\"C:\\Users\\nihar\\PycharmProjects\\Python-scripts-examples\\a.txt\")\n",
    "\n",
    "print(my_file.readline())"
   ]
  },
  {
   "cell_type": "code",
   "execution_count": 23,
   "id": "6ae87d83",
   "metadata": {},
   "outputs": [
    {
     "name": "stdout",
     "output_type": "stream",
     "text": [
      "Hi, \n",
      "\n",
      "My Name is Nihar.\n",
      "\n",
      "This file is for testing ourpose and my name is Nihar.\n",
      "\n"
     ]
    }
   ],
   "source": [
    "# read a line\n",
    "my_file = open (r\"C:\\Users\\nihar\\PycharmProjects\\Python-scripts-examples\\a.txt\")\n",
    "\n",
    "print(my_file.readline())\n",
    "print(my_file.readline())\n",
    "print(my_file.readline())"
   ]
  },
  {
   "cell_type": "code",
   "execution_count": 25,
   "id": "cce758d9",
   "metadata": {},
   "outputs": [
    {
     "name": "stdout",
     "output_type": "stream",
     "text": [
      "['Hi, \\n', 'My Name is Nihar.\\n', 'This file is for testing ourpose and my name is Nihar.\\n', 'Thank You\\n', 'Bye bye\\n']\n"
     ]
    }
   ],
   "source": [
    "# read a line\n",
    "my_file = open (r\"C:\\Users\\nihar\\PycharmProjects\\Python-scripts-examples\\a.txt\")\n",
    "\n",
    "print(my_file.readlines())  # here we have used readlines, not readline. there is s after readline. it will put the line in a list"
   ]
  },
  {
   "cell_type": "code",
   "execution_count": 26,
   "id": "1e10c765",
   "metadata": {},
   "outputs": [
    {
     "name": "stdout",
     "output_type": "stream",
     "text": [
      "Hi, \n",
      "\n"
     ]
    }
   ],
   "source": [
    "# you have to close the file always after opening the file\n",
    "my_file = open (r\"C:\\Users\\nihar\\PycharmProjects\\Python-scripts-examples\\a.txt\")\n",
    "\n",
    "print(my_file.readline())\n",
    "my_file.close()  "
   ]
  },
  {
   "cell_type": "code",
   "execution_count": 28,
   "id": "d7ae5812",
   "metadata": {},
   "outputs": [
    {
     "name": "stdout",
     "output_type": "stream",
     "text": [
      "['Hi, \\n', 'My Name is Nihar.\\n', 'This file is for testing ourpose and my name is Nihar.\\n', 'Thank You\\n', 'Bye bye\\n']\n"
     ]
    }
   ],
   "source": [
    "# but this the standard process of reading a file.\n",
    "with open (r\"C:\\Users\\nihar\\PycharmProjects\\Python-scripts-examples\\a.txt\") as my_file:\n",
    "    print(my_file.readlines())"
   ]
  },
  {
   "cell_type": "code",
   "execution_count": 30,
   "id": "5eb5032d",
   "metadata": {},
   "outputs": [
    {
     "name": "stdout",
     "output_type": "stream",
     "text": [
      "['Hi, \\n', 'My Name is Nihar.\\n', 'This file is for testing ourpose and my name is Nihar.\\n', 'Thank You\\n', 'Bye bye\\n']\n"
     ]
    }
   ],
   "source": [
    "# there are diffrent modes\n",
    "with open (r\"C:\\Users\\nihar\\PycharmProjects\\Python-scripts-examples\\a.txt\", mode='r') as my_file:\n",
    "    print(my_file.readlines())"
   ]
  },
  {
   "cell_type": "code",
   "execution_count": 34,
   "id": "5bd09533",
   "metadata": {},
   "outputs": [
    {
     "name": "stdout",
     "output_type": "stream",
     "text": [
      "36\n",
      "['this line was added in the programmefor testing ourpose and my name is Nihar.\\n', 'Thank You\\n', 'Bye bye\\n', 'this line was added in the programme']\n"
     ]
    }
   ],
   "source": [
    "# if you wabnt to write a file\n",
    "with open (r\"C:\\Users\\nihar\\PycharmProjects\\Python-scripts-examples\\a.txt\", mode='r+') as my_file:\n",
    "    text=my_file.write('this line was added in the programme')\n",
    "    print(text) # this shows how many chars added\n",
    "    print(my_file.readlines())"
   ]
  },
  {
   "cell_type": "code",
   "execution_count": 46,
   "id": "d50630ac",
   "metadata": {},
   "outputs": [
    {
     "name": "stdout",
     "output_type": "stream",
     "text": [
      "46\n"
     ]
    },
    {
     "ename": "UnsupportedOperation",
     "evalue": "not readable",
     "output_type": "error",
     "traceback": [
      "\u001b[1;31m---------------------------------------------------------------------------\u001b[0m",
      "\u001b[1;31mUnsupportedOperation\u001b[0m                      Traceback (most recent call last)",
      "Cell \u001b[1;32mIn[46], line 5\u001b[0m\n\u001b[0;32m      3\u001b[0m text\u001b[38;5;241m=\u001b[39mmy_file\u001b[38;5;241m.\u001b[39mwrite(\u001b[38;5;124m'\u001b[39m\u001b[38;5;124mthis line was added in the programme by w mode\u001b[39m\u001b[38;5;124m'\u001b[39m) \n\u001b[0;32m      4\u001b[0m \u001b[38;5;28mprint\u001b[39m(text) \u001b[38;5;66;03m# this shows how many chars added\u001b[39;00m\n\u001b[1;32m----> 5\u001b[0m \u001b[38;5;28mprint\u001b[39m(\u001b[43mmy_file\u001b[49m\u001b[38;5;241;43m.\u001b[39;49m\u001b[43mreadline\u001b[49m\u001b[43m(\u001b[49m\u001b[43m)\u001b[49m)\n\u001b[0;32m      6\u001b[0m my_file\u001b[38;5;241m.\u001b[39mclose()\n",
      "\u001b[1;31mUnsupportedOperation\u001b[0m: not readable"
     ]
    }
   ],
   "source": [
    "# you can use w mode, but it will delete old data and add new line\n",
    "with open (r\"C:\\Users\\nihar\\PycharmProjects\\Python-scripts-examples\\a.txt\", mode='a') as my_file:\n",
    "    text=my_file.write('this line was added in the programme by w mode') \n",
    "    print(text) # this shows how many chars added\n",
    "    print(my_file.readline())\n",
    "    my_file.close()  "
   ]
  },
  {
   "cell_type": "code",
   "execution_count": 52,
   "id": "3fea189d",
   "metadata": {},
   "outputs": [
    {
     "name": "stdout",
     "output_type": "stream",
     "text": [
      "47\n",
      "this line was added in the programme by w modethis line was added in the programme by w modethis line was added in the programme by w modethis line was added in the programme by w modethis line was added in the programme by a modethis line was added in the programme by w mode\n"
     ]
    }
   ],
   "source": [
    "# you can use a mode, but it will appended \n",
    "with open (r\"C:\\Users\\nihar\\PycharmProjects\\Python-scripts-examples\\a.txt\", mode='r+') as my_file:\n",
    "    text=my_file.write('this line was added in the programme by r+ mode') \n",
    "    print(text) # this shows how many chars added\n",
    "    print(my_file.readline())"
   ]
  },
  {
   "cell_type": "code",
   "execution_count": 53,
   "id": "12d2c9e9",
   "metadata": {},
   "outputs": [
    {
     "name": "stdout",
     "output_type": "stream",
     "text": [
      "this line was added in the programme by w modethis line was added in the programme by w modethis line was added in the programme by w modethis line was added in the programme by w modethis line was added in the programme by a modethis line was added in the programme by w modethis line was added in the programme by r+ mode\n"
     ]
    }
   ],
   "source": [
    "# you can use a mode, but it will appended \n",
    "with open (r\"C:\\Users\\nihar\\PycharmProjects\\Python-scripts-examples\\a.txt\", mode='r') as my_file:\n",
    "    print(my_file.read())\n"
   ]
  },
  {
   "cell_type": "code",
   "execution_count": 57,
   "id": "2a6ad416",
   "metadata": {},
   "outputs": [
    {
     "name": "stdout",
     "output_type": "stream",
     "text": [
      "IO error\n"
     ]
    },
    {
     "ename": "FileExistsError",
     "evalue": "[Errno 17] File exists: 'C:\\\\Users\\\\nihar\\\\PycharmProjects\\\\Python-scripts-examples\\\\a.txt1'",
     "output_type": "error",
     "traceback": [
      "\u001b[1;31m---------------------------------------------------------------------------\u001b[0m",
      "\u001b[1;31mFileExistsError\u001b[0m                           Traceback (most recent call last)",
      "Cell \u001b[1;32mIn[57], line 11\u001b[0m\n\u001b[0;32m      9\u001b[0m \u001b[38;5;28;01mexcept\u001b[39;00m \u001b[38;5;167;01mIOError\u001b[39;00m \u001b[38;5;28;01mas\u001b[39;00m err2:\n\u001b[0;32m     10\u001b[0m     \u001b[38;5;28mprint\u001b[39m(\u001b[38;5;124m'\u001b[39m\u001b[38;5;124mIO error\u001b[39m\u001b[38;5;124m'\u001b[39m)\n\u001b[1;32m---> 11\u001b[0m     \u001b[38;5;28;01mraise\u001b[39;00m err2\n",
      "Cell \u001b[1;32mIn[57], line 2\u001b[0m\n\u001b[0;32m      1\u001b[0m \u001b[38;5;28;01mtry\u001b[39;00m:\n\u001b[1;32m----> 2\u001b[0m     \u001b[38;5;28;01mwith\u001b[39;00m \u001b[38;5;28;43mopen\u001b[39;49m\u001b[43m(\u001b[49m\u001b[38;5;124;43mr\u001b[39;49m\u001b[38;5;124;43m\"\u001b[39;49m\u001b[38;5;124;43mC:\u001b[39;49m\u001b[38;5;124;43m\\\u001b[39;49m\u001b[38;5;124;43mUsers\u001b[39;49m\u001b[38;5;124;43m\\\u001b[39;49m\u001b[38;5;124;43mnihar\u001b[39;49m\u001b[38;5;124;43m\\\u001b[39;49m\u001b[38;5;124;43mPycharmProjects\u001b[39;49m\u001b[38;5;124;43m\\\u001b[39;49m\u001b[38;5;124;43mPython-scripts-examples\u001b[39;49m\u001b[38;5;124;43m\\\u001b[39;49m\u001b[38;5;124;43ma.txt1\u001b[39;49m\u001b[38;5;124;43m\"\u001b[39;49m\u001b[43m,\u001b[49m\u001b[43m \u001b[49m\u001b[43mmode\u001b[49m\u001b[38;5;241;43m=\u001b[39;49m\u001b[38;5;124;43m'\u001b[39;49m\u001b[38;5;124;43mx\u001b[39;49m\u001b[38;5;124;43m'\u001b[39;49m\u001b[43m)\u001b[49m \u001b[38;5;28;01mas\u001b[39;00m my_file:\n\u001b[0;32m      3\u001b[0m         \u001b[38;5;28mprint\u001b[39m(my_file\u001b[38;5;241m.\u001b[39mread())\n\u001b[0;32m      6\u001b[0m \u001b[38;5;28;01mexcept\u001b[39;00m \u001b[38;5;167;01mFileNotFoundError\u001b[39;00m \u001b[38;5;28;01mas\u001b[39;00m err:\n",
      "File \u001b[1;32m~\\anaconda3\\lib\\site-packages\\IPython\\core\\interactiveshell.py:282\u001b[0m, in \u001b[0;36m_modified_open\u001b[1;34m(file, *args, **kwargs)\u001b[0m\n\u001b[0;32m    275\u001b[0m \u001b[38;5;28;01mif\u001b[39;00m file \u001b[38;5;129;01min\u001b[39;00m {\u001b[38;5;241m0\u001b[39m, \u001b[38;5;241m1\u001b[39m, \u001b[38;5;241m2\u001b[39m}:\n\u001b[0;32m    276\u001b[0m     \u001b[38;5;28;01mraise\u001b[39;00m \u001b[38;5;167;01mValueError\u001b[39;00m(\n\u001b[0;32m    277\u001b[0m         \u001b[38;5;124mf\u001b[39m\u001b[38;5;124m\"\u001b[39m\u001b[38;5;124mIPython won\u001b[39m\u001b[38;5;124m'\u001b[39m\u001b[38;5;124mt let you open fd=\u001b[39m\u001b[38;5;132;01m{\u001b[39;00mfile\u001b[38;5;132;01m}\u001b[39;00m\u001b[38;5;124m by default \u001b[39m\u001b[38;5;124m\"\u001b[39m\n\u001b[0;32m    278\u001b[0m         \u001b[38;5;124m\"\u001b[39m\u001b[38;5;124mas it is likely to crash IPython. If you know what you are doing, \u001b[39m\u001b[38;5;124m\"\u001b[39m\n\u001b[0;32m    279\u001b[0m         \u001b[38;5;124m\"\u001b[39m\u001b[38;5;124myou can use builtins\u001b[39m\u001b[38;5;124m'\u001b[39m\u001b[38;5;124m open.\u001b[39m\u001b[38;5;124m\"\u001b[39m\n\u001b[0;32m    280\u001b[0m     )\n\u001b[1;32m--> 282\u001b[0m \u001b[38;5;28;01mreturn\u001b[39;00m io_open(file, \u001b[38;5;241m*\u001b[39margs, \u001b[38;5;241m*\u001b[39m\u001b[38;5;241m*\u001b[39mkwargs)\n",
      "\u001b[1;31mFileExistsError\u001b[0m: [Errno 17] File exists: 'C:\\\\Users\\\\nihar\\\\PycharmProjects\\\\Python-scripts-examples\\\\a.txt1'"
     ]
    }
   ],
   "source": [
    "try:\n",
    "    with open(r\"C:\\Users\\nihar\\PycharmProjects\\Python-scripts-examples\\a.txt1\", mode='x') as my_file:\n",
    "        print(my_file.read())\n",
    "\n",
    "\n",
    "except FileNotFoundError as err:\n",
    "    print('file does not exist')\n",
    "    raise err\n",
    "except IOError as err2:\n",
    "    print('IO error')\n",
    "    raise err2\n"
   ]
  },
  {
   "cell_type": "code",
   "execution_count": 58,
   "id": "7e43e15c",
   "metadata": {},
   "outputs": [
    {
     "ename": "ModuleNotFoundError",
     "evalue": "No module named 'translate'",
     "output_type": "error",
     "traceback": [
      "\u001b[1;31m---------------------------------------------------------------------------\u001b[0m",
      "\u001b[1;31mModuleNotFoundError\u001b[0m                       Traceback (most recent call last)",
      "Cell \u001b[1;32mIn[58], line 1\u001b[0m\n\u001b[1;32m----> 1\u001b[0m \u001b[38;5;28;01mfrom\u001b[39;00m \u001b[38;5;21;01mtranslate\u001b[39;00m \u001b[38;5;28;01mimport\u001b[39;00m Translator\n\u001b[0;32m      2\u001b[0m translator\u001b[38;5;241m=\u001b[39mTranslator(to_lang\u001b[38;5;241m=\u001b[39m\u001b[38;5;124m'\u001b[39m\u001b[38;5;124mja\u001b[39m\u001b[38;5;124m'\u001b[39m)\n\u001b[0;32m      3\u001b[0m \u001b[38;5;28;01mtry\u001b[39;00m:\n",
      "\u001b[1;31mModuleNotFoundError\u001b[0m: No module named 'translate'"
     ]
    }
   ],
   "source": [
    "from translate import Translator\n",
    "translator=Translator(to_lang='ja')\n",
    "try:\n",
    "    with open('a.txt',mode='r') as my_file:\n",
    "        text = my_file.read()\n",
    "        translation = translator.translate(text)\n",
    "        print(translation)\n",
    "except FileNotFoundError as e:\n",
    "    print('FIle does not exist')"
   ]
  },
  {
   "cell_type": "code",
   "execution_count": 59,
   "id": "939c365d",
   "metadata": {},
   "outputs": [
    {
     "ename": "ModuleNotFoundError",
     "evalue": "No module named 'translate'",
     "output_type": "error",
     "traceback": [
      "\u001b[1;31m---------------------------------------------------------------------------\u001b[0m",
      "\u001b[1;31mModuleNotFoundError\u001b[0m                       Traceback (most recent call last)",
      "Cell \u001b[1;32mIn[59], line 1\u001b[0m\n\u001b[1;32m----> 1\u001b[0m \u001b[38;5;28;01mfrom\u001b[39;00m \u001b[38;5;21;01mtranslate\u001b[39;00m \u001b[38;5;28;01mimport\u001b[39;00m Translator\n\u001b[0;32m      2\u001b[0m translator\u001b[38;5;241m=\u001b[39mTranslator(to_lang\u001b[38;5;241m=\u001b[39m\u001b[38;5;124m'\u001b[39m\u001b[38;5;124mja\u001b[39m\u001b[38;5;124m'\u001b[39m)\n\u001b[0;32m      3\u001b[0m \u001b[38;5;28;01mtry\u001b[39;00m:\n",
      "\u001b[1;31mModuleNotFoundError\u001b[0m: No module named 'translate'"
     ]
    }
   ],
   "source": [
    "from translate import Translator\n",
    "translator=Translator(to_lang='ja')\n",
    "try:\n",
    "    with open('a.txt',mode='r') as my_file:\n",
    "        text = my_file.read()\n",
    "        translation = translator.translate(text)\n",
    "        print(translation)\n",
    "except FileNotFoundError as e:\n",
    "    print('FIle does not exist')"
   ]
  },
  {
   "cell_type": "code",
   "execution_count": null,
   "id": "11afd834",
   "metadata": {},
   "outputs": [],
   "source": []
  }
 ],
 "metadata": {
  "kernelspec": {
   "display_name": "Python 3 (ipykernel)",
   "language": "python",
   "name": "python3"
  },
  "language_info": {
   "codemirror_mode": {
    "name": "ipython",
    "version": 3
   },
   "file_extension": ".py",
   "mimetype": "text/x-python",
   "name": "python",
   "nbconvert_exporter": "python",
   "pygments_lexer": "ipython3",
   "version": "3.10.9"
  }
 },
 "nbformat": 4,
 "nbformat_minor": 5
}
