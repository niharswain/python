{
 "cells": [
  {
   "cell_type": "markdown",
   "id": "833cfac4",
   "metadata": {},
   "source": [
    "# Error Handling\n",
    "\n",
    "- Any error that crasshes our programe is called exception.\n",
    "- https://docs.python.org/3/library/exceptions.html\n"
   ]
  },
  {
   "cell_type": "code",
   "execution_count": 2,
   "id": "cf287e9e",
   "metadata": {},
   "outputs": [
    {
     "name": "stdout",
     "output_type": "stream",
     "text": [
      "what is your age?10\n",
      "10\n"
     ]
    }
   ],
   "source": [
    "# error handling\n",
    "age=int(input('what is your age?'))\n",
    "print(age)\n"
   ]
  },
  {
   "cell_type": "code",
   "execution_count": 1,
   "id": "f2305259",
   "metadata": {},
   "outputs": [
    {
     "name": "stdout",
     "output_type": "stream",
     "text": [
      "what is your age?9\n",
      "9\n",
      "thank you\n"
     ]
    }
   ],
   "source": [
    "# error handling\n",
    "\n",
    "while True:\n",
    "    try:\n",
    "        age=int(input('what is your age?'))\n",
    "        print(age)\n",
    "    except:\n",
    "        print('please enter a number')\n",
    "    else:\n",
    "        print('thank you')\n",
    "        break\n",
    "    "
   ]
  },
  {
   "cell_type": "code",
   "execution_count": 3,
   "id": "8cf1e103",
   "metadata": {},
   "outputs": [
    {
     "name": "stdout",
     "output_type": "stream",
     "text": [
      "what is your age?0\n"
     ]
    },
    {
     "ename": "ZeroDivisionError",
     "evalue": "division by zero",
     "output_type": "error",
     "traceback": [
      "\u001b[1;31m---------------------------------------------------------------------------\u001b[0m",
      "\u001b[1;31mZeroDivisionError\u001b[0m                         Traceback (most recent call last)",
      "Cell \u001b[1;32mIn[3], line 4\u001b[0m\n\u001b[0;32m      2\u001b[0m \u001b[38;5;28;01mtry\u001b[39;00m:\n\u001b[0;32m      3\u001b[0m     age\u001b[38;5;241m=\u001b[39m\u001b[38;5;28mint\u001b[39m(\u001b[38;5;28minput\u001b[39m(\u001b[38;5;124m'\u001b[39m\u001b[38;5;124mwhat is your age?\u001b[39m\u001b[38;5;124m'\u001b[39m))\n\u001b[1;32m----> 4\u001b[0m     \u001b[38;5;241;43m10\u001b[39;49m\u001b[38;5;241;43m/\u001b[39;49m\u001b[43mage\u001b[49m\n\u001b[0;32m      5\u001b[0m \u001b[38;5;28;01mexcept\u001b[39;00m \u001b[38;5;167;01mValueError\u001b[39;00m:\n\u001b[0;32m      6\u001b[0m     \u001b[38;5;28mprint\u001b[39m(\u001b[38;5;124m'\u001b[39m\u001b[38;5;124mplease enter a number\u001b[39m\u001b[38;5;124m'\u001b[39m)\n",
      "\u001b[1;31mZeroDivisionError\u001b[0m: division by zero"
     ]
    }
   ],
   "source": [
    "while True:\n",
    "    try:\n",
    "        age=int(input('what is your age?'))\n",
    "        10/age\n",
    "    except ValueError:\n",
    "        print('please enter a number')\n",
    "    else:\n",
    "        print('thank you')\n",
    "        break"
   ]
  },
  {
   "cell_type": "code",
   "execution_count": 4,
   "id": "d1aa31c1",
   "metadata": {},
   "outputs": [
    {
     "name": "stdout",
     "output_type": "stream",
     "text": [
      "what is your age?0\n",
      "please type more than 0\n",
      "what is your age?5\n",
      "thank you\n"
     ]
    }
   ],
   "source": [
    "# how to handle zero division error\n",
    "while True:\n",
    "    try:\n",
    "        age=int(input('what is your age?'))\n",
    "        10/age\n",
    "    except ValueError:\n",
    "        print('please enter a number')\n",
    "    except ZeroDivisionError:\n",
    "        print ('please type more than 0')\n",
    "    else:\n",
    "        print('thank you')\n",
    "        break"
   ]
  },
  {
   "cell_type": "code",
   "execution_count": 5,
   "id": "50260943",
   "metadata": {},
   "outputs": [
    {
     "ename": "TypeError",
     "evalue": "can only concatenate str (not \"int\") to str",
     "output_type": "error",
     "traceback": [
      "\u001b[1;31m---------------------------------------------------------------------------\u001b[0m",
      "\u001b[1;31mTypeError\u001b[0m                                 Traceback (most recent call last)",
      "Cell \u001b[1;32mIn[5], line 4\u001b[0m\n\u001b[0;32m      1\u001b[0m \u001b[38;5;28;01mdef\u001b[39;00m \u001b[38;5;21msum\u001b[39m(num1, num2):\n\u001b[0;32m      2\u001b[0m   \u001b[38;5;28;01mreturn\u001b[39;00m num1\u001b[38;5;241m+\u001b[39mnum2\n\u001b[1;32m----> 4\u001b[0m \u001b[38;5;28mprint\u001b[39m(\u001b[38;5;28;43msum\u001b[39;49m\u001b[43m(\u001b[49m\u001b[38;5;124;43m'\u001b[39;49m\u001b[38;5;124;43m1\u001b[39;49m\u001b[38;5;124;43m'\u001b[39;49m\u001b[43m,\u001b[49m\u001b[38;5;241;43m2\u001b[39;49m\u001b[43m)\u001b[49m)\n",
      "Cell \u001b[1;32mIn[5], line 2\u001b[0m, in \u001b[0;36msum\u001b[1;34m(num1, num2)\u001b[0m\n\u001b[0;32m      1\u001b[0m \u001b[38;5;28;01mdef\u001b[39;00m \u001b[38;5;21msum\u001b[39m(num1, num2):\n\u001b[1;32m----> 2\u001b[0m   \u001b[38;5;28;01mreturn\u001b[39;00m \u001b[43mnum1\u001b[49m\u001b[38;5;241;43m+\u001b[39;49m\u001b[43mnum2\u001b[49m\n",
      "\u001b[1;31mTypeError\u001b[0m: can only concatenate str (not \"int\") to str"
     ]
    }
   ],
   "source": [
    "# how to handle this error\n",
    "def sum(num1, num2):\n",
    "  return num1+num2\n",
    "\n",
    "print(sum('1',2))"
   ]
  },
  {
   "cell_type": "code",
   "execution_count": 6,
   "id": "27d76cc5",
   "metadata": {},
   "outputs": [
    {
     "name": "stdout",
     "output_type": "stream",
     "text": [
      "please enter numbers\n",
      "None\n"
     ]
    }
   ],
   "source": [
    "\n",
    "def sum(num1, num2):\n",
    "  try:\n",
    "    return num1+num2\n",
    "  except TypeError:\n",
    "    print('please enter numbers')\n",
    "\n",
    "print(sum('1',2))"
   ]
  },
  {
   "cell_type": "code",
   "execution_count": 7,
   "id": "7bea8992",
   "metadata": {},
   "outputs": [
    {
     "name": "stdout",
     "output_type": "stream",
     "text": [
      "can only concatenate str (not \"int\") to str\n",
      "None\n"
     ]
    }
   ],
   "source": [
    "def sum(num1, num2):\n",
    "  try:\n",
    "    return num1+num2\n",
    "  except TypeError as err:  # this will print error.\n",
    "    print(err)\n",
    "\n",
    "print(sum('1',2))"
   ]
  },
  {
   "cell_type": "code",
   "execution_count": 9,
   "id": "f96c41a3",
   "metadata": {},
   "outputs": [
    {
     "name": "stdout",
     "output_type": "stream",
     "text": [
      "division by zero\n",
      "None\n"
     ]
    }
   ],
   "source": [
    "def sum(num1, num2):\n",
    "  try:\n",
    "    return num1/num2\n",
    "  except (TypeError, ZeroDivisionError) as err:  # Handling multiple exception\n",
    "    print(err)\n",
    "\n",
    "print(sum(1,0))"
   ]
  },
  {
   "cell_type": "code",
   "execution_count": 10,
   "id": "a277bd06",
   "metadata": {},
   "outputs": [
    {
     "name": "stdout",
     "output_type": "stream",
     "text": [
      "what is your age?0\n",
      "please type more than 0\n",
      "ok, I am finally done\n",
      "what is your age?9\n",
      "thank you\n",
      "ok, I am finally done\n"
     ]
    }
   ],
   "source": [
    "while True:\n",
    "    try:\n",
    "        age=int(input('what is your age?'))\n",
    "        10/age\n",
    "    except ValueError:\n",
    "        print('please enter a number')\n",
    "    except ZeroDivisionError:\n",
    "        print ('please type more than 0')\n",
    "    else:\n",
    "        print('thank you')\n",
    "        break\n",
    "    finally:\n",
    "        print('ok, I am finally done')\n",
    "  "
   ]
  },
  {
   "cell_type": "code",
   "execution_count": 11,
   "id": "0db6c7b2",
   "metadata": {},
   "outputs": [
    {
     "name": "stdout",
     "output_type": "stream",
     "text": [
      "what is your age?\n",
      "please enter a number\n",
      "ok, I am finally done\n",
      "what is your age?0\n",
      "please type more than 0\n",
      "ok, I am finally done\n"
     ]
    }
   ],
   "source": [
    "while True:\n",
    "    try:\n",
    "        age=int(input('what is your age?'))\n",
    "        10/age\n",
    "    except ValueError:\n",
    "        print('please enter a number')\n",
    "        continue\n",
    "    except ZeroDivisionError:\n",
    "        print ('please type more than 0')\n",
    "        break\n",
    "    else:\n",
    "        print('thank you')\n",
    "    finally:\n",
    "        print('ok, I am finally done')\n",
    "    print('can you hear me?')\n",
    "  "
   ]
  },
  {
   "cell_type": "code",
   "execution_count": null,
   "id": "e46d6678",
   "metadata": {},
   "outputs": [],
   "source": []
  }
 ],
 "metadata": {
  "kernelspec": {
   "display_name": "Python 3 (ipykernel)",
   "language": "python",
   "name": "python3"
  },
  "language_info": {
   "codemirror_mode": {
    "name": "ipython",
    "version": 3
   },
   "file_extension": ".py",
   "mimetype": "text/x-python",
   "name": "python",
   "nbconvert_exporter": "python",
   "pygments_lexer": "ipython3",
   "version": "3.10.9"
  }
 },
 "nbformat": 4,
 "nbformat_minor": 5
}
